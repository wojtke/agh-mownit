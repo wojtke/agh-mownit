{
 "cells": [
  {
   "cell_type": "code",
   "execution_count": 1,
   "id": "72786a29-625b-40d3-a691-f2a785ff2972",
   "metadata": {},
   "outputs": [],
   "source": [
    "import numpy as np\n",
    "from scipy.fftpack import dct\n",
    "import scipy\n",
    "from functools import lru_cache"
   ]
  },
  {
   "cell_type": "markdown",
   "id": "1f1b0999-3488-48fc-b034-96bf37019ad8",
   "metadata": {},
   "source": [
    "### Zadanie 1"
   ]
  },
  {
   "cell_type": "markdown",
   "id": "d632317e-4894-48a6-ad96-dcf2e29f5717",
   "metadata": {},
   "source": [
    "1. Zaimplementuj funkcję realizującą DFT jako iloczyn macierzy Fouriera Fn i nelementowego wektora wejściowego (y = Fn @ x)."
   ]
  },
  {
   "cell_type": "code",
   "execution_count": 2,
   "id": "d1c8d2d9-2896-429c-b1fa-2b60acb4f542",
   "metadata": {},
   "outputs": [],
   "source": [
    "def dzeta(n):\n",
    "    return lambda jk: np.cos(2*np.pi*jk/n) - 1.j*np.sin(2*np.pi*jk/n)\n",
    "def F(n):\n",
    "    jk_matrix = np.arange(n).reshape(-1,1) @ np.arange(n).reshape(1,-1)\n",
    "    return dzeta(n)(jk_matrix)\n",
    "def dft(x):\n",
    "    return F(len(x)) @ x"
   ]
  },
  {
   "cell_type": "code",
   "execution_count": 3,
   "id": "2d25b377-e9cd-4289-8241-b493af199f8c",
   "metadata": {},
   "outputs": [
    {
     "data": {
      "text/plain": [
       "(array([ -4, -10,   2,  -5,  -7,   0,  -5,   2,  -2,   7]),\n",
       " array([-22.        +0.00000000e+00j,   4.20820393+1.40210893e+01j,\n",
       "         -6.20820393+7.80020997e+00j,  -9.20820393+1.63067181e+01j,\n",
       "          7.20820393+1.92784005e+01j, -10.        -1.49406909e-14j,\n",
       "          7.20820393-1.92784005e+01j,  -9.20820393-1.63067181e+01j,\n",
       "         -6.20820393-7.80020997e+00j,   4.20820393-1.40210893e+01j]))"
      ]
     },
     "execution_count": 3,
     "metadata": {},
     "output_type": "execute_result"
    }
   ],
   "source": [
    "x = np.random.randint(-10, 10, 10)\n",
    "x, dft(x)"
   ]
  },
  {
   "cell_type": "code",
   "execution_count": 4,
   "id": "4970d695-5dd6-4469-893c-d55c68f01a4a",
   "metadata": {},
   "outputs": [
    {
     "data": {
      "text/plain": [
       "5.657194801626942e-14"
      ]
     },
     "execution_count": 4,
     "metadata": {},
     "output_type": "execute_result"
    }
   ],
   "source": [
    "np.linalg.norm(dft(x) - scipy.fft.fft(x))"
   ]
  },
  {
   "cell_type": "markdown",
   "id": "56c3df4f-4f86-48ad-bc9e-94aea81ccb74",
   "metadata": {},
   "source": [
    "Działa!"
   ]
  },
  {
   "cell_type": "markdown",
   "id": "7c6194f4-c912-4df5-942a-9c43708f5513",
   "metadata": {},
   "source": [
    "<br>2. Zaimplementuj również IDFT korzystając z tożsamosci [...]\n",
    "Sprawdź poprawność działania funkcji realizującej DFT stosując transformację odwrotną oraz porównując uzyskane wyniki z wyjściem funkcji bibliotecznej."
   ]
  },
  {
   "cell_type": "code",
   "execution_count": 5,
   "id": "8217fb52-4d58-460a-abd3-8dd2353e8270",
   "metadata": {},
   "outputs": [
    {
     "data": {
      "text/plain": [
       "array([-4.00000000e+00+4.26325641e-15j, -1.00000000e+01+3.90798505e-15j,\n",
       "        2.00000000e+00-3.01980663e-15j, -5.00000000e+00-2.44249065e-15j,\n",
       "       -7.00000000e+00-1.77635684e-16j,  2.48689958e-15-4.97379915e-15j,\n",
       "       -5.00000000e+00-5.68434189e-15j,  2.00000000e+00+1.17239551e-14j,\n",
       "       -2.00000000e+00+7.54951657e-16j,  7.00000000e+00-0.00000000e+00j])"
      ]
     },
     "execution_count": 5,
     "metadata": {},
     "output_type": "execute_result"
    }
   ],
   "source": [
    "def idft(y):\n",
    "    n = len(y)\n",
    "    con = np.conjugate\n",
    "    return con(F(n) @ con(y))/n\n",
    "y = dft(x)\n",
    "idft(y)"
   ]
  },
  {
   "cell_type": "code",
   "execution_count": 6,
   "id": "7f44f29b-6c1c-4662-bbde-262c2ddb49b6",
   "metadata": {},
   "outputs": [
    {
     "data": {
      "text/plain": [
       "(2.092758327340086e-14, 1.2689083873113277e-14)"
      ]
     },
     "execution_count": 6,
     "metadata": {},
     "output_type": "execute_result"
    }
   ],
   "source": [
    "np.linalg.norm(idft(y)-x), np.linalg.norm(idft(y)-scipy.fft.ifft(y))"
   ]
  },
  {
   "cell_type": "markdown",
   "id": "021d626f-6946-4819-b60d-257236bfbd54",
   "metadata": {},
   "source": [
    "Działa!"
   ]
  },
  {
   "cell_type": "markdown",
   "id": "8a32b078-e258-4517-94db-1e61fe7316b4",
   "metadata": {},
   "source": [
    "<br>\n",
    "3. Zaimplementuj rekurencyjny algorytm Cooleya-Turkeya realizujący szybką transformację Fouriera (FFT). Porównaj szybkość jego działania z implementacją biblioteczną oraz implementacją z mnożeniem wektora przez macierz Fn dla danych\n",
    "o różnym rozmiarze."
   ]
  },
  {
   "cell_type": "code",
   "execution_count": 39,
   "id": "9bac7ae6-d8e7-428b-9271-c6477e83d0ce",
   "metadata": {},
   "outputs": [],
   "source": [
    "@lru_cache\n",
    "def P(n):\n",
    "    per = np.concatenate([2*np.arange(n/2), 1+2*np.arange(n/2)]).astype(np.int32)\n",
    "    matrix = np.zeros((n,n))\n",
    "    matrix[np.arange(n, dtype=np.int32), per] = 1\n",
    "    return matrix\n",
    "\n",
    "@lru_cache\n",
    "def S(n):\n",
    "    return np.diag(dzeta(n)(np.arange(n/2)))\n",
    "\n",
    "@lru_cache\n",
    "def F_rec(n):\n",
    "        if n==2:\n",
    "            return np.array([[1, 1], [1, -1]])\n",
    "        Fh = F_rec(n//2)\n",
    "        SFh = S(n) @ Fh\n",
    "        return np.vstack([np.hstack([Fh, SFh]), np.hstack([Fh, -SFh])]) @ P(n)\n",
    "\n",
    "def fft(x):\n",
    "    return F_rec(len(x)) @ x"
   ]
  },
  {
   "cell_type": "markdown",
   "id": "7a3e9798-1609-44d0-913c-296b71546dc8",
   "metadata": {},
   "source": [
    "Cachuję wyniki funkcji zwracających macierze permutacji, macierze fouriera itd. - nie trzeba liczyć ich wielokrotnie."
   ]
  },
  {
   "cell_type": "code",
   "execution_count": 40,
   "id": "7f262d07-250d-4cb4-ae72-64745d7d73b5",
   "metadata": {},
   "outputs": [
    {
     "data": {
      "text/plain": [
       "array([ 21.         +0.j        ,  19.07106781 +6.17157288j,\n",
       "        -9.         +6.j        ,   4.92893219-11.82842712j,\n",
       "       -11.         +0.j        ,   4.92893219+11.82842712j,\n",
       "        -9.         -6.j        ,  19.07106781 -6.17157288j])"
      ]
     },
     "execution_count": 40,
     "metadata": {},
     "output_type": "execute_result"
    }
   ],
   "source": [
    "x = np.random.randint(-10,10,8)\n",
    "fft(x)"
   ]
  },
  {
   "cell_type": "code",
   "execution_count": 41,
   "id": "c734e6b2-1704-43c6-a32d-2577b128e0e7",
   "metadata": {},
   "outputs": [
    {
     "data": {
      "text/plain": [
       "array([ 21.         -0.j        ,  19.07106781 +6.17157288j,\n",
       "        -9.         +6.j        ,   4.92893219-11.82842712j,\n",
       "       -11.         -0.j        ,   4.92893219+11.82842712j,\n",
       "        -9.         -6.j        ,  19.07106781 -6.17157288j])"
      ]
     },
     "execution_count": 41,
     "metadata": {},
     "output_type": "execute_result"
    }
   ],
   "source": [
    "scipy.fft.fft(x)"
   ]
  },
  {
   "cell_type": "markdown",
   "id": "d1486353-f2a5-414f-94be-2ff14ca4282b",
   "metadata": {},
   "source": [
    "Wygląda na to, że działa."
   ]
  },
  {
   "cell_type": "code",
   "execution_count": 42,
   "id": "1db9f8f2-d8e8-4c58-aaee-1cb8b13b4c8d",
   "metadata": {},
   "outputs": [],
   "source": [
    "x = np.random.uniform(size=2**10)"
   ]
  },
  {
   "cell_type": "code",
   "execution_count": 43,
   "id": "a5b053bf-6b43-409b-9d40-7394cb9c7167",
   "metadata": {},
   "outputs": [
    {
     "name": "stdout",
     "output_type": "stream",
     "text": [
      "13.8 µs ± 136 ns per loop (mean ± std. dev. of 7 runs, 100,000 loops each)\n"
     ]
    }
   ],
   "source": [
    "%%timeit # scipy fft\n",
    "y = scipy.fft.fft(x)"
   ]
  },
  {
   "cell_type": "code",
   "execution_count": 44,
   "id": "c3c2d334-1930-4add-bac1-38fb2bd59b02",
   "metadata": {},
   "outputs": [
    {
     "name": "stdout",
     "output_type": "stream",
     "text": [
      "550 µs ± 20.6 µs per loop (mean ± std. dev. of 7 runs, 1,000 loops each)\n"
     ]
    }
   ],
   "source": [
    "%%timeit # moje fft\n",
    "y = fft(x)"
   ]
  },
  {
   "cell_type": "code",
   "execution_count": 45,
   "id": "243fcf90-0de2-42eb-a94d-eb3b6d81a3fa",
   "metadata": {},
   "outputs": [
    {
     "name": "stdout",
     "output_type": "stream",
     "text": [
      "41.2 ms ± 217 µs per loop (mean ± std. dev. of 7 runs, 10 loops each)\n"
     ]
    }
   ],
   "source": [
    "%%timeit # moje dft (kwadratowa złożoność)\n",
    "y = dft(x)"
   ]
  },
  {
   "cell_type": "markdown",
   "id": "a34d06ad-58b4-4f44-bc22-1f0a211081af",
   "metadata": {},
   "source": [
    "Implementacja scipy jest szybsza, ale nie jest źle. FFT jest oczywiście szybsze niż kwadratowe dft z punktu pierwszego."
   ]
  },
  {
   "cell_type": "code",
   "execution_count": null,
   "id": "d17a57ea-f144-4509-b878-7a2ca564e2a5",
   "metadata": {},
   "outputs": [],
   "source": []
  }
 ],
 "metadata": {
  "kernelspec": {
   "display_name": "Python 3 (ipykernel)",
   "language": "python",
   "name": "python3"
  },
  "language_info": {
   "codemirror_mode": {
    "name": "ipython",
    "version": 3
   },
   "file_extension": ".py",
   "mimetype": "text/x-python",
   "name": "python",
   "nbconvert_exporter": "python",
   "pygments_lexer": "ipython3",
   "version": "3.10.5"
  }
 },
 "nbformat": 4,
 "nbformat_minor": 5
}
