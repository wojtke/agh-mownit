{
 "cells": [
  {
   "cell_type": "code",
   "execution_count": 1,
   "id": "35046bba-89f2-4064-98ca-aa9663c860a0",
   "metadata": {},
   "outputs": [],
   "source": [
    "import numpy as np\n",
    "import scipy\n",
    "from time import time\n",
    "import seaborn as sns"
   ]
  },
  {
   "cell_type": "code",
   "execution_count": 2,
   "id": "a405a69d-a8b2-4a35-a682-ecb2a3ff590e",
   "metadata": {},
   "outputs": [
    {
     "data": {
      "text/plain": [
       "(array([[4, 3, 3, 3],\n",
       "        [1, 1, 1, 4],\n",
       "        [2, 2, 3, 1],\n",
       "        [4, 3, 4, 3]]),\n",
       " (array([10.62660855+0.j        ,  1.        +0.j        ,\n",
       "         -0.31330428+0.74870838j, -0.31330428-0.74870838j]),\n",
       "  array([[ 6.00065331e-01+0.j        ,  7.07106781e-01+0.j        ,\n",
       "          -2.51565880e-01-0.16634078j, -2.51565880e-01+0.16634078j],\n",
       "         [ 3.59488469e-01+0.j        ,  7.08801456e-16+0.j        ,\n",
       "           8.61537760e-01+0.j        ,  8.61537760e-01-0.j        ],\n",
       "         [ 3.34440253e-01+0.j        , -7.07106781e-01+0.j        ,\n",
       "          -3.17809267e-01-0.03529203j, -3.17809267e-01+0.03529203j],\n",
       "         [ 6.31537296e-01+0.j        , -4.77077903e-16+0.j        ,\n",
       "          -1.40521520e-01+0.21166834j, -1.40521520e-01-0.21166834j]])))"
      ]
     },
     "execution_count": 2,
     "metadata": {},
     "output_type": "execute_result"
    }
   ],
   "source": [
    "A = np.random.randint(1,5,size=(4,4))\n",
    "A, np.linalg.eig(A)"
   ]
  },
  {
   "cell_type": "code",
   "execution_count": 3,
   "id": "09d13567-2367-4dab-bf20-2e3dd49e0306",
   "metadata": {},
   "outputs": [],
   "source": [
    "def check_eig(A, value, vector):\n",
    "    assert np.linalg.norm(A@vector - value*vector)<1e-5*len(A)"
   ]
  },
  {
   "cell_type": "markdown",
   "id": "23783d61-5d79-4620-81e1-a1ef6919803c",
   "metadata": {},
   "source": [
    "### Zadanie 1"
   ]
  },
  {
   "cell_type": "code",
   "execution_count": 10,
   "id": "ee4b069d-7a1f-4740-8c2a-743bd7c12d5d",
   "metadata": {},
   "outputs": [
    {
     "data": {
      "text/plain": [
       "(7248.483198951282,\n",
       " array([0.02562787, 0.02657755, 0.02607693, ..., 0.02652801, 0.02670195,\n",
       "        0.02655866]))"
      ]
     },
     "execution_count": 10,
     "metadata": {},
     "output_type": "execute_result"
    }
   ],
   "source": [
    "def power_iteration(A, iters=10**2, epsilon=1e-5):\n",
    "    v = np.random.rand(A.shape[1])\n",
    "\n",
    "    for _ in range(iters):\n",
    "        v /= np.max(v)\n",
    "        \n",
    "        new_v = A@v\n",
    "        if np.linalg.norm(new_v-v)<epsilon:\n",
    "            break\n",
    "        else:\n",
    "            v = new_v\n",
    "\n",
    "    return np.abs(v).max(), v / np.linalg.norm(v)\n",
    "\n",
    "val, vec = power_iteration(A)\n",
    "check_eig(A, value=val, vector=vec)\n",
    "val, vec"
   ]
  },
  {
   "cell_type": "code",
   "execution_count": 12,
   "id": "e1dd44be-a57f-46a3-8bab-cbb385e7ca88",
   "metadata": {},
   "outputs": [
    {
     "data": {
      "text/plain": [
       "<AxesSubplot:xlabel='Matrix size', ylabel='Time (s)'>"
      ]
     },
     "execution_count": 12,
     "metadata": {},
     "output_type": "execute_result"
    },
    {
     "data": {
      "image/png": "[encoded data removed]",
      "text/plain": [
       "<Figure size 432x288 with 1 Axes>"
      ]
     },
     "metadata": {
      "needs_background": "light"
     },
     "output_type": "display_data"
    }
   ],
   "source": [
    "Y = []\n",
    "X = []\n",
    "for n in range(50,1500,50):\n",
    "    start = time()\n",
    "    A = np.random.randint(1,10,size=(n,n))\n",
    "    val, vec = power_iteration(A)\n",
    "    check_eig(A, value=val, vector=vec)\n",
    "    \n",
    "    Y.append(time()-start)\n",
    "    X.append(n)\n",
    "fig = sns.lineplot(x=X, y=Y)\n",
    "fig.set_xlabel('Matrix size')\n",
    "fig.set_ylabel('Time (s)')\n",
    "fig"
   ]
  },
  {
   "cell_type": "markdown",
   "id": "70905d23-0ffd-4891-b7da-e27326db807d",
   "metadata": {},
   "source": [
    "### Zadanie 2"
   ]
  },
  {
   "cell_type": "code",
   "execution_count": 52,
   "id": "2b5368e7-c2e1-4c8b-a029-ec083e564163",
   "metadata": {},
   "outputs": [
    {
     "data": {
      "text/plain": [
       "(array([[2, 4, 2, 1],\n",
       "        [4, 2, 2, 1],\n",
       "        [3, 4, 1, 1],\n",
       "        [2, 2, 3, 4]]),\n",
       " (array([ 9.31662479,  2.68337521, -2.        , -1.        ]),\n",
       "  array([[-0.45963043, -0.17883823, -0.49279811,  0.19975555],\n",
       "         [-0.45963043, -0.17883823,  0.69439733,  0.19975555],\n",
       "         [-0.45963043, -0.17883823, -0.49279811, -0.88463173],\n",
       "         [-0.60516081,  0.95081579,  0.17919931,  0.37097459]])))"
      ]
     },
     "execution_count": 52,
     "metadata": {},
     "output_type": "execute_result"
    }
   ],
   "source": [
    "A = np.random.randint(1,5,size=(4,4))\n",
    "A, np.linalg.eig(A)"
   ]
  },
  {
   "cell_type": "code",
   "execution_count": 56,
   "id": "e7ea3c27-3cd9-4981-acca-a27d35384fa7",
   "metadata": {},
   "outputs": [
    {
     "data": {
      "text/plain": [
       "array([ 0.49279811, -0.69439733,  0.49279811, -0.17919931])"
      ]
     },
     "execution_count": 56,
     "metadata": {},
     "output_type": "execute_result"
    }
   ],
   "source": [
    "def inverse_power_iteration(A, sigma, iters=10**5, epsilon=1e-5):\n",
    "    # P, L, U = scipy.linalg.lu(A - np.eye(len(A))*sigma)\n",
    "    v = np.random.rand(A.shape[1])\n",
    "\n",
    "    for _ in range(iters):\n",
    "        \n",
    "        v = np.linalg.inv(A - np.eye(len(A))*sigma)@v\n",
    "                  \n",
    "        v /= np.linalg.norm(v)\n",
    "\n",
    "    return v\n",
    "\n",
    "inverse_power_iteration(A, sigma=-2.04)"
   ]
  },
  {
   "cell_type": "code",
   "execution_count": null,
   "id": "8bba536e-9169-414a-b5a2-4ab1a5b68645",
   "metadata": {},
   "outputs": [],
   "source": []
  }
 ],
 "metadata": {
  "kernelspec": {
   "display_name": "Python 3 (ipykernel)",
   "language": "python",
   "name": "python3"
  },
  "language_info": {
   "codemirror_mode": {
    "name": "ipython",
    "version": 3
   },
   "file_extension": ".py",
   "mimetype": "text/x-python",
   "name": "python",
   "nbconvert_exporter": "python",
   "pygments_lexer": "ipython3",
   "version": "3.10.1"
  }
 },
 "nbformat": 4,
 "nbformat_minor": 5
}
