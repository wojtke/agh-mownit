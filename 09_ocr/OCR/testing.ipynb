{
 "cells": [
  {
   "cell_type": "code",
   "execution_count": null,
   "outputs": [],
   "source": [
    "from ocr import OCR"
   ],
   "metadata": {
    "collapsed": false,
    "pycharm": {
     "name": "#%%\n"
    }
   }
  },
  {
   "cell_type": "code",
   "execution_count": null,
   "id": "797fe165-b8d2-4b9c-a637-0b85c45d45dc",
   "metadata": {
    "pycharm": {
     "name": "#%%\n"
    }
   },
   "outputs": [],
   "source": [
    "FONT_FILE = ''\n",
    "CHARS =\n",
    "IMGS =\n",
    "TEXT ="
   ]
  },
  {
   "cell_type": "code",
   "execution_count": null,
   "outputs": [],
   "source": [
    "ocr = OCR(FONT_FILE)\n",
    "text = ocr.scan(args.image)"
   ],
   "metadata": {
    "collapsed": false,
    "pycharm": {
     "name": "#%%\n"
    }
   }
  },
  {
   "cell_type": "code",
   "execution_count": null,
   "outputs": [],
   "source": [
    "def count_letters(text, ref_text):\n",
    "    counter = {char: 0 for char in CHARS}\n",
    "    for letter in text:\n",
    "        if letter in counter:\n",
    "            counter[letter] += 1\n",
    "\n",
    "    return counter\n",
    "\n",
    "for (k, v), vr in zip(count_letters(text).items(), count_letters(ref_text).values()):\n",
    "    print(k, \"   \", v, \"/\", vr, sep=\"\")"
   ],
   "metadata": {
    "collapsed": false,
    "pycharm": {
     "name": "#%%\n"
    }
   }
  }
 ],
 "metadata": {
  "kernelspec": {
   "display_name": "Python 3 (ipykernel)",
   "language": "python",
   "name": "python3"
  },
  "language_info": {
   "codemirror_mode": {
    "name": "ipython",
    "version": 3
   },
   "file_extension": ".py",
   "mimetype": "text/x-python",
   "name": "python",
   "nbconvert_exporter": "python",
   "pygments_lexer": "ipython3",
   "version": "3.10.1"
  }
 },
 "nbformat": 4,
 "nbformat_minor": 5
}