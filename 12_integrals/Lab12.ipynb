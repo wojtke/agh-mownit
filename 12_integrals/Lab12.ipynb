{
 "cells": [
  {
   "cell_type": "code",
   "execution_count": 77,
   "id": "dacb58c8-9111-4c84-81e6-955fefb4d234",
   "metadata": {},
   "outputs": [],
   "source": [
    "import numpy as np\n",
    "import seaborn as sns\n",
    "import matplotlib.pyplot as plt\n",
    "import scipy"
   ]
  },
  {
   "cell_type": "code",
   "execution_count": 13,
   "id": "173a6913-5a1c-4b15-ae8f-ab26d93496f9",
   "metadata": {},
   "outputs": [],
   "source": [
    "def f1(x):\n",
    "    return np.exp(-x**2) * np.log(x)**2\n",
    "\n",
    "def f2(x):\n",
    "    return 1/(x**3-2*x-5)\n",
    "\n",
    "def f3(x):\n",
    "    return x**5 * np.exp(-x) * np.sin(x)\n",
    "\n",
    "def f4(x, y):\n",
    "    return 1/(np.sqrt(x+y)*(1+x+y))\n",
    "\n",
    "def f5(x, y):\n",
    "    return x**2 + y**2"
   ]
  },
  {
   "cell_type": "markdown",
   "id": "8d167e3f-a617-4b7d-81f5-b23996fa5ace",
   "metadata": {
    "tags": []
   },
   "source": [
    "### Zadanie 1 Próbki prędkości i przebyta droga\n",
    "Napisz funkcję, która przyjmuje dwa wektory o równej długości:\n",
    "- wektor prędkości chwilowych mierzonych prędkościomierzem (w km/h),\n",
    "- wektor czasu (w sekundach)\n",
    "\n",
    "a następnie oblicza przebytą drogę (w km) korzystając z metody trapezów (cumtrapz,\n",
    "trapezoid). Przedstaw przykładowe wyniki obliczeń za pomocą wykresów."
   ]
  },
  {
   "cell_type": "code",
   "execution_count": 84,
   "id": "3bec5200-7144-498f-a12b-37896204df7f",
   "metadata": {},
   "outputs": [],
   "source": [
    "def get_distance(v, t):\n",
    "    v /= 3.6 # km/h -> m/s\n",
    "    a = t - np.roll(t, 1)\n",
    "    h = (v + np.roll(v, 1))/2\n",
    "    \n",
    "    return (a*h)[1:].sum()/1000 # km"
   ]
  },
  {
   "cell_type": "code",
   "execution_count": 112,
   "id": "43f3e7f4-f628-4e51-966d-0c967177e7b3",
   "metadata": {},
   "outputs": [
    {
     "data": {
      "image/png": "[encoded data removed]",
      "text/plain": [
       "<Figure size 432x288 with 1 Axes>"
      ]
     },
     "metadata": {
      "needs_background": "light"
     },
     "output_type": "display_data"
    },
    {
     "name": "stdout",
     "output_type": "stream",
     "text": [
      "Distance:  10.8910014210503 km\n"
     ]
    }
   ],
   "source": [
    "v = np.array([10.]*50) + 100*f1(0.85+np.arange(50)/70)\n",
    "t = 60*np.linspace(0, 60, 50)\n",
    "\n",
    "distance = get_distance(v, t)\n",
    "mean_velocity = 1000*distance/(t[-1]-t[0])\n",
    "\n",
    "plt.plot(t, v)\n",
    "plt.fill_between(t, v, alpha=0.2)\n",
    "plt.hlines(mean_velocity, 0, np.max(t), color=\"red\", linestyle='dotted')\n",
    "plt.show()\n",
    "\n",
    "print(\"Distance: \", distance, \"km\")"
   ]
  },
  {
   "cell_type": "markdown",
   "id": "934dc4db-6454-44e8-8420-4842161c0478",
   "metadata": {},
   "source": [
    "### Zadanie 2 Złożona kwadratura Simpsona\n",
    "Napisz funkcję, która przyjmuje dwa wektory o równej długości:\n",
    "- wektor x - węzły równoodległe\n",
    "- wektor y - wartości funkcji\n",
    "\n",
    "a następnie oblicza wartość całki oznaczonej korzystając ze złożonej kwadratury Simp\u0002sona. Porównaj dokładność zaimplementowanej kwadratury z wybraną kwadraturą ad\u0002aptacyjną dla przykładowych funkcji i przedziałów całkowania."
   ]
  },
  {
   "cell_type": "code",
   "execution_count": null,
   "id": "6923a5f7-e2d6-4284-b2e0-7b87776a0977",
   "metadata": {},
   "outputs": [],
   "source": [
    "def simpson(x, y):\n",
    "    scipy.interpolate.lagrange(x, w)"
   ]
  },
  {
   "cell_type": "markdown",
   "id": "df556f27-5198-4cbd-81e0-0ad40a071ba0",
   "metadata": {},
   "source": [
    "### Zadanie 3 Oznaczone całki podwójne\n",
    "1. Oblicz wartość oznaczonej całki podwójnej dla funkcji f4(x, y) i podanych granic\n",
    "całkowania (integral2, dblquad)\n",
    "2. Oblicz wartość oznaczonej całki podwójnej dla funkcji f5(x, y) wykorzystując dwu\u0002krotnie metodę trapezów. Jak zmienia się dokładność względem liczby punktów\n",
    "siatki 2D? Przy jakim rozmiarze siatki dokładność jest podobna do dokładności\n",
    "uzyskanej za pomocą metody adapatacyjnej (integral2, dblquad))?"
   ]
  },
  {
   "cell_type": "code",
   "execution_count": null,
   "id": "fac5fe38-5c84-4600-b535-b116288c697d",
   "metadata": {},
   "outputs": [],
   "source": []
  }
 ],
 "metadata": {
  "kernelspec": {
   "display_name": "Python 3 (ipykernel)",
   "language": "python",
   "name": "python3"
  },
  "language_info": {
   "codemirror_mode": {
    "name": "ipython",
    "version": 3
   },
   "file_extension": ".py",
   "mimetype": "text/x-python",
   "name": "python",
   "nbconvert_exporter": "python",
   "pygments_lexer": "ipython3",
   "version": "3.10.1"
  }
 },
 "nbformat": 4,
 "nbformat_minor": 5
}
