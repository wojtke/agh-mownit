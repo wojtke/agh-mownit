{
 "cells": [
  {
   "cell_type": "code",
   "execution_count": 1,
   "id": "2ab2e62a-494c-4d2d-a413-8f0f89e06ada",
   "metadata": {},
   "outputs": [],
   "source": [
    "import numpy as np"
   ]
  },
  {
   "cell_type": "markdown",
   "id": "afc061c4-e602-4dd0-a87e-1fee11bad78a",
   "metadata": {},
   "source": [
    "1. Napisz funkcję dokonującą faktoryzacji QR macierzy A ∈ R n×n, A = [a1, a2, . . . , an]\n",
    "klasyczną metodą ortogonalizacji Grama-Schmidta:"
   ]
  },
  {
   "cell_type": "code",
   "execution_count": 2,
   "id": "0bc2292c-7320-4e47-a235-6ed161db5607",
   "metadata": {},
   "outputs": [],
   "source": [
    "def qr(A):\n",
    "    Q = np.zeros(A.shape)\n",
    "    R = np.zeros(A.shape)\n",
    "    \n",
    "    for k in range(0, len(A)):\n",
    "        for i in range(k):\n",
    "            R[i,k] = Q[:,i]@A[:,k].T\n",
    "        X = np.array([R[i,k]*Q[:,i] for i in range(k)])\n",
    "        #print(X, X.shape)\n",
    "        #Xq = (R[:k,k]*Q[:,:k]).reshape(1,-1)\n",
    "        #print(Xq, Xq.shape)\n",
    "        Q[:,k] = A[:,k] - np.sum(X, axis=0)\n",
    "        Q[:,k] /= np.linalg.norm(Q[:,k])\n",
    "        R[k,k] = Q[:,k]@A[:,k].T\n",
    "        \n",
    "    return Q, R\n"
   ]
  },
  {
   "cell_type": "markdown",
   "id": "9b283209-2e98-4d63-9ac4-84e8ee5d4c6f",
   "metadata": {},
   "source": [
    "2. Przetestuj zaimplementowaną metodę porównując wyniki uzyskane z jej pomocą\n",
    "z wynikami zwracanymi przez funkcję biblioteczną. W testach wykorzystaj 4-5\n",
    "macierzy losowych o różnym rozmiarze.\n"
   ]
  },
  {
   "cell_type": "code",
   "execution_count": 3,
   "id": "77c1697a-3574-4125-92e4-5965d6707010",
   "metadata": {},
   "outputs": [],
   "source": [
    "A = np.random.uniform(-100, 100, size=(4,4))"
   ]
  },
  {
   "cell_type": "code",
   "execution_count": 165,
   "id": "2c83668a-75d8-4158-a1db-c041be852282",
   "metadata": {},
   "outputs": [
    {
     "name": "stdout",
     "output_type": "stream",
     "text": [
      "Q\n",
      "[[ 0.0375999   0.73602    -0.67266194  0.06623234]\n",
      " [-0.63879274 -0.00971832 -0.12114466 -0.75971926]\n",
      " [ 0.39235768 -0.60328767 -0.65954779 -0.21701648]\n",
      " [ 0.6607462   0.30695944  0.31280442 -0.60937982]]\n",
      "[[-0.0375999  -0.73602    -0.67266194 -0.06623234]\n",
      " [ 0.63879274  0.00971832 -0.12114466  0.75971926]\n",
      " [-0.39235768  0.60328767 -0.65954779  0.21701648]\n",
      " [-0.6607462  -0.30695944  0.31280442  0.60937982]]\n",
      "R\n",
      "[[134.17309391 -30.04274804  20.57217837 -82.36840425]\n",
      " [  0.          97.72119495 -59.45889288 -14.04979528]\n",
      " [  0.           0.          65.45977506  26.76829625]\n",
      " [  0.           0.           0.          52.68033296]]\n",
      "[[-134.17309391   30.04274804  -20.57217837   82.36840425]\n",
      " [   0.          -97.72119495   59.45889288   14.04979528]\n",
      " [   0.            0.           65.45977506   26.76829625]\n",
      " [   0.            0.            0.          -52.68033296]]\n"
     ]
    }
   ],
   "source": [
    "q1, r1 = qr(A)\n",
    "q2, r2 = np.linalg.qr(A)\n",
    "print(\"Q\")\n",
    "print(q1)\n",
    "print(q2)\n",
    "print(\"R\")\n",
    "print(r1)\n",
    "print(r2)"
   ]
  },
  {
   "cell_type": "code",
   "execution_count": 169,
   "id": "03e231f2-3c04-48e1-a756-ab4e604598f9",
   "metadata": {},
   "outputs": [
    {
     "data": {
      "text/plain": [
       "(3.202084145541235e-14, 7.818272205488618e-14)"
      ]
     },
     "execution_count": 169,
     "metadata": {},
     "output_type": "execute_result"
    }
   ],
   "source": [
    "np.linalg.norm(q1@r1 - A), np.linalg.norm(q2@r2 - A)"
   ]
  },
  {
   "cell_type": "code",
   "execution_count": 172,
   "id": "4f0128b5-090f-4eed-878f-410f621c0eff",
   "metadata": {},
   "outputs": [
    {
     "data": {
      "text/plain": [
       "(1.0058946505880864e-07, 1.4347333758694588e-09)"
      ]
     },
     "execution_count": 172,
     "metadata": {},
     "output_type": "execute_result"
    }
   ],
   "source": [
    "A = np.random.uniform(-10**5, 10**5, size=(50,50))\n",
    "q1, r1 = qr(A)\n",
    "q2, r2 = np.linalg.qr(A)\n",
    "np.linalg.norm(q1@r1 - A), np.linalg.norm(q2@r2 - A)"
   ]
  },
  {
   "cell_type": "code",
   "execution_count": 173,
   "id": "45ddd446-2d73-4fa7-9b35-7e063b62a21f",
   "metadata": {},
   "outputs": [
    {
     "data": {
      "text/plain": [
       "(2.7829750722657337e-11, 1.0091926503529716e-13)"
      ]
     },
     "execution_count": 173,
     "metadata": {},
     "output_type": "execute_result"
    }
   ],
   "source": [
    "A = np.random.uniform(size=(200,200))\n",
    "q1, r1 = qr(A)\n",
    "q2, r2 = np.linalg.qr(A)\n",
    "np.linalg.norm(q1@r1 - A), np.linalg.norm(q2@r2 - A)"
   ]
  },
  {
   "cell_type": "code",
   "execution_count": 174,
   "id": "c01e113a-f6c5-45c4-b19a-4387b482a0b4",
   "metadata": {},
   "outputs": [],
   "source": [
    "A = np.random.uniform(size=(300,300))"
   ]
  },
  {
   "cell_type": "code",
   "execution_count": 175,
   "id": "b30cef0b-df53-408a-af08-7d081c9a037a",
   "metadata": {},
   "outputs": [
    {
     "name": "stdout",
     "output_type": "stream",
     "text": [
      "37.9 s ± 617 ms per loop (mean ± std. dev. of 7 runs, 1 loop each)\n"
     ]
    }
   ],
   "source": [
    "%%timeit\n",
    "q1, r1 = qr(A)"
   ]
  },
  {
   "cell_type": "code",
   "execution_count": null,
   "id": "feec6054-e7f9-4ad7-ab95-637013d91450",
   "metadata": {},
   "outputs": [],
   "source": [
    "%%timeit\n",
    "q2, r2 = np.linalg.qr(A)"
   ]
  },
  {
   "cell_type": "markdown",
   "id": "43b272f3-e2e9-422f-b7dc-b888a80621a5",
   "metadata": {},
   "source": [
    "3. Wygeneruj 30-50 przykładowych macierzy 8×8 o różnym wskaźniku uwarunkowania (stosunek największej do najmniejszej wartości osobliwej). Wykorzystaj w tym\n",
    "celu SVD oraz biblioteczną funkcję realizującą dekompozycję QR (potrzebne będą dwie losowe macierze ortogonalne oraz diagonalna macierz odpowiednio szybko\n",
    "malejących wartości osobliwych)."
   ]
  },
  {
   "cell_type": "code",
   "execution_count": 24,
   "id": "fdefea30-ba55-4216-a8d9-82018de0c6d0",
   "metadata": {},
   "outputs": [],
   "source": [
    "def get_matrix(mul):\n",
    "    A = np.random.uniform(size=(8,8))\n",
    "    u, s, vh = np.linalg.svd(A)\n",
    "    s[0]*= mul\n",
    "    A = u @ np.diag(s) @ vh\n",
    "    return A\n",
    "matricies = [get_matrix(1+i*20) for i in range(30)]"
   ]
  },
  {
   "cell_type": "markdown",
   "id": "e7ba3431-4921-4985-aa63-bc7c4b15d520",
   "metadata": {},
   "source": [
    "4. Dla każdej z uzyskanych w ten sposób macierzy Ai wyznacz faktoryzację QR korzystając z zaimplementowanej funkcji (Ai = QiRi). Przedstaw zależność I−QiTQik\n",
    "od cond(Ai)."
   ]
  },
  {
   "cell_type": "code",
   "execution_count": 29,
   "id": "711a87ff-f91a-462f-8164-ed1951f0354e",
   "metadata": {},
   "outputs": [],
   "source": [
    "conds = [np.linalg.cond(m) for m in matricies]\n",
    "difs = [np.linalg.cond(np.dot(*qr(m))) for m in matricies]"
   ]
  },
  {
   "cell_type": "code",
   "execution_count": 34,
   "id": "6887a9c8-ef09-4e2a-8051-66370ec86683",
   "metadata": {},
   "outputs": [],
   "source": [
    "import matplotlib.pyplot as plt"
   ]
  },
  {
   "cell_type": "code",
   "execution_count": 41,
   "id": "6ab0d7d9-ffa4-47c3-b713-f101a2256c50",
   "metadata": {},
   "outputs": [
    {
     "data": {
      "text/plain": [
       "<AxesSubplot:>"
      ]
     },
     "execution_count": 41,
     "metadata": {},
     "output_type": "execute_result"
    },
    {
     "data": {
      "image/png": "[encoded data removed]",
      "text/plain": [
       "<Figure size 432x288 with 1 Axes>"
      ]
     },
     "metadata": {
      "needs_background": "light"
     },
     "output_type": "display_data"
    }
   ],
   "source": [
    "sns.lineplot(x = conds, y=difs, markers=True)"
   ]
  },
  {
   "cell_type": "code",
   "execution_count": null,
   "id": "dfc75f4f-b825-4902-a417-01c6b9b828f9",
   "metadata": {},
   "outputs": [],
   "source": []
  }
 ],
 "metadata": {
  "kernelspec": {
   "display_name": "Python 3 (ipykernel)",
   "language": "python",
   "name": "python3"
  },
  "language_info": {
   "codemirror_mode": {
    "name": "ipython",
    "version": 3
   },
   "file_extension": ".py",
   "mimetype": "text/x-python",
   "name": "python",
   "nbconvert_exporter": "python",
   "pygments_lexer": "ipython3",
   "version": "3.10.1"
  }
 },
 "nbformat": 4,
 "nbformat_minor": 5
}
