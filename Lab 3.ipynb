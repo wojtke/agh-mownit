{
 "cells": [
  {
   "cell_type": "code",
   "execution_count": 1,
   "id": "a6b6106b-55cd-49ba-9821-5f233d55e1d6",
   "metadata": {},
   "outputs": [],
   "source": [
    "import mpmath as mp"
   ]
  },
  {
   "cell_type": "markdown",
   "id": "c398ded0-5f0a-4637-b158-96e2f01854fd",
   "metadata": {
    "tags": []
   },
   "source": [
    "### Zadanie 1"
   ]
  },
  {
   "cell_type": "code",
   "execution_count": 2,
   "id": "d8676e4c-8a4b-4bc0-b23e-fedf1355e4e3",
   "metadata": {},
   "outputs": [],
   "source": [
    "def f1(x):\n",
    "    return mp.cos(x)*mp.cosh(x)-1\n",
    "f1_range = (3/2*mp.pi, 2*mp.pi)\n",
    "\n",
    "def f2(x):\n",
    "    return 1/x - mp.tan(x)\n",
    "f2_range = (0, mp.pi/2)\n",
    "\n",
    "def f3(x):\n",
    "    return mp.exp2(-x) + mp.exp(x) + 2*mp.cos(x)-6\n",
    "f3_range = (1, 3)"
   ]
  },
  {
   "cell_type": "code",
   "execution_count": 3,
   "id": "03bf12d2-ff54-4f8b-8329-743b0d53b51c",
   "metadata": {},
   "outputs": [],
   "source": [
    "mp.prec=1000"
   ]
  },
  {
   "cell_type": "code",
   "execution_count": 4,
   "id": "cf5e184f-6a7d-40e8-a28f-726763f23e55",
   "metadata": {},
   "outputs": [],
   "source": [
    "def bisect(f, ab, digits=7, max_iter=10000):\n",
    "    mp.dps = digits+1\n",
    "    a, b = ab\n",
    "    sign_a, sign_b = mp.sign(f(a)), mp.sign(f(b))\n",
    "    assert sign_a!=sign_b\n",
    "    \n",
    "    c = a+(b-a)/2 \n",
    "    i=0\n",
    "    while (not mp.almosteq(t:=f(c), 0, abs_eps=mp.power(10, -digits)) and i<max_iter):\n",
    "        if mp.sign(t) == sign_a:\n",
    "            a=c\n",
    "        else:\n",
    "            b=c\n",
    "        \n",
    "        c = a+(b-a)/2\n",
    "        i+=1\n",
    "        \n",
    "    return c, i"
   ]
  },
  {
   "cell_type": "code",
   "execution_count": 5,
   "id": "18a7a006-3f2b-4cfb-b18c-0509af24e9b7",
   "metadata": {},
   "outputs": [
    {
     "data": {
      "text/plain": [
       "(mpf('4.7300407448627038'), 10000)"
      ]
     },
     "execution_count": 5,
     "metadata": {},
     "output_type": "execute_result"
    }
   ],
   "source": [
    "bisect(f1, f1_range, digits=14)"
   ]
  },
  {
   "cell_type": "markdown",
   "id": "c141f2ff-d946-46ea-b65e-b2a5aee80180",
   "metadata": {},
   "source": [
    "### Zadanie 2"
   ]
  },
  {
   "cell_type": "code",
   "execution_count": 6,
   "id": "f832f94f-2bf9-4213-a496-9d66384051ca",
   "metadata": {},
   "outputs": [],
   "source": [
    "def newton(f, ab, epsilon=1e-9, max_iter=100):\n",
    "    a, b = ab\n",
    "    def df(x):\n",
    "        h = 1e-8\n",
    "        return (f(x+h)+f(x-h))/(2*h)\n",
    "    \n",
    "    c = (a+b)/2\n",
    "    i = 0\n",
    "    last_val = 0\n",
    "    while i<max_iter:\n",
    "        val = f(c)\n",
    "        c -= val/df(c)\n",
    "        \n",
    "        if mp.almosteq(val, 0): \n",
    "            break\n",
    "            \n",
    "        if last_val - val < epsilon:\n",
    "            break\n",
    "            \n",
    "        last_val = val\n",
    "        \n",
    "    return c, i"
   ]
  },
  {
   "cell_type": "code",
   "execution_count": 7,
   "id": "d9e8cc97-b635-4f64-b1bb-41b6e8738567",
   "metadata": {},
   "outputs": [
    {
     "data": {
      "text/plain": [
       "(mpf('5.497787133782138'), 0)"
      ]
     },
     "execution_count": 7,
     "metadata": {},
     "output_type": "execute_result"
    }
   ],
   "source": [
    "newton(f1, f1_range)"
   ]
  },
  {
   "cell_type": "markdown",
   "id": "1634719f-a9a3-49e5-80db-6c553cdb02a6",
   "metadata": {},
   "source": [
    "#### tbc"
   ]
  },
  {
   "cell_type": "code",
   "execution_count": null,
   "id": "59868033-f5a4-43fa-961f-a0b739f0ba9b",
   "metadata": {},
   "outputs": [],
   "source": []
  }
 ],
 "metadata": {
  "kernelspec": {
   "display_name": "Python 3 (ipykernel)",
   "language": "python",
   "name": "python3"
  },
  "language_info": {
   "codemirror_mode": {
    "name": "ipython",
    "version": 3
   },
   "file_extension": ".py",
   "mimetype": "text/x-python",
   "name": "python",
   "nbconvert_exporter": "python",
   "pygments_lexer": "ipython3",
   "version": "3.10.1"
  }
 },
 "nbformat": 4,
 "nbformat_minor": 5
}
