{
 "cells": [
  {
   "cell_type": "code",
   "execution_count": 103,
   "id": "9fa425c3-d3fd-43d3-b64b-cf99c49f750f",
   "metadata": {},
   "outputs": [],
   "source": [
    "import numpy as np\n",
    "import seaborn as sns\n",
    "import plotly.express as px\n",
    "import plotly.graph_objects as go\n",
    "from plotly.subplots import make_subplots"
   ]
  },
  {
   "cell_type": "markdown",
   "id": "ae9a256c-39b0-4e01-83b5-30c45c6121a1",
   "metadata": {},
   "source": [
    "#### Sudoku"
   ]
  },
  {
   "cell_type": "code",
   "execution_count": 134,
   "id": "6f611c6f-5a07-4237-8267-036253cf0fec",
   "metadata": {},
   "outputs": [],
   "source": [
    "from PIL import Image\n",
    "im = Image.fromarray(A)\n",
    "im.save('siema.png')"
   ]
  },
  {
   "cell_type": "code",
   "execution_count": 131,
   "id": "7315a612-0fd8-4bc5-b83e-041199e3677b",
   "metadata": {},
   "outputs": [],
   "source": [
    "n = 100\n",
    "density = 0.2\n",
    "A = np.random.uniform(0, 1, size=(n, n))> (1-density)"
   ]
  },
  {
   "cell_type": "code",
   "execution_count": 132,
   "id": "6b78ed27-42c4-4b0d-9502-8349fe835fd6",
   "metadata": {},
   "outputs": [
    {
     "data": {
      "text/plain": [
       "array([[False, False, False, ..., False,  True, False],\n",
       "       [False, False, False, ..., False, False, False],\n",
       "       [False, False,  True, ..., False, False, False],\n",
       "       ...,\n",
       "       [ True, False, False, ..., False,  True, False],\n",
       "       [ True, False, False, ..., False, False, False],\n",
       "       [False,  True, False, ..., False, False, False]])"
      ]
     },
     "execution_count": 132,
     "metadata": {},
     "output_type": "execute_result"
    }
   ],
   "source": [
    "A"
   ]
  },
  {
   "cell_type": "code",
   "execution_count": null,
   "id": "4814416a-926a-4d0b-8b8d-44f90e1b9320",
   "metadata": {},
   "outputs": [],
   "source": []
  }
 ],
 "metadata": {
  "kernelspec": {
   "display_name": "Python 3 (ipykernel)",
   "language": "python",
   "name": "python3"
  },
  "language_info": {
   "codemirror_mode": {
    "name": "ipython",
    "version": 3
   },
   "file_extension": ".py",
   "mimetype": "text/x-python",
   "name": "python",
   "nbconvert_exporter": "python",
   "pygments_lexer": "ipython3",
   "version": "3.10.1"
  }
 },
 "nbformat": 4,
 "nbformat_minor": 5
}
