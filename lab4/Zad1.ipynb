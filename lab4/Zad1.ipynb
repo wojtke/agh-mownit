{
 "cells": [
  {
   "cell_type": "code",
   "execution_count": 50,
   "id": "de4e69a5-d4ad-4c64-aa0e-399e8aad7de6",
   "metadata": {},
   "outputs": [],
   "source": [
    "import numpy as np\n",
    "import seaborn as sns\n",
    "import plotly.graph_objects as go\n",
    "from plotly.subplots import make_subplots"
   ]
  },
  {
   "cell_type": "markdown",
   "id": "36ff071e-2cf3-416c-a73c-ed84040f13e9",
   "metadata": {},
   "source": [
    "### Traveling salesman problem\n",
    "Everyone knows how it goes. First we generate random path, graph below."
   ]
  },
  {
   "cell_type": "code",
   "execution_count": 59,
   "id": "e70fdfd8-02dd-4628-a89e-ccc87742ae21",
   "metadata": {},
   "outputs": [],
   "source": [
    "n = 90\n",
    "A = np.random.uniform(size=(n,2))\n",
    "order = np.arange(n)"
   ]
  },
  {
   "cell_type": "code",
   "execution_count": 60,
   "id": "3d0643be-6524-4639-a1b8-17a2b5fad4e9",
   "metadata": {},
   "outputs": [
    {
     "data": {
      "application/vnd.plotly.v1+json": {
       "config": {
        "plotlyServerURL": "https://plot.ly"
       },
       "data": [
        {
         "mode": "markers",
         "name": "Cites",
         "type": "scatter",
         "x": [
          0.991554464269409,
          0.7545545522354953,
          0.05441158965980342,
          0.48977941243370426,
          0.6997702667432745,
          0.5615099765075903,
          0.9720147384401564,
          0.9698403091693597,
          0.9812736464113393,
          0.896448923292097,
          0.8005921799727679,
          0.6910164115342441,
          0.5279313821910149,
          0.9081754753024639,
          0.5091351237399874,
          0.5643052351813136,
          0.8361966790449701,
          0.7805803986836359,
          0.09065684757569847,
          0.232020905704574,
          0.808135861885826,
          0.7759708796625314,
          0.15995690526545825,
          0.7348106840981005,
          0.48766057913293326,
          0.46581014820584943,
          0.25324345197523146,
          0.6369734509961474,
          0.9403092552764973,
          0.305435648129756,
          0.5397694247203227,
          0.3408184833910817,
          0.41122501628689934,
          0.14424689743173658,
          0.9621813081555198,
          0.9815652158788579,
          0.49284623266840866,
          0.19667105979435218,
          0.9523375748558832,
          0.5213178665317666,
          0.1157020530570102,
          0.07952517801687486,
          0.7849072697865368,
          0.005192118783147737,
          0.6449556248222699,
          0.05734562977044688,
          0.9033856715540116,
          0.6936107426234415,
          0.09723164350448499,
          0.7886372796861159,
          0.3733790818773104,
          0.6111986862989991,
          0.2943036029973439,
          0.26299518520107656,
          0.40470118285461787,
          5.5316840243957444e-05,
          0.9070047406072862,
          0.6253644529092433,
          0.00034485335172218523,
          0.3046305716434825,
          0.006401491987161112,
          0.06076066080707676,
          0.11961562924030023,
          0.27360443836280535,
          0.05438560030794093,
          0.6565605236922873,
          0.7903797972217844,
          0.3590465054091324,
          0.651713179047548,
          0.5799061459930916,
          0.7714299702115188,
          0.02276106761462937,
          0.8854367072787648,
          0.25290188327751173,
          0.828185816044501,
          0.931431999705746,
          0.32163473504925433,
          0.7670030436624993,
          0.9482204812244611,
          0.14378298638876286,
          0.6989853143414139,
          0.11610203646417494,
          0.36170182894693337,
          0.8469555408085384,
          0.15885022564498907,
          0.8662530371410089,
          0.2783084989171163,
          0.6891517732549411,
          0.06899211997090082,
          0.24891476416346225
         ],
         "y": [
          0.5530246895095909,
          0.5114063658182364,
          0.19632167077068552,
          0.6633116835922301,
          0.2967530385132793,
          0.18149011878825594,
          0.26974452817912586,
          0.49477093665370153,
          0.2868765731690467,
          0.3854339048345421,
          0.9534502913246993,
          0.6831656762957691,
          0.28200866344504805,
          0.804693229558513,
          0.8173873255543442,
          0.2352492390783011,
          0.5313868605245917,
          0.20830674555927708,
          0.7265956605709124,
          0.8890594272615531,
          0.4978642808658147,
          0.4785441334567595,
          0.7579076947453655,
          0.7835873458088128,
          0.6873901081792856,
          0.8994332271105333,
          0.6948029248658788,
          0.43015615987051026,
          0.8362137236262562,
          0.7220380099866432,
          0.28701007701306,
          0.9750011462277713,
          0.05125054931103701,
          0.6967175984365145,
          0.4640384426598566,
          0.7418935602615753,
          0.902922481124889,
          0.5599037821923045,
          0.17005701485542857,
          0.050970444144300964,
          0.03141634617533995,
          0.011706187751954866,
          0.7043830097885511,
          0.6660191291252184,
          0.4552394801014483,
          0.1256996619646098,
          0.8937193146542316,
          0.2518693066430283,
          0.6339376845613647,
          0.7189997527120643,
          0.7376919204261095,
          0.6082960734084811,
          0.24687787446616016,
          0.20800746996486918,
          0.4449402275007114,
          0.7861441252458,
          0.20468958759961897,
          0.7976012087408345,
          0.7100272873877508,
          0.3306360462708352,
          0.9107964172495696,
          0.48626821316908464,
          0.5674879626795541,
          0.6979428629672558,
          0.6831904807951374,
          0.2869917817289176,
          0.02316965270512772,
          0.9908386919974969,
          0.9656258682788698,
          0.22364676060150668,
          0.7013980694202024,
          0.1825940965006747,
          0.7859819339894095,
          0.8834219240813425,
          0.26738596186887276,
          0.7215561427693629,
          0.7181485624853147,
          0.5784521939225223,
          0.8999827160463033,
          0.5801521145474953,
          0.11447093911525208,
          0.9083640601122993,
          0.12672584608991644,
          0.18604405943762492,
          0.04607626524791342,
          0.5477821032270659,
          0.09155256362212749,
          0.09518820159270736,
          0.6581562892272133,
          0.4460777281384425
         ]
        },
        {
         "mode": "lines",
         "name": "Path",
         "type": "scatter",
         "x": [
          0.991554464269409,
          0.7545545522354953,
          0.05441158965980342,
          0.48977941243370426,
          0.6997702667432745,
          0.5615099765075903,
          0.9720147384401564,
          0.9698403091693597,
          0.9812736464113393,
          0.896448923292097,
          0.8005921799727679,
          0.6910164115342441,
          0.5279313821910149,
          0.9081754753024639,
          0.5091351237399874,
          0.5643052351813136,
          0.8361966790449701,
          0.7805803986836359,
          0.09065684757569847,
          0.232020905704574,
          0.808135861885826,
          0.7759708796625314,
          0.15995690526545825,
          0.7348106840981005,
          0.48766057913293326,
          0.46581014820584943,
          0.25324345197523146,
          0.6369734509961474,
          0.9403092552764973,
          0.305435648129756,
          0.5397694247203227,
          0.3408184833910817,
          0.41122501628689934,
          0.14424689743173658,
          0.9621813081555198,
          0.9815652158788579,
          0.49284623266840866,
          0.19667105979435218,
          0.9523375748558832,
          0.5213178665317666,
          0.1157020530570102,
          0.07952517801687486,
          0.7849072697865368,
          0.005192118783147737,
          0.6449556248222699,
          0.05734562977044688,
          0.9033856715540116,
          0.6936107426234415,
          0.09723164350448499,
          0.7886372796861159,
          0.3733790818773104,
          0.6111986862989991,
          0.2943036029973439,
          0.26299518520107656,
          0.40470118285461787,
          5.5316840243957444e-05,
          0.9070047406072862,
          0.6253644529092433,
          0.00034485335172218523,
          0.3046305716434825,
          0.006401491987161112,
          0.06076066080707676,
          0.11961562924030023,
          0.27360443836280535,
          0.05438560030794093,
          0.6565605236922873,
          0.7903797972217844,
          0.3590465054091324,
          0.651713179047548,
          0.5799061459930916,
          0.7714299702115188,
          0.02276106761462937,
          0.8854367072787648,
          0.25290188327751173,
          0.828185816044501,
          0.931431999705746,
          0.32163473504925433,
          0.7670030436624993,
          0.9482204812244611,
          0.14378298638876286,
          0.6989853143414139,
          0.11610203646417494,
          0.36170182894693337,
          0.8469555408085384,
          0.15885022564498907,
          0.8662530371410089,
          0.2783084989171163,
          0.6891517732549411,
          0.06899211997090082,
          0.24891476416346225
         ],
         "y": [
          0.5530246895095909,
          0.5114063658182364,
          0.19632167077068552,
          0.6633116835922301,
          0.2967530385132793,
          0.18149011878825594,
          0.26974452817912586,
          0.49477093665370153,
          0.2868765731690467,
          0.3854339048345421,
          0.9534502913246993,
          0.6831656762957691,
          0.28200866344504805,
          0.804693229558513,
          0.8173873255543442,
          0.2352492390783011,
          0.5313868605245917,
          0.20830674555927708,
          0.7265956605709124,
          0.8890594272615531,
          0.4978642808658147,
          0.4785441334567595,
          0.7579076947453655,
          0.7835873458088128,
          0.6873901081792856,
          0.8994332271105333,
          0.6948029248658788,
          0.43015615987051026,
          0.8362137236262562,
          0.7220380099866432,
          0.28701007701306,
          0.9750011462277713,
          0.05125054931103701,
          0.6967175984365145,
          0.4640384426598566,
          0.7418935602615753,
          0.902922481124889,
          0.5599037821923045,
          0.17005701485542857,
          0.050970444144300964,
          0.03141634617533995,
          0.011706187751954866,
          0.7043830097885511,
          0.6660191291252184,
          0.4552394801014483,
          0.1256996619646098,
          0.8937193146542316,
          0.2518693066430283,
          0.6339376845613647,
          0.7189997527120643,
          0.7376919204261095,
          0.6082960734084811,
          0.24687787446616016,
          0.20800746996486918,
          0.4449402275007114,
          0.7861441252458,
          0.20468958759961897,
          0.7976012087408345,
          0.7100272873877508,
          0.3306360462708352,
          0.9107964172495696,
          0.48626821316908464,
          0.5674879626795541,
          0.6979428629672558,
          0.6831904807951374,
          0.2869917817289176,
          0.02316965270512772,
          0.9908386919974969,
          0.9656258682788698,
          0.22364676060150668,
          0.7013980694202024,
          0.1825940965006747,
          0.7859819339894095,
          0.8834219240813425,
          0.26738596186887276,
          0.7215561427693629,
          0.7181485624853147,
          0.5784521939225223,
          0.8999827160463033,
          0.5801521145474953,
          0.11447093911525208,
          0.9083640601122993,
          0.12672584608991644,
          0.18604405943762492,
          0.04607626524791342,
          0.5477821032270659,
          0.09155256362212749,
          0.09518820159270736,
          0.6581562892272133,
          0.4460777281384425
         ]
        }
       ],
       "layout": {
        "height": 350,
        "margin": {
         "b": 10,
         "l": 50,
         "r": 10,
         "t": 10
        },
        "template": {
         "data": {
          "bar": [
           {
            "error_x": {
             "color": "#2a3f5f"
            },
            "error_y": {
             "color": "#2a3f5f"
            },
            "marker": {
             "line": {
              "color": "#E5ECF6",
              "width": 0.5
             },
             "pattern": {
              "fillmode": "overlay",
              "size": 10,
              "solidity": 0.2
             }
            },
            "type": "bar"
           }
          ],
          "barpolar": [
           {
            "marker": {
             "line": {
              "color": "#E5ECF6",
              "width": 0.5
             },
             "pattern": {
              "fillmode": "overlay",
              "size": 10,
              "solidity": 0.2
             }
            },
            "type": "barpolar"
           }
          ],
          "carpet": [
           {
            "aaxis": {
             "endlinecolor": "#2a3f5f",
             "gridcolor": "white",
             "linecolor": "white",
             "minorgridcolor": "white",
             "startlinecolor": "#2a3f5f"
            },
            "baxis": {
             "endlinecolor": "#2a3f5f",
             "gridcolor": "white",
             "linecolor": "white",
             "minorgridcolor": "white",
             "startlinecolor": "#2a3f5f"
            },
            "type": "carpet"
           }
          ],
          "choropleth": [
           {
            "colorbar": {
             "outlinewidth": 0,
             "ticks": ""
            },
            "type": "choropleth"
           }
          ],
          "contour": [
           {
            "colorbar": {
             "outlinewidth": 0,
             "ticks": ""
            },
            "colorscale": [
             [
              0,
              "#0d0887"
             ],
             [
              0.1111111111111111,
              "#46039f"
             ],
             [
              0.2222222222222222,
              "#7201a8"
             ],
             [
              0.3333333333333333,
              "#9c179e"
             ],
             [
              0.4444444444444444,
              "#bd3786"
             ],
             [
              0.5555555555555556,
              "#d8576b"
             ],
             [
              0.6666666666666666,
              "#ed7953"
             ],
             [
              0.7777777777777778,
              "#fb9f3a"
             ],
             [
              0.8888888888888888,
              "#fdca26"
             ],
             [
              1,
              "#f0f921"
             ]
            ],
            "type": "contour"
           }
          ],
          "contourcarpet": [
           {
            "colorbar": {
             "outlinewidth": 0,
             "ticks": ""
            },
            "type": "contourcarpet"
           }
          ],
          "heatmap": [
           {
            "colorbar": {
             "outlinewidth": 0,
             "ticks": ""
            },
            "colorscale": [
             [
              0,
              "#0d0887"
             ],
             [
              0.1111111111111111,
              "#46039f"
             ],
             [
              0.2222222222222222,
              "#7201a8"
             ],
             [
              0.3333333333333333,
              "#9c179e"
             ],
             [
              0.4444444444444444,
              "#bd3786"
             ],
             [
              0.5555555555555556,
              "#d8576b"
             ],
             [
              0.6666666666666666,
              "#ed7953"
             ],
             [
              0.7777777777777778,
              "#fb9f3a"
             ],
             [
              0.8888888888888888,
              "#fdca26"
             ],
             [
              1,
              "#f0f921"
             ]
            ],
            "type": "heatmap"
           }
          ],
          "heatmapgl": [
           {
            "colorbar": {
             "outlinewidth": 0,
             "ticks": ""
            },
            "colorscale": [
             [
              0,
              "#0d0887"
             ],
             [
              0.1111111111111111,
              "#46039f"
             ],
             [
              0.2222222222222222,
              "#7201a8"
             ],
             [
              0.3333333333333333,
              "#9c179e"
             ],
             [
              0.4444444444444444,
              "#bd3786"
             ],
             [
              0.5555555555555556,
              "#d8576b"
             ],
             [
              0.6666666666666666,
              "#ed7953"
             ],
             [
              0.7777777777777778,
              "#fb9f3a"
             ],
             [
              0.8888888888888888,
              "#fdca26"
             ],
             [
              1,
              "#f0f921"
             ]
            ],
            "type": "heatmapgl"
           }
          ],
          "histogram": [
           {
            "marker": {
             "pattern": {
              "fillmode": "overlay",
              "size": 10,
              "solidity": 0.2
             }
            },
            "type": "histogram"
           }
          ],
          "histogram2d": [
           {
            "colorbar": {
             "outlinewidth": 0,
             "ticks": ""
            },
            "colorscale": [
             [
              0,
              "#0d0887"
             ],
             [
              0.1111111111111111,
              "#46039f"
             ],
             [
              0.2222222222222222,
              "#7201a8"
             ],
             [
              0.3333333333333333,
              "#9c179e"
             ],
             [
              0.4444444444444444,
              "#bd3786"
             ],
             [
              0.5555555555555556,
              "#d8576b"
             ],
             [
              0.6666666666666666,
              "#ed7953"
             ],
             [
              0.7777777777777778,
              "#fb9f3a"
             ],
             [
              0.8888888888888888,
              "#fdca26"
             ],
             [
              1,
              "#f0f921"
             ]
            ],
            "type": "histogram2d"
           }
          ],
          "histogram2dcontour": [
           {
            "colorbar": {
             "outlinewidth": 0,
             "ticks": ""
            },
            "colorscale": [
             [
              0,
              "#0d0887"
             ],
             [
              0.1111111111111111,
              "#46039f"
             ],
             [
              0.2222222222222222,
              "#7201a8"
             ],
             [
              0.3333333333333333,
              "#9c179e"
             ],
             [
              0.4444444444444444,
              "#bd3786"
             ],
             [
              0.5555555555555556,
              "#d8576b"
             ],
             [
              0.6666666666666666,
              "#ed7953"
             ],
             [
              0.7777777777777778,
              "#fb9f3a"
             ],
             [
              0.8888888888888888,
              "#fdca26"
             ],
             [
              1,
              "#f0f921"
             ]
            ],
            "type": "histogram2dcontour"
           }
          ],
          "mesh3d": [
           {
            "colorbar": {
             "outlinewidth": 0,
             "ticks": ""
            },
            "type": "mesh3d"
           }
          ],
          "parcoords": [
           {
            "line": {
             "colorbar": {
              "outlinewidth": 0,
              "ticks": ""
             }
            },
            "type": "parcoords"
           }
          ],
          "pie": [
           {
            "automargin": true,
            "type": "pie"
           }
          ],
          "scatter": [
           {
            "marker": {
             "colorbar": {
              "outlinewidth": 0,
              "ticks": ""
             }
            },
            "type": "scatter"
           }
          ],
          "scatter3d": [
           {
            "line": {
             "colorbar": {
              "outlinewidth": 0,
              "ticks": ""
             }
            },
            "marker": {
             "colorbar": {
              "outlinewidth": 0,
              "ticks": ""
             }
            },
            "type": "scatter3d"
           }
          ],
          "scattercarpet": [
           {
            "marker": {
             "colorbar": {
              "outlinewidth": 0,
              "ticks": ""
             }
            },
            "type": "scattercarpet"
           }
          ],
          "scattergeo": [
           {
            "marker": {
             "colorbar": {
              "outlinewidth": 0,
              "ticks": ""
             }
            },
            "type": "scattergeo"
           }
          ],
          "scattergl": [
           {
            "marker": {
             "colorbar": {
              "outlinewidth": 0,
              "ticks": ""
             }
            },
            "type": "scattergl"
           }
          ],
          "scattermapbox": [
           {
            "marker": {
             "colorbar": {
              "outlinewidth": 0,
              "ticks": ""
             }
            },
            "type": "scattermapbox"
           }
          ],
          "scatterpolar": [
           {
            "marker": {
             "colorbar": {
              "outlinewidth": 0,
              "ticks": ""
             }
            },
            "type": "scatterpolar"
           }
          ],
          "scatterpolargl": [
           {
            "marker": {
             "colorbar": {
              "outlinewidth": 0,
              "ticks": ""
             }
            },
            "type": "scatterpolargl"
           }
          ],
          "scatterternary": [
           {
            "marker": {
             "colorbar": {
              "outlinewidth": 0,
              "ticks": ""
             }
            },
            "type": "scatterternary"
           }
          ],
          "surface": [
           {
            "colorbar": {
             "outlinewidth": 0,
             "ticks": ""
            },
            "colorscale": [
             [
              0,
              "#0d0887"
             ],
             [
              0.1111111111111111,
              "#46039f"
             ],
             [
              0.2222222222222222,
              "#7201a8"
             ],
             [
              0.3333333333333333,
              "#9c179e"
             ],
             [
              0.4444444444444444,
              "#bd3786"
             ],
             [
              0.5555555555555556,
              "#d8576b"
             ],
             [
              0.6666666666666666,
              "#ed7953"
             ],
             [
              0.7777777777777778,
              "#fb9f3a"
             ],
             [
              0.8888888888888888,
              "#fdca26"
             ],
             [
              1,
              "#f0f921"
             ]
            ],
            "type": "surface"
           }
          ],
          "table": [
           {
            "cells": {
             "fill": {
              "color": "#EBF0F8"
             },
             "line": {
              "color": "white"
             }
            },
            "header": {
             "fill": {
              "color": "#C8D4E3"
             },
             "line": {
              "color": "white"
             }
            },
            "type": "table"
           }
          ]
         },
         "layout": {
          "annotationdefaults": {
           "arrowcolor": "#2a3f5f",
           "arrowhead": 0,
           "arrowwidth": 1
          },
          "autotypenumbers": "strict",
          "coloraxis": {
           "colorbar": {
            "outlinewidth": 0,
            "ticks": ""
           }
          },
          "colorscale": {
           "diverging": [
            [
             0,
             "#8e0152"
            ],
            [
             0.1,
             "#c51b7d"
            ],
            [
             0.2,
             "#de77ae"
            ],
            [
             0.3,
             "#f1b6da"
            ],
            [
             0.4,
             "#fde0ef"
            ],
            [
             0.5,
             "#f7f7f7"
            ],
            [
             0.6,
             "#e6f5d0"
            ],
            [
             0.7,
             "#b8e186"
            ],
            [
             0.8,
             "#7fbc41"
            ],
            [
             0.9,
             "#4d9221"
            ],
            [
             1,
             "#276419"
            ]
           ],
           "sequential": [
            [
             0,
             "#0d0887"
            ],
            [
             0.1111111111111111,
             "#46039f"
            ],
            [
             0.2222222222222222,
             "#7201a8"
            ],
            [
             0.3333333333333333,
             "#9c179e"
            ],
            [
             0.4444444444444444,
             "#bd3786"
            ],
            [
             0.5555555555555556,
             "#d8576b"
            ],
            [
             0.6666666666666666,
             "#ed7953"
            ],
            [
             0.7777777777777778,
             "#fb9f3a"
            ],
            [
             0.8888888888888888,
             "#fdca26"
            ],
            [
             1,
             "#f0f921"
            ]
           ],
           "sequentialminus": [
            [
             0,
             "#0d0887"
            ],
            [
             0.1111111111111111,
             "#46039f"
            ],
            [
             0.2222222222222222,
             "#7201a8"
            ],
            [
             0.3333333333333333,
             "#9c179e"
            ],
            [
             0.4444444444444444,
             "#bd3786"
            ],
            [
             0.5555555555555556,
             "#d8576b"
            ],
            [
             0.6666666666666666,
             "#ed7953"
            ],
            [
             0.7777777777777778,
             "#fb9f3a"
            ],
            [
             0.8888888888888888,
             "#fdca26"
            ],
            [
             1,
             "#f0f921"
            ]
           ]
          },
          "colorway": [
           "#636efa",
           "#EF553B",
           "#00cc96",
           "#ab63fa",
           "#FFA15A",
           "#19d3f3",
           "#FF6692",
           "#B6E880",
           "#FF97FF",
           "#FECB52"
          ],
          "font": {
           "color": "#2a3f5f"
          },
          "geo": {
           "bgcolor": "white",
           "lakecolor": "white",
           "landcolor": "#E5ECF6",
           "showlakes": true,
           "showland": true,
           "subunitcolor": "white"
          },
          "hoverlabel": {
           "align": "left"
          },
          "hovermode": "closest",
          "mapbox": {
           "style": "light"
          },
          "paper_bgcolor": "white",
          "plot_bgcolor": "#E5ECF6",
          "polar": {
           "angularaxis": {
            "gridcolor": "white",
            "linecolor": "white",
            "ticks": ""
           },
           "bgcolor": "#E5ECF6",
           "radialaxis": {
            "gridcolor": "white",
            "linecolor": "white",
            "ticks": ""
           }
          },
          "scene": {
           "xaxis": {
            "backgroundcolor": "#E5ECF6",
            "gridcolor": "white",
            "gridwidth": 2,
            "linecolor": "white",
            "showbackground": true,
            "ticks": "",
            "zerolinecolor": "white"
           },
           "yaxis": {
            "backgroundcolor": "#E5ECF6",
            "gridcolor": "white",
            "gridwidth": 2,
            "linecolor": "white",
            "showbackground": true,
            "ticks": "",
            "zerolinecolor": "white"
           },
           "zaxis": {
            "backgroundcolor": "#E5ECF6",
            "gridcolor": "white",
            "gridwidth": 2,
            "linecolor": "white",
            "showbackground": true,
            "ticks": "",
            "zerolinecolor": "white"
           }
          },
          "shapedefaults": {
           "line": {
            "color": "#2a3f5f"
           }
          },
          "ternary": {
           "aaxis": {
            "gridcolor": "white",
            "linecolor": "white",
            "ticks": ""
           },
           "baxis": {
            "gridcolor": "white",
            "linecolor": "white",
            "ticks": ""
           },
           "bgcolor": "#E5ECF6",
           "caxis": {
            "gridcolor": "white",
            "linecolor": "white",
            "ticks": ""
           }
          },
          "title": {
           "x": 0.05
          },
          "xaxis": {
           "automargin": true,
           "gridcolor": "white",
           "linecolor": "white",
           "ticks": "",
           "title": {
            "standoff": 15
           },
           "zerolinecolor": "white",
           "zerolinewidth": 2
          },
          "yaxis": {
           "automargin": true,
           "gridcolor": "white",
           "linecolor": "white",
           "ticks": "",
           "title": {
            "standoff": 15
           },
           "zerolinecolor": "white",
           "zerolinewidth": 2
          }
         }
        },
        "width": 500,
        "xaxis": {
         "autorange": true,
         "range": [
          -0.06815553966385969,
          1.0597653207735127
         ],
         "showticklabels": false,
         "type": "linear"
        },
        "yaxis": {
         "autorange": true,
         "range": [
          -0.05678235529112709,
          1.059327235040579
         ],
         "showticklabels": false,
         "type": "linear"
        }
       }
      },
      "image/png": "[encoded data removed]",
      "text/html": [
       "<div>                            <div id=\"214a4cff-f3c9-4bc5-86d8-14b96b9a3607\" class=\"plotly-graph-div\" style=\"height:350px; width:500px;\"></div>            <script type=\"text/javascript\">                require([\"plotly\"], function(Plotly) {                    window.PLOTLYENV=window.PLOTLYENV || {};                                    if (document.getElementById(\"214a4cff-f3c9-4bc5-86d8-14b96b9a3607\")) {                    Plotly.newPlot(                        \"214a4cff-f3c9-4bc5-86d8-14b96b9a3607\",                        [{\"mode\":\"markers\",\"name\":\"Cites\",\"x\":[0.991554464269409,0.7545545522354953,0.05441158965980342,0.48977941243370426,0.6997702667432745,0.5615099765075903,0.9720147384401564,0.9698403091693597,0.9812736464113393,0.896448923292097,0.8005921799727679,0.6910164115342441,0.5279313821910149,0.9081754753024639,0.5091351237399874,0.5643052351813136,0.8361966790449701,0.7805803986836359,0.09065684757569847,0.232020905704574,0.808135861885826,0.7759708796625314,0.15995690526545825,0.7348106840981005,0.48766057913293326,0.46581014820584943,0.25324345197523146,0.6369734509961474,0.9403092552764973,0.305435648129756,0.5397694247203227,0.3408184833910817,0.41122501628689934,0.14424689743173658,0.9621813081555198,0.9815652158788579,0.49284623266840866,0.19667105979435218,0.9523375748558832,0.5213178665317666,0.1157020530570102,0.07952517801687486,0.7849072697865368,0.005192118783147737,0.6449556248222699,0.05734562977044688,0.9033856715540116,0.6936107426234415,0.09723164350448499,0.7886372796861159,0.3733790818773104,0.6111986862989991,0.2943036029973439,0.26299518520107656,0.40470118285461787,5.5316840243957444e-05,0.9070047406072862,0.6253644529092433,0.00034485335172218523,0.3046305716434825,0.006401491987161112,0.06076066080707676,0.11961562924030023,0.27360443836280535,0.05438560030794093,0.6565605236922873,0.7903797972217844,0.3590465054091324,0.651713179047548,0.5799061459930916,0.7714299702115188,0.02276106761462937,0.8854367072787648,0.25290188327751173,0.828185816044501,0.931431999705746,0.32163473504925433,0.7670030436624993,0.9482204812244611,0.14378298638876286,0.6989853143414139,0.11610203646417494,0.36170182894693337,0.8469555408085384,0.15885022564498907,0.8662530371410089,0.2783084989171163,0.6891517732549411,0.06899211997090082,0.24891476416346225],\"y\":[0.5530246895095909,0.5114063658182364,0.19632167077068552,0.6633116835922301,0.2967530385132793,0.18149011878825594,0.26974452817912586,0.49477093665370153,0.2868765731690467,0.3854339048345421,0.9534502913246993,0.6831656762957691,0.28200866344504805,0.804693229558513,0.8173873255543442,0.2352492390783011,0.5313868605245917,0.20830674555927708,0.7265956605709124,0.8890594272615531,0.4978642808658147,0.4785441334567595,0.7579076947453655,0.7835873458088128,0.6873901081792856,0.8994332271105333,0.6948029248658788,0.43015615987051026,0.8362137236262562,0.7220380099866432,0.28701007701306,0.9750011462277713,0.05125054931103701,0.6967175984365145,0.4640384426598566,0.7418935602615753,0.902922481124889,0.5599037821923045,0.17005701485542857,0.050970444144300964,0.03141634617533995,0.011706187751954866,0.7043830097885511,0.6660191291252184,0.4552394801014483,0.1256996619646098,0.8937193146542316,0.2518693066430283,0.6339376845613647,0.7189997527120643,0.7376919204261095,0.6082960734084811,0.24687787446616016,0.20800746996486918,0.4449402275007114,0.7861441252458,0.20468958759961897,0.7976012087408345,0.7100272873877508,0.3306360462708352,0.9107964172495696,0.48626821316908464,0.5674879626795541,0.6979428629672558,0.6831904807951374,0.2869917817289176,0.02316965270512772,0.9908386919974969,0.9656258682788698,0.22364676060150668,0.7013980694202024,0.1825940965006747,0.7859819339894095,0.8834219240813425,0.26738596186887276,0.7215561427693629,0.7181485624853147,0.5784521939225223,0.8999827160463033,0.5801521145474953,0.11447093911525208,0.9083640601122993,0.12672584608991644,0.18604405943762492,0.04607626524791342,0.5477821032270659,0.09155256362212749,0.09518820159270736,0.6581562892272133,0.4460777281384425],\"type\":\"scatter\"},{\"mode\":\"lines\",\"name\":\"Path\",\"x\":[0.991554464269409,0.7545545522354953,0.05441158965980342,0.48977941243370426,0.6997702667432745,0.5615099765075903,0.9720147384401564,0.9698403091693597,0.9812736464113393,0.896448923292097,0.8005921799727679,0.6910164115342441,0.5279313821910149,0.9081754753024639,0.5091351237399874,0.5643052351813136,0.8361966790449701,0.7805803986836359,0.09065684757569847,0.232020905704574,0.808135861885826,0.7759708796625314,0.15995690526545825,0.7348106840981005,0.48766057913293326,0.46581014820584943,0.25324345197523146,0.6369734509961474,0.9403092552764973,0.305435648129756,0.5397694247203227,0.3408184833910817,0.41122501628689934,0.14424689743173658,0.9621813081555198,0.9815652158788579,0.49284623266840866,0.19667105979435218,0.9523375748558832,0.5213178665317666,0.1157020530570102,0.07952517801687486,0.7849072697865368,0.005192118783147737,0.6449556248222699,0.05734562977044688,0.9033856715540116,0.6936107426234415,0.09723164350448499,0.7886372796861159,0.3733790818773104,0.6111986862989991,0.2943036029973439,0.26299518520107656,0.40470118285461787,5.5316840243957444e-05,0.9070047406072862,0.6253644529092433,0.00034485335172218523,0.3046305716434825,0.006401491987161112,0.06076066080707676,0.11961562924030023,0.27360443836280535,0.05438560030794093,0.6565605236922873,0.7903797972217844,0.3590465054091324,0.651713179047548,0.5799061459930916,0.7714299702115188,0.02276106761462937,0.8854367072787648,0.25290188327751173,0.828185816044501,0.931431999705746,0.32163473504925433,0.7670030436624993,0.9482204812244611,0.14378298638876286,0.6989853143414139,0.11610203646417494,0.36170182894693337,0.8469555408085384,0.15885022564498907,0.8662530371410089,0.2783084989171163,0.6891517732549411,0.06899211997090082,0.24891476416346225],\"y\":[0.5530246895095909,0.5114063658182364,0.19632167077068552,0.6633116835922301,0.2967530385132793,0.18149011878825594,0.26974452817912586,0.49477093665370153,0.2868765731690467,0.3854339048345421,0.9534502913246993,0.6831656762957691,0.28200866344504805,0.804693229558513,0.8173873255543442,0.2352492390783011,0.5313868605245917,0.20830674555927708,0.7265956605709124,0.8890594272615531,0.4978642808658147,0.4785441334567595,0.7579076947453655,0.7835873458088128,0.6873901081792856,0.8994332271105333,0.6948029248658788,0.43015615987051026,0.8362137236262562,0.7220380099866432,0.28701007701306,0.9750011462277713,0.05125054931103701,0.6967175984365145,0.4640384426598566,0.7418935602615753,0.902922481124889,0.5599037821923045,0.17005701485542857,0.050970444144300964,0.03141634617533995,0.011706187751954866,0.7043830097885511,0.6660191291252184,0.4552394801014483,0.1256996619646098,0.8937193146542316,0.2518693066430283,0.6339376845613647,0.7189997527120643,0.7376919204261095,0.6082960734084811,0.24687787446616016,0.20800746996486918,0.4449402275007114,0.7861441252458,0.20468958759961897,0.7976012087408345,0.7100272873877508,0.3306360462708352,0.9107964172495696,0.48626821316908464,0.5674879626795541,0.6979428629672558,0.6831904807951374,0.2869917817289176,0.02316965270512772,0.9908386919974969,0.9656258682788698,0.22364676060150668,0.7013980694202024,0.1825940965006747,0.7859819339894095,0.8834219240813425,0.26738596186887276,0.7215561427693629,0.7181485624853147,0.5784521939225223,0.8999827160463033,0.5801521145474953,0.11447093911525208,0.9083640601122993,0.12672584608991644,0.18604405943762492,0.04607626524791342,0.5477821032270659,0.09155256362212749,0.09518820159270736,0.6581562892272133,0.4460777281384425],\"type\":\"scatter\"}],                        {\"template\":{\"data\":{\"bar\":[{\"error_x\":{\"color\":\"#2a3f5f\"},\"error_y\":{\"color\":\"#2a3f5f\"},\"marker\":{\"line\":{\"color\":\"#E5ECF6\",\"width\":0.5},\"pattern\":{\"fillmode\":\"overlay\",\"size\":10,\"solidity\":0.2}},\"type\":\"bar\"}],\"barpolar\":[{\"marker\":{\"line\":{\"color\":\"#E5ECF6\",\"width\":0.5},\"pattern\":{\"fillmode\":\"overlay\",\"size\":10,\"solidity\":0.2}},\"type\":\"barpolar\"}],\"carpet\":[{\"aaxis\":{\"endlinecolor\":\"#2a3f5f\",\"gridcolor\":\"white\",\"linecolor\":\"white\",\"minorgridcolor\":\"white\",\"startlinecolor\":\"#2a3f5f\"},\"baxis\":{\"endlinecolor\":\"#2a3f5f\",\"gridcolor\":\"white\",\"linecolor\":\"white\",\"minorgridcolor\":\"white\",\"startlinecolor\":\"#2a3f5f\"},\"type\":\"carpet\"}],\"choropleth\":[{\"colorbar\":{\"outlinewidth\":0,\"ticks\":\"\"},\"type\":\"choropleth\"}],\"contour\":[{\"colorbar\":{\"outlinewidth\":0,\"ticks\":\"\"},\"colorscale\":[[0.0,\"#0d0887\"],[0.1111111111111111,\"#46039f\"],[0.2222222222222222,\"#7201a8\"],[0.3333333333333333,\"#9c179e\"],[0.4444444444444444,\"#bd3786\"],[0.5555555555555556,\"#d8576b\"],[0.6666666666666666,\"#ed7953\"],[0.7777777777777778,\"#fb9f3a\"],[0.8888888888888888,\"#fdca26\"],[1.0,\"#f0f921\"]],\"type\":\"contour\"}],\"contourcarpet\":[{\"colorbar\":{\"outlinewidth\":0,\"ticks\":\"\"},\"type\":\"contourcarpet\"}],\"heatmap\":[{\"colorbar\":{\"outlinewidth\":0,\"ticks\":\"\"},\"colorscale\":[[0.0,\"#0d0887\"],[0.1111111111111111,\"#46039f\"],[0.2222222222222222,\"#7201a8\"],[0.3333333333333333,\"#9c179e\"],[0.4444444444444444,\"#bd3786\"],[0.5555555555555556,\"#d8576b\"],[0.6666666666666666,\"#ed7953\"],[0.7777777777777778,\"#fb9f3a\"],[0.8888888888888888,\"#fdca26\"],[1.0,\"#f0f921\"]],\"type\":\"heatmap\"}],\"heatmapgl\":[{\"colorbar\":{\"outlinewidth\":0,\"ticks\":\"\"},\"colorscale\":[[0.0,\"#0d0887\"],[0.1111111111111111,\"#46039f\"],[0.2222222222222222,\"#7201a8\"],[0.3333333333333333,\"#9c179e\"],[0.4444444444444444,\"#bd3786\"],[0.5555555555555556,\"#d8576b\"],[0.6666666666666666,\"#ed7953\"],[0.7777777777777778,\"#fb9f3a\"],[0.8888888888888888,\"#fdca26\"],[1.0,\"#f0f921\"]],\"type\":\"heatmapgl\"}],\"histogram\":[{\"marker\":{\"pattern\":{\"fillmode\":\"overlay\",\"size\":10,\"solidity\":0.2}},\"type\":\"histogram\"}],\"histogram2d\":[{\"colorbar\":{\"outlinewidth\":0,\"ticks\":\"\"},\"colorscale\":[[0.0,\"#0d0887\"],[0.1111111111111111,\"#46039f\"],[0.2222222222222222,\"#7201a8\"],[0.3333333333333333,\"#9c179e\"],[0.4444444444444444,\"#bd3786\"],[0.5555555555555556,\"#d8576b\"],[0.6666666666666666,\"#ed7953\"],[0.7777777777777778,\"#fb9f3a\"],[0.8888888888888888,\"#fdca26\"],[1.0,\"#f0f921\"]],\"type\":\"histogram2d\"}],\"histogram2dcontour\":[{\"colorbar\":{\"outlinewidth\":0,\"ticks\":\"\"},\"colorscale\":[[0.0,\"#0d0887\"],[0.1111111111111111,\"#46039f\"],[0.2222222222222222,\"#7201a8\"],[0.3333333333333333,\"#9c179e\"],[0.4444444444444444,\"#bd3786\"],[0.5555555555555556,\"#d8576b\"],[0.6666666666666666,\"#ed7953\"],[0.7777777777777778,\"#fb9f3a\"],[0.8888888888888888,\"#fdca26\"],[1.0,\"#f0f921\"]],\"type\":\"histogram2dcontour\"}],\"mesh3d\":[{\"colorbar\":{\"outlinewidth\":0,\"ticks\":\"\"},\"type\":\"mesh3d\"}],\"parcoords\":[{\"line\":{\"colorbar\":{\"outlinewidth\":0,\"ticks\":\"\"}},\"type\":\"parcoords\"}],\"pie\":[{\"automargin\":true,\"type\":\"pie\"}],\"scatter\":[{\"marker\":{\"colorbar\":{\"outlinewidth\":0,\"ticks\":\"\"}},\"type\":\"scatter\"}],\"scatter3d\":[{\"line\":{\"colorbar\":{\"outlinewidth\":0,\"ticks\":\"\"}},\"marker\":{\"colorbar\":{\"outlinewidth\":0,\"ticks\":\"\"}},\"type\":\"scatter3d\"}],\"scattercarpet\":[{\"marker\":{\"colorbar\":{\"outlinewidth\":0,\"ticks\":\"\"}},\"type\":\"scattercarpet\"}],\"scattergeo\":[{\"marker\":{\"colorbar\":{\"outlinewidth\":0,\"ticks\":\"\"}},\"type\":\"scattergeo\"}],\"scattergl\":[{\"marker\":{\"colorbar\":{\"outlinewidth\":0,\"ticks\":\"\"}},\"type\":\"scattergl\"}],\"scattermapbox\":[{\"marker\":{\"colorbar\":{\"outlinewidth\":0,\"ticks\":\"\"}},\"type\":\"scattermapbox\"}],\"scatterpolar\":[{\"marker\":{\"colorbar\":{\"outlinewidth\":0,\"ticks\":\"\"}},\"type\":\"scatterpolar\"}],\"scatterpolargl\":[{\"marker\":{\"colorbar\":{\"outlinewidth\":0,\"ticks\":\"\"}},\"type\":\"scatterpolargl\"}],\"scatterternary\":[{\"marker\":{\"colorbar\":{\"outlinewidth\":0,\"ticks\":\"\"}},\"type\":\"scatterternary\"}],\"surface\":[{\"colorbar\":{\"outlinewidth\":0,\"ticks\":\"\"},\"colorscale\":[[0.0,\"#0d0887\"],[0.1111111111111111,\"#46039f\"],[0.2222222222222222,\"#7201a8\"],[0.3333333333333333,\"#9c179e\"],[0.4444444444444444,\"#bd3786\"],[0.5555555555555556,\"#d8576b\"],[0.6666666666666666,\"#ed7953\"],[0.7777777777777778,\"#fb9f3a\"],[0.8888888888888888,\"#fdca26\"],[1.0,\"#f0f921\"]],\"type\":\"surface\"}],\"table\":[{\"cells\":{\"fill\":{\"color\":\"#EBF0F8\"},\"line\":{\"color\":\"white\"}},\"header\":{\"fill\":{\"color\":\"#C8D4E3\"},\"line\":{\"color\":\"white\"}},\"type\":\"table\"}]},\"layout\":{\"annotationdefaults\":{\"arrowcolor\":\"#2a3f5f\",\"arrowhead\":0,\"arrowwidth\":1},\"autotypenumbers\":\"strict\",\"coloraxis\":{\"colorbar\":{\"outlinewidth\":0,\"ticks\":\"\"}},\"colorscale\":{\"diverging\":[[0,\"#8e0152\"],[0.1,\"#c51b7d\"],[0.2,\"#de77ae\"],[0.3,\"#f1b6da\"],[0.4,\"#fde0ef\"],[0.5,\"#f7f7f7\"],[0.6,\"#e6f5d0\"],[0.7,\"#b8e186\"],[0.8,\"#7fbc41\"],[0.9,\"#4d9221\"],[1,\"#276419\"]],\"sequential\":[[0.0,\"#0d0887\"],[0.1111111111111111,\"#46039f\"],[0.2222222222222222,\"#7201a8\"],[0.3333333333333333,\"#9c179e\"],[0.4444444444444444,\"#bd3786\"],[0.5555555555555556,\"#d8576b\"],[0.6666666666666666,\"#ed7953\"],[0.7777777777777778,\"#fb9f3a\"],[0.8888888888888888,\"#fdca26\"],[1.0,\"#f0f921\"]],\"sequentialminus\":[[0.0,\"#0d0887\"],[0.1111111111111111,\"#46039f\"],[0.2222222222222222,\"#7201a8\"],[0.3333333333333333,\"#9c179e\"],[0.4444444444444444,\"#bd3786\"],[0.5555555555555556,\"#d8576b\"],[0.6666666666666666,\"#ed7953\"],[0.7777777777777778,\"#fb9f3a\"],[0.8888888888888888,\"#fdca26\"],[1.0,\"#f0f921\"]]},\"colorway\":[\"#636efa\",\"#EF553B\",\"#00cc96\",\"#ab63fa\",\"#FFA15A\",\"#19d3f3\",\"#FF6692\",\"#B6E880\",\"#FF97FF\",\"#FECB52\"],\"font\":{\"color\":\"#2a3f5f\"},\"geo\":{\"bgcolor\":\"white\",\"lakecolor\":\"white\",\"landcolor\":\"#E5ECF6\",\"showlakes\":true,\"showland\":true,\"subunitcolor\":\"white\"},\"hoverlabel\":{\"align\":\"left\"},\"hovermode\":\"closest\",\"mapbox\":{\"style\":\"light\"},\"paper_bgcolor\":\"white\",\"plot_bgcolor\":\"#E5ECF6\",\"polar\":{\"angularaxis\":{\"gridcolor\":\"white\",\"linecolor\":\"white\",\"ticks\":\"\"},\"bgcolor\":\"#E5ECF6\",\"radialaxis\":{\"gridcolor\":\"white\",\"linecolor\":\"white\",\"ticks\":\"\"}},\"scene\":{\"xaxis\":{\"backgroundcolor\":\"#E5ECF6\",\"gridcolor\":\"white\",\"gridwidth\":2,\"linecolor\":\"white\",\"showbackground\":true,\"ticks\":\"\",\"zerolinecolor\":\"white\"},\"yaxis\":{\"backgroundcolor\":\"#E5ECF6\",\"gridcolor\":\"white\",\"gridwidth\":2,\"linecolor\":\"white\",\"showbackground\":true,\"ticks\":\"\",\"zerolinecolor\":\"white\"},\"zaxis\":{\"backgroundcolor\":\"#E5ECF6\",\"gridcolor\":\"white\",\"gridwidth\":2,\"linecolor\":\"white\",\"showbackground\":true,\"ticks\":\"\",\"zerolinecolor\":\"white\"}},\"shapedefaults\":{\"line\":{\"color\":\"#2a3f5f\"}},\"ternary\":{\"aaxis\":{\"gridcolor\":\"white\",\"linecolor\":\"white\",\"ticks\":\"\"},\"baxis\":{\"gridcolor\":\"white\",\"linecolor\":\"white\",\"ticks\":\"\"},\"bgcolor\":\"#E5ECF6\",\"caxis\":{\"gridcolor\":\"white\",\"linecolor\":\"white\",\"ticks\":\"\"}},\"title\":{\"x\":0.05},\"xaxis\":{\"automargin\":true,\"gridcolor\":\"white\",\"linecolor\":\"white\",\"ticks\":\"\",\"title\":{\"standoff\":15},\"zerolinecolor\":\"white\",\"zerolinewidth\":2},\"yaxis\":{\"automargin\":true,\"gridcolor\":\"white\",\"linecolor\":\"white\",\"ticks\":\"\",\"title\":{\"standoff\":15},\"zerolinecolor\":\"white\",\"zerolinewidth\":2}}},\"margin\":{\"l\":50,\"r\":10,\"t\":10,\"b\":10},\"width\":500,\"height\":350,\"xaxis\":{\"showticklabels\":false},\"yaxis\":{\"showticklabels\":false}},                        {\"responsive\": true}                    ).then(function(){\n",
       "                            \n",
       "var gd = document.getElementById('214a4cff-f3c9-4bc5-86d8-14b96b9a3607');\n",
       "var x = new MutationObserver(function (mutations, observer) {{\n",
       "        var display = window.getComputedStyle(gd).display;\n",
       "        if (!display || display === 'none') {{\n",
       "            console.log([gd, 'removed!']);\n",
       "            Plotly.purge(gd);\n",
       "            observer.disconnect();\n",
       "        }}\n",
       "}});\n",
       "\n",
       "// Listen for the removal of the full notebook cells\n",
       "var notebookContainer = gd.closest('#notebook-container');\n",
       "if (notebookContainer) {{\n",
       "    x.observe(notebookContainer, {childList: true});\n",
       "}}\n",
       "\n",
       "// Listen for the clearing of the current output cell\n",
       "var outputEl = gd.closest('.output');\n",
       "if (outputEl) {{\n",
       "    x.observe(outputEl, {childList: true});\n",
       "}}\n",
       "\n",
       "                        })                };                });            </script>        </div>"
      ]
     },
     "metadata": {},
     "output_type": "display_data"
    }
   ],
   "source": [
    "def plot_path(A, order):\n",
    "    fig = go.Figure()\n",
    "    \n",
    "    fig.add_trace(go.Scatter(x=A[:,0], y=A[:,1],\n",
    "                    mode='markers',\n",
    "                    name='Cites'))\n",
    "    fig.add_trace(go.Scatter(x=A[order][:,0], y=A[order][:,1],\n",
    "                    mode='lines',\n",
    "                    name='Path'))\n",
    "    \n",
    "    fig.update_layout(\n",
    "        width=500,\n",
    "        height=350,\n",
    "        margin=dict(l=50, r=10, t=10, b=10)\n",
    "    )\n",
    "    fig.update_xaxes(showticklabels=False)\n",
    "    fig.update_yaxes(showticklabels=False)\n",
    "    return fig\n",
    "plot_path(A, order)"
   ]
  },
  {
   "cell_type": "code",
   "execution_count": 64,
   "id": "036e071b-435e-4ccc-9db3-64b058d46c9f",
   "metadata": {},
   "outputs": [
    {
     "name": "stdout",
     "output_type": "stream",
     "text": [
      "Initial (random) path length: 48.55216279501888\n"
     ]
    }
   ],
   "source": [
    "def walk_cost(order):\n",
    "    dists = np.linalg.norm(A[order] - np.roll(A[order], shift=1, axis=0), axis=1)\n",
    "    return dists[1:].sum()\n",
    "\n",
    "print(f\"Initial (random) path length: {walk_cost(order)}\")"
   ]
  },
  {
   "cell_type": "code",
   "execution_count": 54,
   "id": "be52c2fd-93f6-452e-8e31-72249031f324",
   "metadata": {},
   "outputs": [],
   "source": [
    "def arbitrary_swap(order):\n",
    "    new_order = np.copy(order)\n",
    "    a, b = np.random.randint(len(new_order), size=2)\n",
    "    new_order[[a,b]] = new_order[[b,a]]\n",
    "    return new_order"
   ]
  },
  {
   "cell_type": "code",
   "execution_count": 55,
   "id": "b1faea01-7378-426b-ad8a-78510f3e5c5b",
   "metadata": {},
   "outputs": [
    {
     "data": {
      "text/plain": [
       "<AxesSubplot:xlabel='Temperature', ylabel='Acceptance rate (est)'>"
      ]
     },
     "execution_count": 55,
     "metadata": {},
     "output_type": "execute_result"
    },
    {
     "data": {
      "image/png": "[encoded data removed]",
      "text/plain": [
       "<Figure size 432x288 with 1 Axes>"
      ]
     },
     "metadata": {
      "needs_background": "light"
     },
     "output_type": "display_data"
    }
   ],
   "source": [
    "def accept_decision(T):\n",
    "    return np.tanh((T-500)/300)>2*np.random.random()-0.92\n",
    "\n",
    "X = [x for x in range(0, 2000, 10)]\n",
    "Y = [sum([accept_decision(x) for _ in range(100)])/100 for x in X]\n",
    "fig = sns.lineplot(x=X, y=Y)\n",
    "fig.set( xlabel = \"Temperature\", ylabel = \"Acceptance rate (est)\")\n",
    "fig"
   ]
  },
  {
   "cell_type": "code",
   "execution_count": 56,
   "id": "334b17fe-21ef-4e49-af21-be3607c4b449",
   "metadata": {},
   "outputs": [],
   "source": [
    "def tsp(x_0, cost_fun, step, decision_fun, T_0=2000, T_change_fun=None, iters=10**3, max_tries=100):\n",
    "    x = x_0\n",
    "    T = T_0\n",
    "    T_change_fun = T_change_fun or (lambda x: 0.95*x)\n",
    "    cost_hist = []\n",
    "    T_hist = []\n",
    "    last_cost = np.inf\n",
    "    for _ in range(iters):\n",
    "        for _ in range(max_tries):\n",
    "            new_x = step(x)\n",
    "            cost = cost_fun(new_x)\n",
    "            if cost<last_cost or decision_fun(T):\n",
    "                x = new_x\n",
    "                last_cost = cost\n",
    "                break\n",
    "        cost_hist.append(last_cost)\n",
    "        T_hist.append(T)\n",
    "        T = T_change_fun(T)\n",
    "        \n",
    "    return x, cost_hist, T_hist"
   ]
  },
  {
   "cell_type": "code",
   "execution_count": 57,
   "id": "f15d5157-e18f-40e9-82f0-bd49a5bed30f",
   "metadata": {},
   "outputs": [
    {
     "data": {
      "application/vnd.plotly.v1+json": {
       "config": {
        "plotlyServerURL": "https://plot.ly"
       },
       "data": [
        {
         "name": "Cost",
         "type": "scatter",
         "x": [
          0,
          1,
          2,
          3,
          4,
          5,
          6,
          7,
          8,
          9,
          10,
          11,
          12,
          13,
          14,
          15,
          16,
          17,
          18,
          19,
          20,
          21,
          22,
          23,
          24,
          25,
          26,
          27,
          28,
          29,
          30,
          31,
          32,
          33,
          34,
          35,
          36,
          37,
          38,
          39,
          40,
          41,
          42,
          43,
          44,
          45,
          46,
          47,
          48,
          49,
          50,
          51,
          52,
          53,
          54,
          55,
          56,
          57,
          58,
          59,
          60,
          61,
          62,
          63,
          64,
          65,
          66,
          67,
          68,
          69,
          70,
          71,
          72,
          73,
          74,
          75,
          76,
          77,
          78,
          79,
          80,
          81,
          82,
          83,
          84,
          85,
          86,
          87,
          88,
          89,
          90,
          91,
          92,
          93,
          94,
          95,
          96,
          97,
          98,
          99,
          100,
          101,
          102,
          103,
          104,
          105,
          106,
          107,
          108,
          109,
          110,
          111,
          112,
          113,
          114,
          115,
          116,
          117,
          118,
          119,
          120,
          121,
          122,
          123,
          124,
          125,
          126,
          127,
          128,
          129,
          130,
          131,
          132,
          133,
          134,
          135,
          136,
          137,
          138,
          139,
          140,
          141,
          142,
          143,
          144,
          145,
          146,
          147,
          148,
          149,
          150,
          151,
          152,
          153,
          154,
          155,
          156,
          157,
          158,
          159,
          160,
          161,
          162,
          163,
          164,
          165,
          166,
          167,
          168,
          169,
          170,
          171,
          172,
          173,
          174,
          175,
          176,
          177,
          178,
          179,
          180,
          181,
          182,
          183,
          184,
          185,
          186,
          187,
          188,
          189,
          190,
          191,
          192,
          193,
          194,
          195,
          196,
          197,
          198,
          199,
          200,
          201,
          202,
          203,
          204,
          205,
          206,
          207,
          208,
          209,
          210,
          211,
          212,
          213,
          214,
          215,
          216,
          217,
          218,
          219,
          220,
          221,
          222,
          223,
          224,
          225,
          226,
          227,
          228,
          229,
          230,
          231,
          232,
          233,
          234,
          235,
          236,
          237,
          238,
          239,
          240,
          241,
          242,
          243,
          244,
          245,
          246,
          247,
          248,
          249,
          250,
          251,
          252,
          253,
          254,
          255,
          256,
          257,
          258,
          259,
          260,
          261,
          262,
          263,
          264,
          265,
          266,
          267,
          268,
          269,
          270,
          271,
          272,
          273,
          274,
          275,
          276,
          277,
          278,
          279,
          280,
          281,
          282,
          283,
          284,
          285,
          286,
          287,
          288,
          289,
          290,
          291,
          292,
          293,
          294,
          295,
          296,
          297,
          298,
          299,
          300,
          301,
          302,
          303,
          304,
          305,
          306,
          307,
          308,
          309,
          310,
          311,
          312,
          313,
          314,
          315,
          316,
          317,
          318,
          319,
          320,
          321,
          322,
          323,
          324,
          325,
          326,
          327,
          328,
          329,
          330,
          331,
          332,
          333,
          334,
          335,
          336,
          337,
          338,
          339,
          340,
          341,
          342,
          343,
          344,
          345,
          346,
          347,
          348,
          349,
          350,
          351,
          352,
          353,
          354,
          355,
          356,
          357,
          358,
          359,
          360,
          361,
          362,
          363,
          364,
          365,
          366,
          367,
          368,
          369,
          370,
          371,
          372,
          373,
          374,
          375,
          376,
          377,
          378,
          379,
          380,
          381,
          382,
          383,
          384,
          385,
          386,
          387,
          388,
          389,
          390,
          391,
          392,
          393,
          394,
          395,
          396,
          397,
          398,
          399,
          400,
          401,
          402,
          403,
          404,
          405,
          406,
          407,
          408,
          409,
          410,
          411,
          412,
          413,
          414,
          415,
          416,
          417,
          418,
          419,
          420,
          421,
          422,
          423,
          424,
          425,
          426,
          427,
          428,
          429,
          430,
          431,
          432,
          433,
          434,
          435,
          436,
          437,
          438,
          439,
          440,
          441,
          442,
          443,
          444,
          445,
          446,
          447,
          448,
          449,
          450,
          451,
          452,
          453,
          454,
          455,
          456,
          457,
          458,
          459,
          460,
          461,
          462,
          463,
          464,
          465,
          466,
          467,
          468,
          469,
          470,
          471,
          472,
          473,
          474,
          475,
          476,
          477,
          478,
          479,
          480,
          481,
          482,
          483,
          484,
          485,
          486,
          487,
          488,
          489,
          490,
          491,
          492,
          493,
          494,
          495,
          496,
          497,
          498,
          499,
          500,
          501,
          502,
          503,
          504,
          505,
          506,
          507,
          508,
          509,
          510,
          511,
          512,
          513,
          514,
          515,
          516,
          517,
          518,
          519,
          520,
          521,
          522,
          523,
          524,
          525,
          526,
          527,
          528,
          529,
          530,
          531,
          532,
          533,
          534,
          535,
          536,
          537,
          538,
          539,
          540,
          541,
          542,
          543,
          544,
          545,
          546,
          547,
          548,
          549,
          550,
          551,
          552,
          553,
          554,
          555,
          556,
          557,
          558,
          559,
          560,
          561,
          562,
          563,
          564,
          565,
          566,
          567,
          568,
          569,
          570,
          571,
          572,
          573,
          574,
          575,
          576,
          577,
          578,
          579,
          580,
          581,
          582,
          583,
          584,
          585,
          586,
          587,
          588,
          589,
          590,
          591,
          592,
          593,
          594,
          595,
          596,
          597,
          598,
          599,
          600,
          601,
          602,
          603,
          604,
          605,
          606,
          607,
          608,
          609,
          610,
          611,
          612,
          613,
          614,
          615,
          616,
          617,
          618,
          619,
          620,
          621,
          622,
          623,
          624,
          625,
          626,
          627,
          628,
          629,
          630,
          631,
          632,
          633,
          634,
          635,
          636,
          637,
          638,
          639,
          640,
          641,
          642,
          643,
          644,
          645,
          646,
          647,
          648,
          649,
          650,
          651,
          652,
          653,
          654,
          655,
          656,
          657,
          658,
          659,
          660,
          661,
          662,
          663,
          664,
          665,
          666,
          667,
          668,
          669,
          670,
          671,
          672,
          673,
          674,
          675,
          676,
          677,
          678,
          679,
          680,
          681,
          682,
          683,
          684,
          685,
          686,
          687,
          688,
          689,
          690,
          691,
          692,
          693,
          694,
          695,
          696,
          697,
          698,
          699,
          700,
          701,
          702,
          703,
          704,
          705,
          706,
          707,
          708,
          709,
          710,
          711,
          712,
          713,
          714,
          715,
          716,
          717,
          718,
          719,
          720,
          721,
          722,
          723,
          724,
          725,
          726,
          727,
          728,
          729,
          730,
          731,
          732,
          733,
          734,
          735,
          736,
          737,
          738,
          739,
          740,
          741,
          742,
          743,
          744,
          745,
          746,
          747,
          748,
          749,
          750,
          751,
          752,
          753,
          754,
          755,
          756,
          757,
          758,
          759,
          760,
          761,
          762,
          763,
          764,
          765,
          766,
          767,
          768,
          769,
          770,
          771,
          772,
          773,
          774,
          775,
          776,
          777,
          778,
          779,
          780,
          781,
          782,
          783,
          784,
          785,
          786,
          787,
          788,
          789,
          790,
          791,
          792,
          793,
          794,
          795,
          796,
          797,
          798,
          799,
          800,
          801,
          802,
          803,
          804,
          805,
          806,
          807,
          808,
          809,
          810,
          811,
          812,
          813,
          814,
          815,
          816,
          817,
          818,
          819,
          820,
          821,
          822,
          823,
          824,
          825,
          826,
          827,
          828,
          829,
          830,
          831,
          832,
          833,
          834,
          835,
          836,
          837,
          838,
          839,
          840,
          841,
          842,
          843,
          844,
          845,
          846,
          847,
          848,
          849,
          850,
          851,
          852,
          853,
          854,
          855,
          856,
          857,
          858,
          859,
          860,
          861,
          862,
          863,
          864,
          865,
          866,
          867,
          868,
          869,
          870,
          871,
          872,
          873,
          874,
          875,
          876,
          877,
          878,
          879,
          880,
          881,
          882,
          883,
          884,
          885,
          886,
          887,
          888,
          889,
          890,
          891,
          892,
          893,
          894,
          895,
          896,
          897,
          898,
          899,
          900,
          901,
          902,
          903,
          904,
          905,
          906,
          907,
          908,
          909,
          910,
          911,
          912,
          913,
          914,
          915,
          916,
          917,
          918,
          919,
          920,
          921,
          922,
          923,
          924,
          925,
          926,
          927,
          928,
          929,
          930,
          931,
          932,
          933,
          934,
          935,
          936,
          937,
          938,
          939,
          940,
          941,
          942,
          943,
          944,
          945,
          946,
          947,
          948,
          949,
          950,
          951,
          952,
          953,
          954,
          955,
          956,
          957,
          958,
          959,
          960,
          961,
          962,
          963,
          964,
          965,
          966,
          967,
          968,
          969,
          970,
          971,
          972,
          973,
          974,
          975,
          976,
          977,
          978,
          979,
          980,
          981,
          982,
          983,
          984,
          985,
          986,
          987,
          988,
          989,
          990,
          991,
          992,
          993,
          994,
          995,
          996,
          997,
          998,
          999
         ],
         "xaxis": "x",
         "y": [
          44.20633449794529,
          44.40890983982046,
          44.06827633056017,
          43.828552756262305,
          44.91300715074659,
          45.44422545866274,
          44.90137870624347,
          45.37383571778788,
          46.62171862630395,
          46.53068999449602,
          46.655998774326655,
          46.42954770796667,
          45.772549498967756,
          45.77597772060232,
          45.713592457899104,
          46.00979290765502,
          47.379455793774106,
          47.96001818968181,
          46.22164902430894,
          46.29447996502895,
          46.352904854445235,
          46.572845575549884,
          45.70465351982451,
          46.59874487142476,
          46.1243167253978,
          46.59935174510694,
          46.98164994285053,
          47.2702858047444,
          46.79393458242197,
          46.32862575790264,
          46.3425862334959,
          47.05380200967837,
          47.256645568938715,
          47.656991303458184,
          46.632818554431424,
          46.5564629569906,
          47.10902228116773,
          47.726768327981034,
          48.037880420381086,
          47.85596670549176,
          47.87025491413903,
          47.63426723423773,
          48.07965667343171,
          48.1295935611836,
          47.502320191994,
          47.59192620611596,
          48.23078816440088,
          46.62305095457795,
          48.149212733799004,
          49.04077165095107,
          49.49620844359005,
          49.40589745982927,
          49.85843614919173,
          49.960566703240765,
          50.11962029249241,
          50.583242194561585,
          50.46680692941779,
          50.28599119874651,
          51.10408726237677,
          51.43403570987903,
          50.89552961577588,
          50.89552961577588,
          50.42458463974609,
          51.30069512914698,
          51.77368841625438,
          51.29284161797045,
          51.17919577473439,
          50.83179249762131,
          51.15626297956656,
          51.19788233628023,
          50.82483743613576,
          50.60084835495651,
          50.74228335266423,
          50.755583301019264,
          50.513727214175546,
          50.246301776950375,
          50.475047082803684,
          49.70217510348955,
          49.67852752279564,
          49.5269083711695,
          50.103803686375116,
          49.41881931291657,
          49.32074006401905,
          49.15113832574909,
          49.41532007793323,
          49.42541280739118,
          50.09701067704347,
          49.644158770848634,
          50.23952592839073,
          50.134216421459,
          50.01218143141277,
          50.565882008834635,
          50.43506245042504,
          51.687403194289594,
          51.521182215941025,
          50.228587299650414,
          49.7735546276507,
          49.51741977566974,
          49.01133614279635,
          48.66828311758894,
          48.54706044817084,
          48.552197752730436,
          47.94621186908569,
          48.542800145559134,
          48.55242020715218,
          48.45533006512845,
          48.764597307653155,
          47.898753301918674,
          48.61427197706084,
          48.89116534960811,
          49.64331083976316,
          50.95368593807858,
          48.70996677144733,
          48.68379769331477,
          49.70902076922867,
          48.09045184355383,
          47.88625137506486,
          47.493534749011125,
          47.45108744391968,
          45.64508107921699,
          45.4219856245396,
          45.54595236907047,
          45.494829973419385,
          44.88609998296576,
          44.70596421182975,
          44.22135768647349,
          44.13541806790293,
          43.2521723780987,
          42.80983314439022,
          43.335999419624876,
          43.26256665945123,
          43.074429663442935,
          42.971117208470766,
          44.064919576784156,
          43.966597310220585,
          44.03025715599697,
          44.311317894403466,
          43.37975008920798,
          43.2810017324977,
          42.80423764567333,
          43.065496954766466,
          43.25523243352671,
          43.41258895640849,
          44.16343574434583,
          46.12167807363405,
          45.90787171431578,
          45.64451440790426,
          45.457588585901995,
          45.43692927809566,
          45.58271282816367,
          45.55012563880386,
          45.44907565670887,
          45.37525400787313,
          44.766721591949555,
          46.2792442729797,
          45.86779902361497,
          45.6779529227172,
          45.76853503451313,
          45.54448022510078,
          44.63238040545695,
          44.93246379897101,
          43.25674974936665,
          43.667672866784976,
          43.857063310474125,
          43.83303893194665,
          43.614414942946944,
          43.43847063124223,
          43.940703507185496,
          43.53528915615083,
          42.99328135877771,
          42.24590876419459,
          41.58063949404988,
          41.434916184076954,
          41.434916184076954,
          41.41858905004505,
          41.72414892201593,
          41.58775498837045,
          41.57791034954468,
          41.178304273470616,
          41.356600357544245,
          41.28301737308962,
          41.213559777677645,
          41.044968895456044,
          40.77320134063328,
          41.95103961119689,
          41.60224260201874,
          41.60717686307369,
          41.43405097775634,
          41.35681999724433,
          41.00112261854121,
          41.26494275394094,
          41.92357707610159,
          40.81975820977104,
          40.804925464173905,
          40.60784304674487,
          40.56711664479609,
          42.00810922299214,
          41.57805836694826,
          41.383403996829436,
          41.16615968019432,
          41.11122925340824,
          41.131016831025164,
          40.97471946525789,
          40.659546144965944,
          40.36218625625104,
          40.03535047030866,
          39.691697668397296,
          39.365570059070805,
          38.95150291643774,
          38.95073339621348,
          38.25373264310778,
          37.79373842452372,
          37.77995481175565,
          37.72578227611899,
          37.64106277974901,
          37.647363041422466,
          36.961135699619206,
          36.63284196340069,
          36.82689804724279,
          36.592079243431456,
          36.8318779175934,
          36.434544555993426,
          36.494253506958174,
          36.40916368721357,
          36.02921686253404,
          35.26537189151096,
          34.74183115640086,
          35.86590568550475,
          36.12442254047988,
          35.456169540185876,
          34.90541146242767,
          35.63951046576936,
          35.624066019380834,
          35.61877577509386,
          35.569772556378986,
          35.47968807465629,
          35.03110434745397,
          34.322060498625035,
          34.301950735258515,
          34.19914230190971,
          34.107500003541794,
          34.082562056518825,
          33.88119469901412,
          33.82808548281587,
          33.53045141527695,
          33.05926466425072,
          32.168288256443375,
          32.03012702331503,
          31.786987646461313,
          32.98017575656692,
          33.55000840408903,
          33.21565667508676,
          33.183669476059976,
          33.18282810567285,
          33.735032051849245,
          33.59043142388047,
          33.57172272244315,
          33.486854518670924,
          33.53505308884098,
          33.13537551455421,
          34.7974897147706,
          34.6328812262535,
          34.2672214166474,
          33.99244766401475,
          34.207256799804654,
          35.37779825203252,
          35.36436918037862,
          34.79943817084449,
          34.566461003812364,
          34.56593351194308,
          33.99920491972731,
          33.69398227150402,
          33.07996073901089,
          33.06389613175963,
          33.01293889706289,
          32.90365893173421,
          32.71740099051117,
          34.21169515015144,
          34.067082290122215,
          34.03675695388371,
          34.750105890479986,
          34.47362672240878,
          34.157338531495164,
          33.90371478969984,
          33.89182214669258,
          33.75010536805937,
          33.67770675727522,
          34.268385914106034,
          34.06882663387351,
          33.15718011123076,
          34.2021422287443,
          33.69156455250145,
          33.553335717373194,
          33.47317224662601,
          33.41077317099508,
          33.23314108742237,
          32.67445193306126,
          32.4864118013311,
          32.410153162502525,
          32.22164302980204,
          32.0584004944274,
          33.380245718188064,
          33.320666549752765,
          32.44379941094709,
          32.182324874641054,
          32.04462505571671,
          31.821236482157282,
          31.54678333456385,
          31.356352847306738,
          30.869821812018724,
          30.836809249539773,
          30.56699824283453,
          30.535264708849567,
          30.528602382390567,
          30.392010858972778,
          29.683668492960134,
          29.560945286523488,
          29.523202761963116,
          29.076769384923953,
          28.542229697361407,
          28.47455822728193,
          28.198547362955523,
          28.15230443872369,
          28.078286646553597,
          27.5498016821557,
          28.739624726513657,
          28.72254108157925,
          28.640927164389378,
          28.663881924044798,
          28.84200183036702,
          28.813669836930938,
          28.718761055829933,
          28.683856545183858,
          28.548091531155972,
          28.479214911098328,
          28.372649496171128,
          28.36193761454116,
          28.34582650695045,
          28.149454802166105,
          27.980986405252242,
          27.581573895756065,
          27.512046208903172,
          27.43577179024331,
          27.367097509146152,
          27.47911710160648,
          27.46530043143822,
          26.49500939621449,
          26.4003548894425,
          26.335273630887706,
          26.122587482934545,
          26.039874374798895,
          25.980126035719405,
          25.880383868662015,
          25.56317956831261,
          25.54081392352742,
          25.499308410762534,
          25.471058724994496,
          25.360693535265916,
          25.322403918370863,
          25.285648294830583,
          25.01651721097142,
          25.008484220707036,
          24.965364654296543,
          24.964420995279134,
          24.162598986709433,
          24.077310268601043,
          23.978685276127756,
          23.77206959134396,
          23.518085809183454,
          23.504639595127305,
          23.219787226242108,
          23.178211178838968,
          22.967905959927087,
          22.652769425609645,
          22.618762846464737,
          22.574711350970194,
          22.293694283253853,
          22.260684159354756,
          22.216267249296823,
          22.110990861978983,
          22.01998722864757,
          22.01274336272608,
          21.944514127356836,
          21.88472980957524,
          21.49046828684718,
          21.456165858347703,
          21.389200224809798,
          22.88779504496506,
          22.810739697895702,
          22.732498779768985,
          22.531196078656528,
          22.528670669966317,
          23.666538403657686,
          22.584994942299442,
          22.545119771852082,
          22.539916646830335,
          22.538129131683675,
          22.38758987711947,
          22.336693897399638,
          22.282781759037345,
          22.139817402853257,
          22.121957278352678,
          21.787550047837488,
          21.635429822909725,
          21.57742769744052,
          21.524923491475878,
          21.508641319479754,
          21.409239077113636,
          21.401424769117607,
          21.3886176297921,
          21.041025225725473,
          20.997588901274273,
          20.899498514616308,
          20.73686432846109,
          20.677851462994045,
          20.485751318784107,
          20.43280973564993,
          20.416901348879264,
          20.170174090665096,
          20.12070503542651,
          20.078569464795116,
          19.646534263059447,
          19.4481548469049,
          19.426515090358137,
          19.420440945626762,
          19.340128539355614,
          19.340128539355614,
          19.32766755499681,
          19.262685814618287,
          19.171746410758477,
          19.140942093253454,
          19.07487154400396,
          18.987274125332274,
          18.878649911676067,
          18.852072902031672,
          18.76407208937605,
          18.645824866679337,
          18.531626003197058,
          18.413498288658296,
          18.821070701437826,
          18.514076944140204,
          18.504883758920666,
          18.26059176426774,
          18.127679015257787,
          17.97892535967184,
          17.953904977616926,
          17.905535889198642,
          17.768446883420236,
          17.74126406784303,
          17.666021048654738,
          17.631661998536945,
          17.46237869397836,
          17.333772667180703,
          17.291380549728665,
          17.290619938695837,
          17.17565207839445,
          17.1264589192827,
          17.078764590022548,
          17.078764590022548,
          16.925352188431624,
          16.907687846404112,
          16.894110568679228,
          16.85532474990003,
          16.80900715316668,
          16.796068278234348,
          16.74941642338232,
          16.686624347371826,
          16.686624347371826,
          16.648309620729528,
          16.595131971143335,
          16.595131971143335,
          16.595131971143335,
          16.23108769075305,
          16.23108769075305,
          16.190771120492805,
          16.130593017838883,
          16.071917573310532,
          16.04901924169981,
          16.008316225683046,
          16.00652299936663,
          15.955303890415996,
          15.955303890415996,
          15.954655998274804,
          15.887054726156016,
          15.837943730146486,
          15.814504573942404,
          15.814504573942404,
          15.785519474657132,
          15.771300999314498,
          15.690553811663616,
          15.640148834496461,
          15.553013112684445,
          15.505318783424292,
          15.505318783424292,
          15.301648182994956,
          15.293069082981724,
          15.278080353154468,
          15.278080353154468,
          15.269068048081028,
          15.269068048081028,
          15.269068048081028,
          15.269068048081028,
          15.229255021598133,
          15.205617076041726,
          15.122587987092249,
          15.11492048750521,
          15.11492048750521,
          14.9548113641433,
          14.95242144137167,
          14.913213987292178,
          14.71178258610565,
          14.63281914389487,
          14.500549114973504,
          14.500549114973504,
          14.500549114973504,
          14.492425362364306,
          14.492425362364306,
          14.492425362364306,
          14.469935257930324,
          14.432380703637435,
          14.432380703637435,
          14.432380703637435,
          14.430278924555857,
          14.430278924555857,
          14.430278924555857,
          14.430278924555857,
          14.430278924555857,
          14.430278924555857,
          14.430278924555857,
          14.403372542242025,
          14.403372542242025,
          14.385643902380673,
          14.385643902380673,
          14.385643902380673,
          14.331914281916921,
          14.331914281916921,
          14.330098313370367,
          14.318716706630678,
          14.318716706630678,
          14.221645894270969,
          14.128664852831985,
          14.128664852831985,
          14.121396907732858,
          14.121396907732858,
          14.121396907732858,
          14.121396907732858,
          14.121396907732858,
          14.10943852643129,
          14.10943852643129,
          14.10943852643129,
          14.099737493687208,
          14.099737493687208,
          14.099737493687208,
          14.03315974572843,
          14.03315974572843,
          14.03315974572843,
          14.03315974572843,
          13.990500891499156,
          13.990500891499156,
          13.990500891499156,
          13.870564650200535,
          13.870564650200535,
          13.685971413949147,
          13.678685028304862,
          13.637679272272933,
          13.507432227342058,
          13.507432227342058,
          13.507432227342058,
          13.507432227342058,
          13.478103858017349,
          13.478103858017349,
          13.478103858017349,
          13.478103858017349,
          13.476768373835034,
          13.476768373835034,
          13.476768373835034,
          13.476768373835034,
          13.476768373835034,
          13.476768373835034,
          13.476768373835034,
          13.476768373835034,
          13.476768373835034,
          13.476768373835034,
          13.476768373835034,
          13.476768373835034,
          13.476768373835034,
          13.476768373835034,
          13.476768373835034,
          13.46594446527343,
          13.46594446527343,
          13.46594446527343,
          13.46594446527343,
          13.46594446527343,
          13.46594446527343,
          13.46594446527343,
          13.46594446527343,
          13.463648128499559,
          13.463648128499559,
          13.445879243106246,
          13.445879243106246,
          13.445879243106246,
          13.445879243106246,
          13.445879243106246,
          13.420322788519794,
          13.420322788519794,
          13.420322788519794,
          13.420322788519794,
          13.420322788519794,
          13.420322788519794,
          13.365532646020611,
          13.365532646020611,
          13.365532646020611,
          13.365532646020611,
          13.365532646020611,
          13.365532646020611,
          13.365532646020611,
          13.352648605103656,
          13.352648605103656,
          13.352648605103656,
          13.352648605103656,
          13.352648605103656,
          13.352648605103656,
          13.352648605103656,
          13.352648605103656,
          13.279176847970291,
          13.279176847970291,
          13.279176847970291,
          13.279176847970291,
          13.279176847970291,
          13.279176847970291,
          13.279176847970291,
          13.279176847970291,
          13.279176847970291,
          13.279176847970291,
          13.279176847970291,
          13.279176847970291,
          13.279176847970291,
          13.279176847970291,
          13.279176847970291,
          13.279176847970291,
          13.279176847970291,
          13.279176847970291,
          13.279176847970291,
          13.279176847970291,
          13.279176847970291,
          13.210306345026517,
          13.210306345026517,
          13.210306345026517,
          13.210306345026517,
          13.210306345026517,
          13.210306345026517,
          13.210306345026517,
          13.210306345026517,
          13.210306345026517,
          13.10663766204424,
          13.10663766204424,
          13.10663766204424,
          13.10663766204424,
          13.10663766204424,
          13.1063478075164,
          13.1063478075164,
          13.060497354630131,
          13.060497354630131,
          13.060497354630131,
          13.060497354630131,
          13.060497354630131,
          13.060497354630131,
          13.054555753789945,
          13.054555753789945,
          13.054546980229617,
          13.054546980229617,
          13.054546980229617,
          13.054546980229617,
          13.054546980229617,
          13.054546980229617,
          13.054546980229617,
          13.054546980229617,
          13.054546980229617,
          13.054546980229617,
          13.054546980229617,
          13.054546980229617,
          13.054546980229617,
          13.054546980229617,
          13.054546980229617,
          13.054546980229617,
          13.054546980229617,
          13.054546980229617,
          13.054546980229617,
          13.054546980229617,
          13.054546980229617,
          13.054546980229617,
          13.054546980229617,
          13.054546980229617,
          13.054546980229617,
          13.054546980229617,
          13.054546980229617,
          13.054546980229617,
          13.054546980229617,
          13.054546980229617,
          13.054546980229617,
          13.054546980229617,
          13.054546980229617,
          13.054546980229617,
          13.054546980229617,
          13.054546980229617,
          13.054546980229617,
          13.054546980229617,
          13.054546980229617,
          13.054546980229617,
          13.054546980229617,
          13.054546980229617,
          13.054546980229617,
          13.054546980229617,
          13.054546980229617,
          13.054546980229617,
          13.054546980229617,
          13.054546980229617,
          13.054546980229617,
          13.054546980229617,
          13.054546980229617,
          13.054546980229617,
          13.054546980229617,
          13.054546980229617,
          13.054546980229617,
          13.054546980229617,
          13.054546980229617,
          13.054546980229617,
          13.054546980229617,
          13.054546980229617,
          13.054546980229617,
          13.054546980229617,
          13.054546980229617,
          13.054546980229617,
          13.054546980229617,
          13.054546980229617,
          13.054546980229617,
          13.054546980229617,
          13.054546980229617,
          13.054546980229617,
          13.054546980229617,
          13.054546980229617,
          13.054546980229617,
          13.054546980229617,
          13.053007532075352,
          13.053007532075352,
          13.053007532075352,
          13.053007532075352,
          13.053007532075352,
          13.053007532075352,
          13.053007532075352,
          13.053007532075352,
          13.053007532075352,
          13.053007532075352,
          13.053007532075352,
          13.053007532075352,
          13.053007532075352,
          13.053007532075352,
          13.053007532075352,
          13.053007532075352,
          13.053007532075352,
          13.053007532075352,
          13.053007532075352,
          13.053007532075352,
          13.053007532075352,
          13.053007532075352,
          13.053007532075352,
          13.053007532075352,
          13.053007532075352,
          13.053007532075352,
          13.053007532075352,
          13.053007532075352,
          13.053007532075352,
          13.053007532075352,
          13.053007532075352,
          13.043640177581814,
          13.043640177581814,
          13.043640177581814,
          13.043640177581814,
          13.043640177581814,
          13.043640177581814,
          13.043640177581814,
          13.043640177581814,
          13.043640177581814,
          13.043640177581814,
          13.043640177581814,
          13.043640177581814,
          13.043640177581814,
          13.043640177581814,
          13.043640177581814,
          13.043640177581814,
          13.043640177581814,
          13.043640177581814,
          13.043640177581814,
          13.043640177581814,
          13.043640177581814,
          13.043640177581814,
          13.043640177581814,
          13.043640177581814,
          13.043640177581814,
          13.043640177581814,
          13.043640177581814,
          13.043640177581814,
          13.043640177581814,
          13.043640177581814,
          13.043640177581814,
          13.043640177581814,
          13.043640177581814,
          13.043640177581814,
          13.043640177581814,
          13.043640177581814,
          13.043640177581814,
          13.043640177581814,
          13.043640177581814,
          13.043640177581814,
          13.043640177581814,
          13.043640177581814,
          13.043640177581814,
          13.043640177581814,
          13.043640177581814,
          13.043640177581814,
          13.043640177581814,
          13.043640177581814,
          13.043640177581814,
          13.043640177581814,
          13.043640177581814,
          13.043640177581814,
          13.043640177581814,
          13.043640177581814,
          13.043640177581814,
          13.043640177581814,
          13.043640177581814,
          13.043640177581814,
          13.043640177581814,
          13.043640177581814,
          13.043640177581814,
          13.043640177581814,
          13.043640177581814,
          13.043640177581814,
          13.043640177581814,
          13.043640177581814,
          13.043640177581814,
          13.043640177581814,
          13.043640177581814,
          13.043640177581814,
          13.043640177581814,
          13.043640177581814,
          13.043640177581814,
          13.043640177581814,
          13.043640177581814,
          13.043640177581814,
          13.043640177581814,
          13.043640177581814,
          13.043640177581814,
          13.043640177581814,
          13.043640177581814,
          13.043640177581814,
          13.043640177581814,
          13.043640177581814,
          13.043640177581814,
          13.043640177581814,
          13.043640177581814,
          13.043640177581814,
          13.043640177581814,
          13.043640177581814,
          13.043640177581814,
          13.043640177581814,
          13.043640177581814,
          13.043640177581814,
          13.043640177581814,
          13.043640177581814,
          13.043640177581814,
          13.043640177581814,
          13.043640177581814,
          13.043640177581814,
          13.043640177581814,
          13.043640177581814,
          13.043640177581814,
          13.043640177581814,
          13.043640177581814,
          13.043640177581814,
          13.043640177581814,
          13.043640177581814,
          13.043640177581814,
          13.043640177581814,
          13.043640177581814,
          13.043640177581814,
          13.043640177581814,
          13.043640177581814,
          13.043640177581814,
          13.043640177581814,
          13.043640177581814,
          13.043640177581814,
          13.043640177581814,
          13.043640177581814,
          13.043640177581814,
          13.043640177581814,
          13.043640177581814,
          13.043640177581814,
          13.043640177581814,
          13.043640177581814,
          13.043640177581814,
          13.043640177581814,
          13.043640177581814,
          13.043640177581814,
          13.043640177581814,
          13.043640177581814,
          13.043640177581814,
          13.043640177581814,
          13.043640177581814,
          13.043640177581814,
          13.043640177581814,
          13.043640177581814,
          13.043640177581814,
          13.043640177581814,
          13.043640177581814,
          13.043640177581814,
          13.043640177581814,
          13.043640177581814,
          13.043640177581814,
          13.043640177581814,
          13.043640177581814,
          13.043640177581814,
          13.043640177581814,
          13.043640177581814,
          13.043640177581814,
          13.043640177581814,
          13.043640177581814,
          13.043640177581814,
          13.043640177581814,
          13.043640177581814,
          13.043640177581814,
          13.043640177581814,
          13.043640177581814,
          13.043640177581814,
          13.043640177581814,
          13.043640177581814,
          13.043640177581814,
          13.043640177581814,
          13.043640177581814,
          13.043640177581814,
          13.043640177581814,
          13.043640177581814,
          13.043640177581814,
          13.043640177581814,
          13.043640177581814,
          13.043640177581814,
          13.043640177581814,
          13.043640177581814,
          13.043640177581814,
          13.043640177581814,
          13.043640177581814,
          13.043640177581814,
          13.043640177581814,
          13.043640177581814,
          13.043640177581814,
          13.043640177581814,
          13.043640177581814,
          13.043640177581814,
          13.043640177581814,
          13.043640177581814,
          13.043640177581814,
          13.043640177581814,
          13.043640177581814,
          13.043640177581814,
          13.043640177581814,
          13.043640177581814,
          13.043640177581814,
          13.043640177581814,
          13.043640177581814,
          13.043640177581814,
          13.043640177581814,
          13.043640177581814,
          13.043640177581814,
          13.043640177581814,
          13.043640177581814,
          13.043640177581814,
          13.043640177581814,
          13.043640177581814,
          13.043640177581814,
          13.043640177581814,
          13.043640177581814,
          13.043640177581814,
          13.043640177581814,
          13.043640177581814,
          13.043640177581814,
          13.043640177581814,
          13.043640177581814,
          13.043640177581814,
          13.043640177581814,
          13.043640177581814,
          13.043640177581814,
          13.043640177581814,
          13.043640177581814,
          13.043640177581814,
          13.043640177581814,
          13.043640177581814,
          13.043640177581814,
          13.043640177581814,
          13.043640177581814,
          13.043640177581814
         ],
         "yaxis": "y"
        },
        {
         "name": "Temperature",
         "type": "scatter",
         "x": [
          0,
          1,
          2,
          3,
          4,
          5,
          6,
          7,
          8,
          9,
          10,
          11,
          12,
          13,
          14,
          15,
          16,
          17,
          18,
          19,
          20,
          21,
          22,
          23,
          24,
          25,
          26,
          27,
          28,
          29,
          30,
          31,
          32,
          33,
          34,
          35,
          36,
          37,
          38,
          39,
          40,
          41,
          42,
          43,
          44,
          45,
          46,
          47,
          48,
          49,
          50,
          51,
          52,
          53,
          54,
          55,
          56,
          57,
          58,
          59,
          60,
          61,
          62,
          63,
          64,
          65,
          66,
          67,
          68,
          69,
          70,
          71,
          72,
          73,
          74,
          75,
          76,
          77,
          78,
          79,
          80,
          81,
          82,
          83,
          84,
          85,
          86,
          87,
          88,
          89,
          90,
          91,
          92,
          93,
          94,
          95,
          96,
          97,
          98,
          99,
          100,
          101,
          102,
          103,
          104,
          105,
          106,
          107,
          108,
          109,
          110,
          111,
          112,
          113,
          114,
          115,
          116,
          117,
          118,
          119,
          120,
          121,
          122,
          123,
          124,
          125,
          126,
          127,
          128,
          129,
          130,
          131,
          132,
          133,
          134,
          135,
          136,
          137,
          138,
          139,
          140,
          141,
          142,
          143,
          144,
          145,
          146,
          147,
          148,
          149,
          150,
          151,
          152,
          153,
          154,
          155,
          156,
          157,
          158,
          159,
          160,
          161,
          162,
          163,
          164,
          165,
          166,
          167,
          168,
          169,
          170,
          171,
          172,
          173,
          174,
          175,
          176,
          177,
          178,
          179,
          180,
          181,
          182,
          183,
          184,
          185,
          186,
          187,
          188,
          189,
          190,
          191,
          192,
          193,
          194,
          195,
          196,
          197,
          198,
          199,
          200,
          201,
          202,
          203,
          204,
          205,
          206,
          207,
          208,
          209,
          210,
          211,
          212,
          213,
          214,
          215,
          216,
          217,
          218,
          219,
          220,
          221,
          222,
          223,
          224,
          225,
          226,
          227,
          228,
          229,
          230,
          231,
          232,
          233,
          234,
          235,
          236,
          237,
          238,
          239,
          240,
          241,
          242,
          243,
          244,
          245,
          246,
          247,
          248,
          249,
          250,
          251,
          252,
          253,
          254,
          255,
          256,
          257,
          258,
          259,
          260,
          261,
          262,
          263,
          264,
          265,
          266,
          267,
          268,
          269,
          270,
          271,
          272,
          273,
          274,
          275,
          276,
          277,
          278,
          279,
          280,
          281,
          282,
          283,
          284,
          285,
          286,
          287,
          288,
          289,
          290,
          291,
          292,
          293,
          294,
          295,
          296,
          297,
          298,
          299,
          300,
          301,
          302,
          303,
          304,
          305,
          306,
          307,
          308,
          309,
          310,
          311,
          312,
          313,
          314,
          315,
          316,
          317,
          318,
          319,
          320,
          321,
          322,
          323,
          324,
          325,
          326,
          327,
          328,
          329,
          330,
          331,
          332,
          333,
          334,
          335,
          336,
          337,
          338,
          339,
          340,
          341,
          342,
          343,
          344,
          345,
          346,
          347,
          348,
          349,
          350,
          351,
          352,
          353,
          354,
          355,
          356,
          357,
          358,
          359,
          360,
          361,
          362,
          363,
          364,
          365,
          366,
          367,
          368,
          369,
          370,
          371,
          372,
          373,
          374,
          375,
          376,
          377,
          378,
          379,
          380,
          381,
          382,
          383,
          384,
          385,
          386,
          387,
          388,
          389,
          390,
          391,
          392,
          393,
          394,
          395,
          396,
          397,
          398,
          399,
          400,
          401,
          402,
          403,
          404,
          405,
          406,
          407,
          408,
          409,
          410,
          411,
          412,
          413,
          414,
          415,
          416,
          417,
          418,
          419,
          420,
          421,
          422,
          423,
          424,
          425,
          426,
          427,
          428,
          429,
          430,
          431,
          432,
          433,
          434,
          435,
          436,
          437,
          438,
          439,
          440,
          441,
          442,
          443,
          444,
          445,
          446,
          447,
          448,
          449,
          450,
          451,
          452,
          453,
          454,
          455,
          456,
          457,
          458,
          459,
          460,
          461,
          462,
          463,
          464,
          465,
          466,
          467,
          468,
          469,
          470,
          471,
          472,
          473,
          474,
          475,
          476,
          477,
          478,
          479,
          480,
          481,
          482,
          483,
          484,
          485,
          486,
          487,
          488,
          489,
          490,
          491,
          492,
          493,
          494,
          495,
          496,
          497,
          498,
          499,
          500,
          501,
          502,
          503,
          504,
          505,
          506,
          507,
          508,
          509,
          510,
          511,
          512,
          513,
          514,
          515,
          516,
          517,
          518,
          519,
          520,
          521,
          522,
          523,
          524,
          525,
          526,
          527,
          528,
          529,
          530,
          531,
          532,
          533,
          534,
          535,
          536,
          537,
          538,
          539,
          540,
          541,
          542,
          543,
          544,
          545,
          546,
          547,
          548,
          549,
          550,
          551,
          552,
          553,
          554,
          555,
          556,
          557,
          558,
          559,
          560,
          561,
          562,
          563,
          564,
          565,
          566,
          567,
          568,
          569,
          570,
          571,
          572,
          573,
          574,
          575,
          576,
          577,
          578,
          579,
          580,
          581,
          582,
          583,
          584,
          585,
          586,
          587,
          588,
          589,
          590,
          591,
          592,
          593,
          594,
          595,
          596,
          597,
          598,
          599,
          600,
          601,
          602,
          603,
          604,
          605,
          606,
          607,
          608,
          609,
          610,
          611,
          612,
          613,
          614,
          615,
          616,
          617,
          618,
          619,
          620,
          621,
          622,
          623,
          624,
          625,
          626,
          627,
          628,
          629,
          630,
          631,
          632,
          633,
          634,
          635,
          636,
          637,
          638,
          639,
          640,
          641,
          642,
          643,
          644,
          645,
          646,
          647,
          648,
          649,
          650,
          651,
          652,
          653,
          654,
          655,
          656,
          657,
          658,
          659,
          660,
          661,
          662,
          663,
          664,
          665,
          666,
          667,
          668,
          669,
          670,
          671,
          672,
          673,
          674,
          675,
          676,
          677,
          678,
          679,
          680,
          681,
          682,
          683,
          684,
          685,
          686,
          687,
          688,
          689,
          690,
          691,
          692,
          693,
          694,
          695,
          696,
          697,
          698,
          699,
          700,
          701,
          702,
          703,
          704,
          705,
          706,
          707,
          708,
          709,
          710,
          711,
          712,
          713,
          714,
          715,
          716,
          717,
          718,
          719,
          720,
          721,
          722,
          723,
          724,
          725,
          726,
          727,
          728,
          729,
          730,
          731,
          732,
          733,
          734,
          735,
          736,
          737,
          738,
          739,
          740,
          741,
          742,
          743,
          744,
          745,
          746,
          747,
          748,
          749,
          750,
          751,
          752,
          753,
          754,
          755,
          756,
          757,
          758,
          759,
          760,
          761,
          762,
          763,
          764,
          765,
          766,
          767,
          768,
          769,
          770,
          771,
          772,
          773,
          774,
          775,
          776,
          777,
          778,
          779,
          780,
          781,
          782,
          783,
          784,
          785,
          786,
          787,
          788,
          789,
          790,
          791,
          792,
          793,
          794,
          795,
          796,
          797,
          798,
          799,
          800,
          801,
          802,
          803,
          804,
          805,
          806,
          807,
          808,
          809,
          810,
          811,
          812,
          813,
          814,
          815,
          816,
          817,
          818,
          819,
          820,
          821,
          822,
          823,
          824,
          825,
          826,
          827,
          828,
          829,
          830,
          831,
          832,
          833,
          834,
          835,
          836,
          837,
          838,
          839,
          840,
          841,
          842,
          843,
          844,
          845,
          846,
          847,
          848,
          849,
          850,
          851,
          852,
          853,
          854,
          855,
          856,
          857,
          858,
          859,
          860,
          861,
          862,
          863,
          864,
          865,
          866,
          867,
          868,
          869,
          870,
          871,
          872,
          873,
          874,
          875,
          876,
          877,
          878,
          879,
          880,
          881,
          882,
          883,
          884,
          885,
          886,
          887,
          888,
          889,
          890,
          891,
          892,
          893,
          894,
          895,
          896,
          897,
          898,
          899,
          900,
          901,
          902,
          903,
          904,
          905,
          906,
          907,
          908,
          909,
          910,
          911,
          912,
          913,
          914,
          915,
          916,
          917,
          918,
          919,
          920,
          921,
          922,
          923,
          924,
          925,
          926,
          927,
          928,
          929,
          930,
          931,
          932,
          933,
          934,
          935,
          936,
          937,
          938,
          939,
          940,
          941,
          942,
          943,
          944,
          945,
          946,
          947,
          948,
          949,
          950,
          951,
          952,
          953,
          954,
          955,
          956,
          957,
          958,
          959,
          960,
          961,
          962,
          963,
          964,
          965,
          966,
          967,
          968,
          969,
          970,
          971,
          972,
          973,
          974,
          975,
          976,
          977,
          978,
          979,
          980,
          981,
          982,
          983,
          984,
          985,
          986,
          987,
          988,
          989,
          990,
          991,
          992,
          993,
          994,
          995,
          996,
          997,
          998,
          999
         ],
         "xaxis": "x",
         "y": [
          2000,
          1980,
          1960.2,
          1940.598,
          1921.19202,
          1901.9800997999998,
          1882.960298802,
          1864.1306958139799,
          1845.48938885584,
          1827.0344949672815,
          1808.7641500176087,
          1790.6765085174327,
          1772.7697434322583,
          1755.0420459979357,
          1737.4916255379562,
          1720.1167092825767,
          1702.915542189751,
          1685.8863867678535,
          1669.027522900175,
          1652.3372476711731,
          1635.8138751944614,
          1619.4557364425168,
          1603.2611790780916,
          1587.2285672873106,
          1571.3562816144374,
          1555.6427187982931,
          1540.0862916103101,
          1524.685428694207,
          1509.438574407265,
          1494.3441886631922,
          1479.4007467765603,
          1464.6067393087947,
          1449.9606719157066,
          1435.4610651965495,
          1421.106454544584,
          1406.8953899991382,
          1392.8264360991468,
          1378.8981717381553,
          1365.1091900207737,
          1351.4580981205659,
          1337.9435171393602,
          1324.5640819679666,
          1311.3184411482869,
          1298.205256736804,
          1285.2232041694358,
          1272.3709721277414,
          1259.647262406464,
          1247.0507897823993,
          1234.5802818845752,
          1222.2344790657294,
          1210.012134275072,
          1197.9120129323212,
          1185.932892802998,
          1174.073563874968,
          1162.3328282362183,
          1150.7094999538563,
          1139.2024049543177,
          1127.8103809047745,
          1116.5322770957268,
          1105.3669543247695,
          1094.3132847815218,
          1083.3701519337067,
          1072.5364504143695,
          1061.8110859102258,
          1051.1929750511235,
          1040.6810453006124,
          1030.2742348476063,
          1019.9714924991302,
          1009.7717775741389,
          999.6740597983975,
          989.6773192004135,
          979.7805460084094,
          969.9827405483253,
          960.2829131428421,
          950.6800840114137,
          941.1732831712995,
          931.7615503395865,
          922.4439348361906,
          913.2194954878287,
          904.0873005329504,
          895.0464275276208,
          886.0959632523446,
          877.2350036198212,
          868.462653583623,
          859.7780270477867,
          851.1802467773089,
          842.6684443095357,
          834.2417598664404,
          825.899342267776,
          817.6403488450982,
          809.4639453566472,
          801.3693059030807,
          793.3556128440498,
          785.4220567156093,
          777.5678361484532,
          769.7921577869687,
          762.094236209099,
          754.473293847008,
          746.9285609085379,
          739.4592752994524,
          732.0646825464579,
          724.7440357209933,
          717.4965953637834,
          710.3216294101455,
          703.2184131160441,
          696.1862289848837,
          689.2243666950349,
          682.3321230280845,
          675.5088017978037,
          668.7537137798256,
          662.0661766420274,
          655.445514875607,
          648.8910597268509,
          642.4021491295824,
          635.9781276382867,
          629.6183463619038,
          623.3221628982848,
          617.0889412693019,
          610.9180518566089,
          604.8088713380429,
          598.7607826246624,
          592.7731747984158,
          586.8454430504316,
          580.9769886199273,
          575.167218733728,
          569.4155465463907,
          563.7213910809268,
          558.0841771701175,
          552.5033353984163,
          546.9783020444321,
          541.5085190239878,
          536.0934338337479,
          530.7324994954104,
          525.4251745004563,
          520.1709227554517,
          514.9692135278972,
          509.8195213926182,
          504.721326178692,
          499.6741129169051,
          494.67737178773604,
          489.7305980698587,
          484.83329208916007,
          479.98495916826846,
          475.1851095765858,
          470.4332584808199,
          465.72892589601173,
          461.0716366370516,
          456.4609202706811,
          451.89631106797424,
          447.3773479572945,
          442.9035744777215,
          438.4745387329443,
          434.08979334561485,
          429.7488954121587,
          425.45140645803707,
          421.1968923934567,
          416.98492346952213,
          412.8150742348269,
          408.6869234924786,
          404.60005425755384,
          400.5540537149783,
          396.5485131778285,
          392.58302804605023,
          388.65719776558973,
          384.77062578793385,
          380.9229195300545,
          377.113690334754,
          373.34255343140643,
          369.6091278970924,
          365.91303661812145,
          362.25390625194024,
          358.6313671894208,
          355.0450535175266,
          351.4946029823513,
          347.97965695252776,
          344.4998603830025,
          341.0548617791725,
          337.64431316138075,
          334.2678700297669,
          330.92519132946927,
          327.61593941617457,
          324.3397800220128,
          321.0963822217927,
          317.88541839957475,
          314.706564215579,
          311.55949857342324,
          308.443903587689,
          305.35946455181215,
          302.30586990629405,
          299.28281120723113,
          296.28998309515885,
          293.32708326420726,
          290.3938124315652,
          287.4898743072496,
          284.6149755641771,
          281.7688258085353,
          278.95113755044997,
          276.16162617494547,
          273.400009913196,
          270.66600981406407,
          267.95934971592345,
          265.2797562187642,
          262.62695865657656,
          260.0006890700108,
          257.4006821793107,
          254.8266753575176,
          252.2784086039424,
          249.755624517903,
          247.25806827272396,
          244.7854875899967,
          242.33763271409674,
          239.91425638695577,
          237.5151138230862,
          235.13996268485533,
          232.7885630580068,
          230.46067742742673,
          228.15607065315245,
          225.87450994662092,
          223.6157648471547,
          221.37960719868315,
          219.16581112669633,
          216.97415301542935,
          214.80441148527507,
          212.65636737042232,
          210.5298036967181,
          208.4245056597509,
          206.34026060315338,
          204.27685799712185,
          202.23408941715064,
          200.21174852297912,
          198.20963103774932,
          196.22753472737182,
          194.2652593800981,
          192.32260678629711,
          190.39938071843414,
          188.4953869112498,
          186.6104330421373,
          184.74432871171592,
          182.89688542459876,
          181.06791657035276,
          179.25723740464923,
          177.46466503060273,
          175.6900183802967,
          173.93311819649372,
          172.1937870145288,
          170.4718491443835,
          168.76713065293967,
          167.07945934641026,
          165.40866475294615,
          163.7545781054167,
          162.11703232436253,
          160.4958620011189,
          158.8909033811077,
          157.3019943472966,
          155.72897440382366,
          154.17168465978543,
          152.62996781318756,
          151.1036681350557,
          149.59263145370514,
          148.09670513916808,
          146.6157380877764,
          145.14958070689863,
          143.69808489982964,
          142.26110405083134,
          140.83849301032302,
          139.43010808021978,
          138.0358069994176,
          136.65544892942341,
          135.28889444012918,
          133.9360054957279,
          132.59664544077063,
          131.27067898636292,
          129.9579721964993,
          128.6583924745343,
          127.37180854978897,
          126.09809046429108,
          124.83710955964817,
          123.58873846405169,
          122.35285107941117,
          121.12932256861706,
          119.91802934293088,
          118.71884904950157,
          117.53166055900655,
          116.35634395341648,
          115.19278051388231,
          114.04085270874349,
          112.90044418165606,
          111.7714397398395,
          110.65372534244109,
          109.54718808901669,
          108.45171620812651,
          107.36719904604524,
          106.29352705558479,
          105.23059178502893,
          104.17828586717864,
          103.13650300850686,
          102.1051379784218,
          101.08408659863757,
          100.07324573265119,
          99.07251327532468,
          98.08178814257144,
          97.10097026114572,
          96.12996055853426,
          95.16866095294893,
          94.21697434341944,
          93.27480459998525,
          92.34205655398539,
          91.41863598844553,
          90.50444962856108,
          89.59940513227546,
          88.7034110809527,
          87.81637697014318,
          86.93821320044175,
          86.06883106843733,
          85.20814275775295,
          84.35606133017542,
          83.51250071687366,
          82.67737570970492,
          81.85060195260787,
          81.03209593308179,
          80.22177497375097,
          79.41955722401346,
          78.62536165177332,
          77.83910803525558,
          77.06071695490301,
          76.29010978535399,
          75.52720868750045,
          74.77193660062544,
          74.02421723461919,
          73.283975062273,
          72.55113531165027,
          71.82562395853377,
          71.10736771894842,
          70.39629404175894,
          69.69233110134134,
          68.99540779032793,
          68.30545371242465,
          67.6223991753004,
          66.9461751835474,
          66.27671343171193,
          65.6139462973948,
          64.95780683442085,
          64.30822876607664,
          63.66514647841587,
          63.02849501363171,
          62.3982100634954,
          61.774227962860444,
          61.156485683231836,
          60.54492082639952,
          59.93947161813552,
          59.34007690195416,
          58.746676132934624,
          58.15920937160528,
          57.577617277889225,
          57.00184110511033,
          56.43182269405923,
          55.867504467118636,
          55.308829422447445,
          54.75574112822297,
          54.208183716940745,
          53.66610187977134,
          53.129440860973624,
          52.598146452363885,
          52.072164987840246,
          51.55144333796184,
          51.03592890458222,
          50.5255696155364,
          50.02031391938103,
          49.520110780187224,
          49.02490967238535,
          48.5346605756615,
          48.04931396990488,
          47.56882083020583,
          47.09313262190377,
          46.62220129568473,
          46.155979282727884,
          45.6944194899006,
          45.237475295001595,
          44.78510054205158,
          44.33724953663106,
          43.89387704126475,
          43.454938270852104,
          43.02038888814358,
          42.59018499926214,
          42.16428314926952,
          41.742640317776825,
          41.325213914599054,
          40.911961775453065,
          40.50284215769853,
          40.097813736121545,
          39.69683559876033,
          39.29986724277273,
          38.906868570345,
          38.51779988464155,
          38.13262188579513,
          37.75129566693718,
          37.37378271026781,
          37.00004488316513,
          36.63004443433348,
          36.26374398999014,
          35.90110655009024,
          35.54209548458934,
          35.18667452974344,
          34.83480778444601,
          34.48645970660154,
          34.14159510953553,
          33.80017915844017,
          33.46217736685577,
          33.12755559318721,
          32.796280037255336,
          32.46831723688278,
          32.143634064513954,
          31.822197723868815,
          31.503975746630125,
          31.188935989163824,
          30.877046629272186,
          30.568276162979465,
          30.26259340134967,
          29.95996746733617,
          29.660367792662807,
          29.363764114736178,
          29.070126473588815,
          28.779425208852928,
          28.491630956764396,
          28.20671464719675,
          27.924647500724785,
          27.645401025717536,
          27.36894701546036,
          27.095257545305756,
          26.824304969852697,
          26.55606192015417,
          26.29050130095263,
          26.027596287943105,
          25.767320325063675,
          25.50964712181304,
          25.254550650594908,
          25.002005144088958,
          24.75198509264807,
          24.50446524172159,
          24.259420589304373,
          24.016826383411328,
          23.776658119577213,
          23.538891538381442,
          23.303502622997627,
          23.07046759676765,
          22.839762920799974,
          22.611365291591973,
          22.385251638676053,
          22.161399122289293,
          21.9397851310664,
          21.720387279755737,
          21.50318340695818,
          21.288151572888598,
          21.075270057159713,
          20.864517356588117,
          20.655872183022236,
          20.449313461192013,
          20.244820326580093,
          20.04237212331429,
          19.841948402081147,
          19.643528918060337,
          19.447093628879735,
          19.252622692590936,
          19.060096465665026,
          18.869495501008377,
          18.68080054599829,
          18.493992540538308,
          18.309052615132924,
          18.125962088981595,
          17.94470246809178,
          17.76525544341086,
          17.587602888976754,
          17.411726860086986,
          17.237609591486116,
          17.065233495571256,
          16.894581160615544,
          16.725635349009387,
          16.558378995519295,
          16.392795205564102,
          16.22886725350846,
          16.066578580973378,
          15.905912795163644,
          15.746853667212008,
          15.589385130539888,
          15.43349127923449,
          15.279156366442145,
          15.126364802777722,
          14.975101154749945,
          14.825350143202446,
          14.67709664177042,
          14.530325675352715,
          14.385022418599188,
          14.241172194413197,
          14.098760472469065,
          13.957772867744374,
          13.81819513906693,
          13.680013187676261,
          13.543213055799498,
          13.407780925241504,
          13.273703115989088,
          13.140966084829197,
          13.009556423980905,
          12.879460859741096,
          12.750666251143684,
          12.623159588632248,
          12.496927992745926,
          12.371958712818467,
          12.248239125690281,
          12.125756734433379,
          12.004499167089046,
          11.884454175418155,
          11.765609633663972,
          11.647953537327332,
          11.53147400195406,
          11.416159261934519,
          11.301997669315174,
          11.188977692622021,
          11.0770879156958,
          10.966317036538843,
          10.856653866173454,
          10.748087327511719,
          10.640606454236602,
          10.534200389694236,
          10.428858385797295,
          10.32456980193932,
          10.221324103919928,
          10.119110862880728,
          10.01791975425192,
          9.9177405567094,
          9.818563151142307,
          9.720377519630883,
          9.623173744434574,
          9.526942006990229,
          9.431672586920326,
          9.337355861051122,
          9.243982302440612,
          9.151542479416205,
          9.060027054622044,
          8.969426784075823,
          8.879732516235064,
          8.790935191072714,
          8.703025839161986,
          8.615995580770367,
          8.529835624962663,
          8.444537268713036,
          8.360091896025907,
          8.276490977065647,
          8.19372606729499,
          8.111788806622041,
          8.03067091855582,
          7.950364209370262,
          7.8708605672765595,
          7.7921519616037935,
          7.714230441987755,
          7.637088137567877,
          7.5607172561921985,
          7.485110083630277,
          7.410258982793974,
          7.336156392966034,
          7.262794829036373,
          7.190166880746009,
          7.1182652119385486,
          7.047082559819163,
          6.976611734220971,
          6.906845616878761,
          6.837777160709973,
          6.769399389102873,
          6.701705395211845,
          6.634688341259727,
          6.568341457847129,
          6.502658043268658,
          6.437631462835972,
          6.373255148207612,
          6.309522596725536,
          6.246427370758281,
          6.183963097050698,
          6.122123466080191,
          6.060902231419389,
          6.0002932091051955,
          5.940290277014143,
          5.8808873742440015,
          5.822078500501561,
          5.763857715496545,
          5.70621913834158,
          5.649156946958164,
          5.592665377488582,
          5.536738723713696,
          5.481371336476559,
          5.426557623111793,
          5.372292046880675,
          5.318569126411869,
          5.26538343514775,
          5.212729600796272,
          5.160602304788309,
          5.108996281740426,
          5.057906318923021,
          5.007327255733791,
          4.957253983176453,
          4.907681443344688,
          4.858604628911241,
          4.810018582622129,
          4.761918396795908,
          4.714299212827949,
          4.6671562206996695,
          4.620484658492673,
          4.574279811907746,
          4.528537013788669,
          4.4832516436507825,
          4.438419127214274,
          4.394034935942131,
          4.35009458658271,
          4.3065936407168826,
          4.2635277043097135,
          4.220892427266616,
          4.17868350299395,
          4.1368966679640105,
          4.095527701284371,
          4.054572424271527,
          4.014026700028811,
          3.973886433028523,
          3.9341475686982377,
          3.894806093011255,
          3.8558580320811426,
          3.817299451760331,
          3.779126457242728,
          3.7413351926703005,
          3.703921840743597,
          3.666882622336161,
          3.6302137961127996,
          3.5939116581516717,
          3.557972541570155,
          3.5223928161544533,
          3.4871688879929086,
          3.4522971991129796,
          3.41777422712185,
          3.3835964848506315,
          3.349760520002125,
          3.316262914802104,
          3.2831002856540827,
          3.2502692827975417,
          3.217766589969566,
          3.1855889240698705,
          3.153733034829172,
          3.1221957044808804,
          3.0909737474360717,
          3.060064009961711,
          3.029463369862094,
          2.999168736163473,
          2.9691770488018383,
          2.93948527831382,
          2.9100904255306816,
          2.880989521275375,
          2.8521796260626213,
          2.823657829801995,
          2.795421251503975,
          2.7674670389889355,
          2.739792368599046,
          2.7123944449130555,
          2.685270500463925,
          2.6584177954592856,
          2.6318336175046926,
          2.605515281329646,
          2.579460128516349,
          2.553665527231186,
          2.528128871958874,
          2.5028475832392854,
          2.4778191074068925,
          2.4530409163328235,
          2.4285105071694955,
          2.4042254020978007,
          2.3801831480768225,
          2.356381316596054,
          2.3328175034300935,
          2.3094893283957925,
          2.2863944351118346,
          2.2635304907607163,
          2.240895185853109,
          2.218486233994578,
          2.196301371654632,
          2.1743383579380855,
          2.1525949743587045,
          2.1310690246151176,
          2.1097583343689665,
          2.088660751025277,
          2.0677741435150243,
          2.047096402079874,
          2.0266254380590754,
          2.0063591836784846,
          1.9862955918416998,
          1.9664326359232829,
          1.94676830956405,
          1.9273006264684094,
          1.9080276202037252,
          1.888947344001688,
          1.870057870561671,
          1.8513572918560544,
          1.8328437189374938,
          1.8145152817481187,
          1.7963701289306375,
          1.7784064276413312,
          1.7606223633649178,
          1.7430161397312687,
          1.725585978333956,
          1.7083301185506163,
          1.69124681736511,
          1.6743343491914588,
          1.6575910056995442,
          1.6410150956425487,
          1.6246049446861233,
          1.608358895239262,
          1.5922753062868693,
          1.5763525532240006,
          1.5605890276917607,
          1.544983137414843,
          1.5295333060406946,
          1.5142379729802877,
          1.4990955932504848,
          1.48410463731798,
          1.4692635909448002,
          1.4545709550353523,
          1.4400252454849987,
          1.4256249930301486,
          1.4113687430998472,
          1.3972550556688488,
          1.3832825051121602,
          1.3694496800610385,
          1.3557551832604282,
          1.342197631427824,
          1.3287756551135457,
          1.31548789856241,
          1.302333019576786,
          1.289309689381018,
          1.276416592487208,
          1.263652426562336,
          1.2510159022967124,
          1.2385057432737454,
          1.2261206858410079,
          1.2138594789825978,
          1.2017208841927718,
          1.189703675350844,
          1.1778066385973356,
          1.1660285722113621,
          1.1543682864892486,
          1.1428246036243561,
          1.1313963575881125,
          1.1200823940122313,
          1.108881570072109,
          1.097792754371388,
          1.086814826827674,
          1.0759466785593974,
          1.0651872117738035,
          1.0545353396560655,
          1.0439899862595048,
          1.0335500863969098,
          1.0232145855329406,
          1.0129824396776113,
          1.002852615280835,
          0.9928240891280267,
          0.9828958482367464,
          0.9730668897543789,
          0.9633362208568351,
          0.9537028586482668,
          0.9441658300617841,
          0.9347241717611663,
          0.9253769300435546,
          0.9161231607431191,
          0.9069619291356878,
          0.897892309844331,
          0.8889133867458877,
          0.8800242528784288,
          0.8712240103496445,
          0.862511770246148,
          0.8538866525436866,
          0.8453477860182497,
          0.8368943081580672,
          0.8285253650764866,
          0.8202401114257217,
          0.8120377103114645,
          0.8039173332083499,
          0.7958781598762664,
          0.7879193782775038,
          0.7800401844947288,
          0.7722397826497814,
          0.7645173848232836,
          0.7568722109750508,
          0.7493034888653002,
          0.7418104539766471,
          0.7343923494368807,
          0.7270484259425118,
          0.7197779416830867,
          0.7125801622662559,
          0.7054543606435933,
          0.6983998170371574,
          0.6914158188667858,
          0.6845016606781179,
          0.6776566440713367,
          0.6708800776306234,
          0.6641712768543172,
          0.657529564085774,
          0.6509542684449162,
          0.6444447257604671,
          0.6380002785028625,
          0.6316202757178339,
          0.6253040729606555,
          0.619051032231049,
          0.6128605219087384,
          0.606731916689651,
          0.6006645975227545,
          0.5946579515475269,
          0.5887113720320516,
          0.5828242583117311,
          0.5769960157286138,
          0.5712260555713277,
          0.5655137950156144,
          0.5598586570654582,
          0.5542600704948036,
          0.5487174697898556,
          0.543230295091957,
          0.5377979921410374,
          0.532420012219627,
          0.5270958120974307,
          0.5218248539764564,
          0.5166066054366918,
          0.5114405393823249,
          0.5063261339885017,
          0.5012628726486167,
          0.4962502439221305,
          0.4912877414829092,
          0.4863748640680801,
          0.4815111154273993,
          0.4766960042731253,
          0.47192904423039406,
          0.4672097537880901,
          0.4625376562502092,
          0.4579122796877071,
          0.45333315689083004,
          0.44879982532192175,
          0.44431182706870254,
          0.4398687087980155,
          0.43547002171003535,
          0.43111532149293497,
          0.4268041682780056,
          0.42253612659522555,
          0.4183107653292733,
          0.4141276576759806,
          0.40998638109922075,
          0.40588651728822855,
          0.40182765211534627,
          0.3978093755941928,
          0.3938312818382509,
          0.38989296901986836,
          0.3859940393296697,
          0.382134098936373,
          0.3783127579470093,
          0.3745296303675392,
          0.37078433406386385,
          0.36707649072322523,
          0.36340572581599295,
          0.35977166855783305,
          0.3561739518722547,
          0.35261221235353213,
          0.3490860902299968,
          0.3455952293276968,
          0.3421392770344198,
          0.3387178842640756,
          0.33533070542143484,
          0.3319773983672205,
          0.3286576243835483,
          0.3253710481397128,
          0.3221173376583157,
          0.3188961642817325,
          0.31570720263891516,
          0.312550130612526,
          0.30942462930640074,
          0.30633038301333676,
          0.3032670791832034,
          0.30023440839137133,
          0.29723206430745763,
          0.29425974366438307,
          0.29131714622773924,
          0.28840397476546187,
          0.28551993501780726,
          0.2826647356676292,
          0.27983808831095286,
          0.27703970742784334,
          0.2742693103535649,
          0.27152661725002925,
          0.26881135107752896,
          0.26612323756675366,
          0.2634620051910861,
          0.26082738513917525,
          0.2582191112877835,
          0.2556369201749057,
          0.2530805509731566,
          0.25054974546342507,
          0.24804424800879082,
          0.2455638055287029,
          0.24310816747341588,
          0.24067708579868172,
          0.2382703149406949,
          0.23588761179128795,
          0.23352873567337507,
          0.23119344831664132,
          0.2288815138334749,
          0.22659269869514015,
          0.22432677170818874,
          0.22208350399110685,
          0.21986266895119577,
          0.21766404226168382,
          0.21548740183906698,
          0.2133325278206763,
          0.21119920254246954,
          0.20908721051704485,
          0.2069963384118744,
          0.20492637502775565,
          0.2028771112774781,
          0.20084834016470332,
          0.1988398567630563,
          0.19685145819542574,
          0.19488294361347147,
          0.19293411417733675,
          0.19100477303556337,
          0.18909472530520774,
          0.18720377805215566,
          0.1853317402716341,
          0.18347842286891775,
          0.18164363864022856,
          0.17982720225382628,
          0.17802893023128802,
          0.17624864092897513,
          0.17448615451968538,
          0.17274129297448854,
          0.17101388004474366,
          0.16930374124429623,
          0.16761070383185325,
          0.16593459679353473,
          0.16427525082559938,
          0.1626324983173434,
          0.16100617333416994,
          0.15939611160082826,
          0.15780215048481996,
          0.15622412897997176,
          0.15466188769017203,
          0.1531152688132703,
          0.1515841161251376,
          0.15006827496388622,
          0.14856759221424737,
          0.1470819162921049,
          0.14561109712918385,
          0.14415498615789202,
          0.14271343629631308,
          0.14128630193334996,
          0.13987343891401646,
          0.13847470452487629,
          0.13708995747962752,
          0.13571905790483124,
          0.13436186732578292,
          0.1330182486525251,
          0.13168806616599985,
          0.13037118550433985,
          0.12906747364929644,
          0.12777679891280347,
          0.12649903092367543,
          0.12523404061443866,
          0.12398170020829427,
          0.12274188320621132,
          0.12151446437414921,
          0.12029931973040772,
          0.11909632653310365,
          0.11790536326777261,
          0.11672630963509488,
          0.11555904653874392,
          0.11440345607335649,
          0.11325942151262292,
          0.11212682729749668,
          0.11100555902452171,
          0.1098955034342765,
          0.10879654839993373,
          0.1077085829159344,
          0.10663149708677505,
          0.1055651821159073,
          0.10450953029474823,
          0.10346443499180075,
          0.10242979064188273,
          0.10140549273546391,
          0.10039143780810927,
          0.09938752343002819,
          0.0983936481957279,
          0.09740971171377062,
          0.09643561459663291,
          0.09547125845066658,
          0.09451654586615992,
          0.09357138040749831,
          0.09263566660342333,
          0.0917093099373891,
          0.09079221683801521,
          0.08988429466963506,
          0.0889854517229387,
          0.08809559720570931,
          0.08721464123365222
         ],
         "yaxis": "y2"
        }
       ],
       "layout": {
        "autosize": true,
        "template": {
         "data": {
          "bar": [
           {
            "error_x": {
             "color": "#2a3f5f"
            },
            "error_y": {
             "color": "#2a3f5f"
            },
            "marker": {
             "line": {
              "color": "#E5ECF6",
              "width": 0.5
             },
             "pattern": {
              "fillmode": "overlay",
              "size": 10,
              "solidity": 0.2
             }
            },
            "type": "bar"
           }
          ],
          "barpolar": [
           {
            "marker": {
             "line": {
              "color": "#E5ECF6",
              "width": 0.5
             },
             "pattern": {
              "fillmode": "overlay",
              "size": 10,
              "solidity": 0.2
             }
            },
            "type": "barpolar"
           }
          ],
          "carpet": [
           {
            "aaxis": {
             "endlinecolor": "#2a3f5f",
             "gridcolor": "white",
             "linecolor": "white",
             "minorgridcolor": "white",
             "startlinecolor": "#2a3f5f"
            },
            "baxis": {
             "endlinecolor": "#2a3f5f",
             "gridcolor": "white",
             "linecolor": "white",
             "minorgridcolor": "white",
             "startlinecolor": "#2a3f5f"
            },
            "type": "carpet"
           }
          ],
          "choropleth": [
           {
            "colorbar": {
             "outlinewidth": 0,
             "ticks": ""
            },
            "type": "choropleth"
           }
          ],
          "contour": [
           {
            "colorbar": {
             "outlinewidth": 0,
             "ticks": ""
            },
            "colorscale": [
             [
              0,
              "#0d0887"
             ],
             [
              0.1111111111111111,
              "#46039f"
             ],
             [
              0.2222222222222222,
              "#7201a8"
             ],
             [
              0.3333333333333333,
              "#9c179e"
             ],
             [
              0.4444444444444444,
              "#bd3786"
             ],
             [
              0.5555555555555556,
              "#d8576b"
             ],
             [
              0.6666666666666666,
              "#ed7953"
             ],
             [
              0.7777777777777778,
              "#fb9f3a"
             ],
             [
              0.8888888888888888,
              "#fdca26"
             ],
             [
              1,
              "#f0f921"
             ]
            ],
            "type": "contour"
           }
          ],
          "contourcarpet": [
           {
            "colorbar": {
             "outlinewidth": 0,
             "ticks": ""
            },
            "type": "contourcarpet"
           }
          ],
          "heatmap": [
           {
            "colorbar": {
             "outlinewidth": 0,
             "ticks": ""
            },
            "colorscale": [
             [
              0,
              "#0d0887"
             ],
             [
              0.1111111111111111,
              "#46039f"
             ],
             [
              0.2222222222222222,
              "#7201a8"
             ],
             [
              0.3333333333333333,
              "#9c179e"
             ],
             [
              0.4444444444444444,
              "#bd3786"
             ],
             [
              0.5555555555555556,
              "#d8576b"
             ],
             [
              0.6666666666666666,
              "#ed7953"
             ],
             [
              0.7777777777777778,
              "#fb9f3a"
             ],
             [
              0.8888888888888888,
              "#fdca26"
             ],
             [
              1,
              "#f0f921"
             ]
            ],
            "type": "heatmap"
           }
          ],
          "heatmapgl": [
           {
            "colorbar": {
             "outlinewidth": 0,
             "ticks": ""
            },
            "colorscale": [
             [
              0,
              "#0d0887"
             ],
             [
              0.1111111111111111,
              "#46039f"
             ],
             [
              0.2222222222222222,
              "#7201a8"
             ],
             [
              0.3333333333333333,
              "#9c179e"
             ],
             [
              0.4444444444444444,
              "#bd3786"
             ],
             [
              0.5555555555555556,
              "#d8576b"
             ],
             [
              0.6666666666666666,
              "#ed7953"
             ],
             [
              0.7777777777777778,
              "#fb9f3a"
             ],
             [
              0.8888888888888888,
              "#fdca26"
             ],
             [
              1,
              "#f0f921"
             ]
            ],
            "type": "heatmapgl"
           }
          ],
          "histogram": [
           {
            "marker": {
             "pattern": {
              "fillmode": "overlay",
              "size": 10,
              "solidity": 0.2
             }
            },
            "type": "histogram"
           }
          ],
          "histogram2d": [
           {
            "colorbar": {
             "outlinewidth": 0,
             "ticks": ""
            },
            "colorscale": [
             [
              0,
              "#0d0887"
             ],
             [
              0.1111111111111111,
              "#46039f"
             ],
             [
              0.2222222222222222,
              "#7201a8"
             ],
             [
              0.3333333333333333,
              "#9c179e"
             ],
             [
              0.4444444444444444,
              "#bd3786"
             ],
             [
              0.5555555555555556,
              "#d8576b"
             ],
             [
              0.6666666666666666,
              "#ed7953"
             ],
             [
              0.7777777777777778,
              "#fb9f3a"
             ],
             [
              0.8888888888888888,
              "#fdca26"
             ],
             [
              1,
              "#f0f921"
             ]
            ],
            "type": "histogram2d"
           }
          ],
          "histogram2dcontour": [
           {
            "colorbar": {
             "outlinewidth": 0,
             "ticks": ""
            },
            "colorscale": [
             [
              0,
              "#0d0887"
             ],
             [
              0.1111111111111111,
              "#46039f"
             ],
             [
              0.2222222222222222,
              "#7201a8"
             ],
             [
              0.3333333333333333,
              "#9c179e"
             ],
             [
              0.4444444444444444,
              "#bd3786"
             ],
             [
              0.5555555555555556,
              "#d8576b"
             ],
             [
              0.6666666666666666,
              "#ed7953"
             ],
             [
              0.7777777777777778,
              "#fb9f3a"
             ],
             [
              0.8888888888888888,
              "#fdca26"
             ],
             [
              1,
              "#f0f921"
             ]
            ],
            "type": "histogram2dcontour"
           }
          ],
          "mesh3d": [
           {
            "colorbar": {
             "outlinewidth": 0,
             "ticks": ""
            },
            "type": "mesh3d"
           }
          ],
          "parcoords": [
           {
            "line": {
             "colorbar": {
              "outlinewidth": 0,
              "ticks": ""
             }
            },
            "type": "parcoords"
           }
          ],
          "pie": [
           {
            "automargin": true,
            "type": "pie"
           }
          ],
          "scatter": [
           {
            "marker": {
             "colorbar": {
              "outlinewidth": 0,
              "ticks": ""
             }
            },
            "type": "scatter"
           }
          ],
          "scatter3d": [
           {
            "line": {
             "colorbar": {
              "outlinewidth": 0,
              "ticks": ""
             }
            },
            "marker": {
             "colorbar": {
              "outlinewidth": 0,
              "ticks": ""
             }
            },
            "type": "scatter3d"
           }
          ],
          "scattercarpet": [
           {
            "marker": {
             "colorbar": {
              "outlinewidth": 0,
              "ticks": ""
             }
            },
            "type": "scattercarpet"
           }
          ],
          "scattergeo": [
           {
            "marker": {
             "colorbar": {
              "outlinewidth": 0,
              "ticks": ""
             }
            },
            "type": "scattergeo"
           }
          ],
          "scattergl": [
           {
            "marker": {
             "colorbar": {
              "outlinewidth": 0,
              "ticks": ""
             }
            },
            "type": "scattergl"
           }
          ],
          "scattermapbox": [
           {
            "marker": {
             "colorbar": {
              "outlinewidth": 0,
              "ticks": ""
             }
            },
            "type": "scattermapbox"
           }
          ],
          "scatterpolar": [
           {
            "marker": {
             "colorbar": {
              "outlinewidth": 0,
              "ticks": ""
             }
            },
            "type": "scatterpolar"
           }
          ],
          "scatterpolargl": [
           {
            "marker": {
             "colorbar": {
              "outlinewidth": 0,
              "ticks": ""
             }
            },
            "type": "scatterpolargl"
           }
          ],
          "scatterternary": [
           {
            "marker": {
             "colorbar": {
              "outlinewidth": 0,
              "ticks": ""
             }
            },
            "type": "scatterternary"
           }
          ],
          "surface": [
           {
            "colorbar": {
             "outlinewidth": 0,
             "ticks": ""
            },
            "colorscale": [
             [
              0,
              "#0d0887"
             ],
             [
              0.1111111111111111,
              "#46039f"
             ],
             [
              0.2222222222222222,
              "#7201a8"
             ],
             [
              0.3333333333333333,
              "#9c179e"
             ],
             [
              0.4444444444444444,
              "#bd3786"
             ],
             [
              0.5555555555555556,
              "#d8576b"
             ],
             [
              0.6666666666666666,
              "#ed7953"
             ],
             [
              0.7777777777777778,
              "#fb9f3a"
             ],
             [
              0.8888888888888888,
              "#fdca26"
             ],
             [
              1,
              "#f0f921"
             ]
            ],
            "type": "surface"
           }
          ],
          "table": [
           {
            "cells": {
             "fill": {
              "color": "#EBF0F8"
             },
             "line": {
              "color": "white"
             }
            },
            "header": {
             "fill": {
              "color": "#C8D4E3"
             },
             "line": {
              "color": "white"
             }
            },
            "type": "table"
           }
          ]
         },
         "layout": {
          "annotationdefaults": {
           "arrowcolor": "#2a3f5f",
           "arrowhead": 0,
           "arrowwidth": 1
          },
          "autotypenumbers": "strict",
          "coloraxis": {
           "colorbar": {
            "outlinewidth": 0,
            "ticks": ""
           }
          },
          "colorscale": {
           "diverging": [
            [
             0,
             "#8e0152"
            ],
            [
             0.1,
             "#c51b7d"
            ],
            [
             0.2,
             "#de77ae"
            ],
            [
             0.3,
             "#f1b6da"
            ],
            [
             0.4,
             "#fde0ef"
            ],
            [
             0.5,
             "#f7f7f7"
            ],
            [
             0.6,
             "#e6f5d0"
            ],
            [
             0.7,
             "#b8e186"
            ],
            [
             0.8,
             "#7fbc41"
            ],
            [
             0.9,
             "#4d9221"
            ],
            [
             1,
             "#276419"
            ]
           ],
           "sequential": [
            [
             0,
             "#0d0887"
            ],
            [
             0.1111111111111111,
             "#46039f"
            ],
            [
             0.2222222222222222,
             "#7201a8"
            ],
            [
             0.3333333333333333,
             "#9c179e"
            ],
            [
             0.4444444444444444,
             "#bd3786"
            ],
            [
             0.5555555555555556,
             "#d8576b"
            ],
            [
             0.6666666666666666,
             "#ed7953"
            ],
            [
             0.7777777777777778,
             "#fb9f3a"
            ],
            [
             0.8888888888888888,
             "#fdca26"
            ],
            [
             1,
             "#f0f921"
            ]
           ],
           "sequentialminus": [
            [
             0,
             "#0d0887"
            ],
            [
             0.1111111111111111,
             "#46039f"
            ],
            [
             0.2222222222222222,
             "#7201a8"
            ],
            [
             0.3333333333333333,
             "#9c179e"
            ],
            [
             0.4444444444444444,
             "#bd3786"
            ],
            [
             0.5555555555555556,
             "#d8576b"
            ],
            [
             0.6666666666666666,
             "#ed7953"
            ],
            [
             0.7777777777777778,
             "#fb9f3a"
            ],
            [
             0.8888888888888888,
             "#fdca26"
            ],
            [
             1,
             "#f0f921"
            ]
           ]
          },
          "colorway": [
           "#636efa",
           "#EF553B",
           "#00cc96",
           "#ab63fa",
           "#FFA15A",
           "#19d3f3",
           "#FF6692",
           "#B6E880",
           "#FF97FF",
           "#FECB52"
          ],
          "font": {
           "color": "#2a3f5f"
          },
          "geo": {
           "bgcolor": "white",
           "lakecolor": "white",
           "landcolor": "#E5ECF6",
           "showlakes": true,
           "showland": true,
           "subunitcolor": "white"
          },
          "hoverlabel": {
           "align": "left"
          },
          "hovermode": "closest",
          "mapbox": {
           "style": "light"
          },
          "paper_bgcolor": "white",
          "plot_bgcolor": "#E5ECF6",
          "polar": {
           "angularaxis": {
            "gridcolor": "white",
            "linecolor": "white",
            "ticks": ""
           },
           "bgcolor": "#E5ECF6",
           "radialaxis": {
            "gridcolor": "white",
            "linecolor": "white",
            "ticks": ""
           }
          },
          "scene": {
           "xaxis": {
            "backgroundcolor": "#E5ECF6",
            "gridcolor": "white",
            "gridwidth": 2,
            "linecolor": "white",
            "showbackground": true,
            "ticks": "",
            "zerolinecolor": "white"
           },
           "yaxis": {
            "backgroundcolor": "#E5ECF6",
            "gridcolor": "white",
            "gridwidth": 2,
            "linecolor": "white",
            "showbackground": true,
            "ticks": "",
            "zerolinecolor": "white"
           },
           "zaxis": {
            "backgroundcolor": "#E5ECF6",
            "gridcolor": "white",
            "gridwidth": 2,
            "linecolor": "white",
            "showbackground": true,
            "ticks": "",
            "zerolinecolor": "white"
           }
          },
          "shapedefaults": {
           "line": {
            "color": "#2a3f5f"
           }
          },
          "ternary": {
           "aaxis": {
            "gridcolor": "white",
            "linecolor": "white",
            "ticks": ""
           },
           "baxis": {
            "gridcolor": "white",
            "linecolor": "white",
            "ticks": ""
           },
           "bgcolor": "#E5ECF6",
           "caxis": {
            "gridcolor": "white",
            "linecolor": "white",
            "ticks": ""
           }
          },
          "title": {
           "x": 0.05
          },
          "xaxis": {
           "automargin": true,
           "gridcolor": "white",
           "linecolor": "white",
           "ticks": "",
           "title": {
            "standoff": 15
           },
           "zerolinecolor": "white",
           "zerolinewidth": 2
          },
          "yaxis": {
           "automargin": true,
           "gridcolor": "white",
           "linecolor": "white",
           "ticks": "",
           "title": {
            "standoff": 15
           },
           "zerolinecolor": "white",
           "zerolinewidth": 2
          }
         }
        },
        "xaxis": {
         "anchor": "y",
         "autorange": true,
         "domain": [
          0,
          0.94
         ],
         "range": [
          0,
          999
         ],
         "title": {
          "text": "Iterations"
         },
         "type": "linear"
        },
        "yaxis": {
         "anchor": "x",
         "autorange": true,
         "domain": [
          0,
          1
         ],
         "range": [
          10.891970830988894,
          53.9253577628473
         ],
         "title": {
          "text": "Cost"
         },
         "type": "linear"
        },
        "yaxis2": {
         "anchor": "x",
         "autorange": true,
         "overlaying": "y",
         "range": [
          -111.01905121203113,
          2111.1062658532646
         ],
         "side": "right",
         "title": {
          "text": "Temperature"
         },
         "type": "linear"
        }
       }
      },
      "image/png": "[encoded data removed]",
      "text/html": [
       "<div>                            <div id=\"87a7499e-29a4-46cb-ac42-4847d8dcaf51\" class=\"plotly-graph-div\" style=\"height:525px; width:100%;\"></div>            <script type=\"text/javascript\">                require([\"plotly\"], function(Plotly) {                    window.PLOTLYENV=window.PLOTLYENV || {};                                    if (document.getElementById(\"87a7499e-29a4-46cb-ac42-4847d8dcaf51\")) {                    Plotly.newPlot(                        \"87a7499e-29a4-46cb-ac42-4847d8dcaf51\",                        [{\"name\":\"Cost\",\"x\":[0,1,2,3,4,5,6,7,8,9,10,11,12,13,14,15,16,17,18,19,20,21,22,23,24,25,26,27,28,29,30,31,32,33,34,35,36,37,38,39,40,41,42,43,44,45,46,47,48,49,50,51,52,53,54,55,56,57,58,59,60,61,62,63,64,65,66,67,68,69,70,71,72,73,74,75,76,77,78,79,80,81,82,83,84,85,86,87,88,89,90,91,92,93,94,95,96,97,98,99,100,101,102,103,104,105,106,107,108,109,110,111,112,113,114,115,116,117,118,119,120,121,122,123,124,125,126,127,128,129,130,131,132,133,134,135,136,137,138,139,140,141,142,143,144,145,146,147,148,149,150,151,152,153,154,155,156,157,158,159,160,161,162,163,164,165,166,167,168,169,170,171,172,173,174,175,176,177,178,179,180,181,182,183,184,185,186,187,188,189,190,191,192,193,194,195,196,197,198,199,200,201,202,203,204,205,206,207,208,209,210,211,212,213,214,215,216,217,218,219,220,221,222,223,224,225,226,227,228,229,230,231,232,233,234,235,236,237,238,239,240,241,242,243,244,245,246,247,248,249,250,251,252,253,254,255,256,257,258,259,260,261,262,263,264,265,266,267,268,269,270,271,272,273,274,275,276,277,278,279,280,281,282,283,284,285,286,287,288,289,290,291,292,293,294,295,296,297,298,299,300,301,302,303,304,305,306,307,308,309,310,311,312,313,314,315,316,317,318,319,320,321,322,323,324,325,326,327,328,329,330,331,332,333,334,335,336,337,338,339,340,341,342,343,344,345,346,347,348,349,350,351,352,353,354,355,356,357,358,359,360,361,362,363,364,365,366,367,368,369,370,371,372,373,374,375,376,377,378,379,380,381,382,383,384,385,386,387,388,389,390,391,392,393,394,395,396,397,398,399,400,401,402,403,404,405,406,407,408,409,410,411,412,413,414,415,416,417,418,419,420,421,422,423,424,425,426,427,428,429,430,431,432,433,434,435,436,437,438,439,440,441,442,443,444,445,446,447,448,449,450,451,452,453,454,455,456,457,458,459,460,461,462,463,464,465,466,467,468,469,470,471,472,473,474,475,476,477,478,479,480,481,482,483,484,485,486,487,488,489,490,491,492,493,494,495,496,497,498,499,500,501,502,503,504,505,506,507,508,509,510,511,512,513,514,515,516,517,518,519,520,521,522,523,524,525,526,527,528,529,530,531,532,533,534,535,536,537,538,539,540,541,542,543,544,545,546,547,548,549,550,551,552,553,554,555,556,557,558,559,560,561,562,563,564,565,566,567,568,569,570,571,572,573,574,575,576,577,578,579,580,581,582,583,584,585,586,587,588,589,590,591,592,593,594,595,596,597,598,599,600,601,602,603,604,605,606,607,608,609,610,611,612,613,614,615,616,617,618,619,620,621,622,623,624,625,626,627,628,629,630,631,632,633,634,635,636,637,638,639,640,641,642,643,644,645,646,647,648,649,650,651,652,653,654,655,656,657,658,659,660,661,662,663,664,665,666,667,668,669,670,671,672,673,674,675,676,677,678,679,680,681,682,683,684,685,686,687,688,689,690,691,692,693,694,695,696,697,698,699,700,701,702,703,704,705,706,707,708,709,710,711,712,713,714,715,716,717,718,719,720,721,722,723,724,725,726,727,728,729,730,731,732,733,734,735,736,737,738,739,740,741,742,743,744,745,746,747,748,749,750,751,752,753,754,755,756,757,758,759,760,761,762,763,764,765,766,767,768,769,770,771,772,773,774,775,776,777,778,779,780,781,782,783,784,785,786,787,788,789,790,791,792,793,794,795,796,797,798,799,800,801,802,803,804,805,806,807,808,809,810,811,812,813,814,815,816,817,818,819,820,821,822,823,824,825,826,827,828,829,830,831,832,833,834,835,836,837,838,839,840,841,842,843,844,845,846,847,848,849,850,851,852,853,854,855,856,857,858,859,860,861,862,863,864,865,866,867,868,869,870,871,872,873,874,875,876,877,878,879,880,881,882,883,884,885,886,887,888,889,890,891,892,893,894,895,896,897,898,899,900,901,902,903,904,905,906,907,908,909,910,911,912,913,914,915,916,917,918,919,920,921,922,923,924,925,926,927,928,929,930,931,932,933,934,935,936,937,938,939,940,941,942,943,944,945,946,947,948,949,950,951,952,953,954,955,956,957,958,959,960,961,962,963,964,965,966,967,968,969,970,971,972,973,974,975,976,977,978,979,980,981,982,983,984,985,986,987,988,989,990,991,992,993,994,995,996,997,998,999],\"y\":[44.20633449794529,44.40890983982046,44.06827633056017,43.828552756262305,44.91300715074659,45.44422545866274,44.90137870624347,45.37383571778788,46.62171862630395,46.53068999449602,46.655998774326655,46.42954770796667,45.772549498967756,45.77597772060232,45.713592457899104,46.00979290765502,47.379455793774106,47.96001818968181,46.22164902430894,46.29447996502895,46.352904854445235,46.572845575549884,45.70465351982451,46.59874487142476,46.1243167253978,46.59935174510694,46.98164994285053,47.2702858047444,46.79393458242197,46.32862575790264,46.3425862334959,47.05380200967837,47.256645568938715,47.656991303458184,46.632818554431424,46.5564629569906,47.10902228116773,47.726768327981034,48.037880420381086,47.85596670549176,47.87025491413903,47.63426723423773,48.07965667343171,48.1295935611836,47.502320191994,47.59192620611596,48.23078816440088,46.62305095457795,48.149212733799004,49.04077165095107,49.49620844359005,49.40589745982927,49.85843614919173,49.960566703240765,50.11962029249241,50.583242194561585,50.46680692941779,50.28599119874651,51.10408726237677,51.43403570987903,50.89552961577588,50.89552961577588,50.42458463974609,51.30069512914698,51.77368841625438,51.29284161797045,51.17919577473439,50.83179249762131,51.15626297956656,51.19788233628023,50.82483743613576,50.60084835495651,50.74228335266423,50.755583301019264,50.513727214175546,50.246301776950375,50.475047082803684,49.70217510348955,49.67852752279564,49.5269083711695,50.103803686375116,49.41881931291657,49.32074006401905,49.15113832574909,49.41532007793323,49.42541280739118,50.09701067704347,49.644158770848634,50.23952592839073,50.134216421459,50.01218143141277,50.565882008834635,50.43506245042504,51.687403194289594,51.521182215941025,50.228587299650414,49.7735546276507,49.51741977566974,49.01133614279635,48.66828311758894,48.54706044817084,48.552197752730436,47.94621186908569,48.542800145559134,48.55242020715218,48.45533006512845,48.764597307653155,47.898753301918674,48.61427197706084,48.89116534960811,49.64331083976316,50.95368593807858,48.70996677144733,48.68379769331477,49.70902076922867,48.09045184355383,47.88625137506486,47.493534749011125,47.45108744391968,45.64508107921699,45.4219856245396,45.54595236907047,45.494829973419385,44.88609998296576,44.70596421182975,44.22135768647349,44.13541806790293,43.2521723780987,42.80983314439022,43.335999419624876,43.26256665945123,43.074429663442935,42.971117208470766,44.064919576784156,43.966597310220585,44.03025715599697,44.311317894403466,43.37975008920798,43.2810017324977,42.80423764567333,43.065496954766466,43.25523243352671,43.41258895640849,44.16343574434583,46.12167807363405,45.90787171431578,45.64451440790426,45.457588585901995,45.43692927809566,45.58271282816367,45.55012563880386,45.44907565670887,45.37525400787313,44.766721591949555,46.2792442729797,45.86779902361497,45.6779529227172,45.76853503451313,45.54448022510078,44.63238040545695,44.93246379897101,43.25674974936665,43.667672866784976,43.857063310474125,43.83303893194665,43.614414942946944,43.43847063124223,43.940703507185496,43.53528915615083,42.99328135877771,42.24590876419459,41.58063949404988,41.434916184076954,41.434916184076954,41.41858905004505,41.72414892201593,41.58775498837045,41.57791034954468,41.178304273470616,41.356600357544245,41.28301737308962,41.213559777677645,41.044968895456044,40.77320134063328,41.95103961119689,41.60224260201874,41.60717686307369,41.43405097775634,41.35681999724433,41.00112261854121,41.26494275394094,41.92357707610159,40.81975820977104,40.804925464173905,40.60784304674487,40.56711664479609,42.00810922299214,41.57805836694826,41.383403996829436,41.16615968019432,41.11122925340824,41.131016831025164,40.97471946525789,40.659546144965944,40.36218625625104,40.03535047030866,39.691697668397296,39.365570059070805,38.95150291643774,38.95073339621348,38.25373264310778,37.79373842452372,37.77995481175565,37.72578227611899,37.64106277974901,37.647363041422466,36.961135699619206,36.63284196340069,36.82689804724279,36.592079243431456,36.8318779175934,36.434544555993426,36.494253506958174,36.40916368721357,36.02921686253404,35.26537189151096,34.74183115640086,35.86590568550475,36.12442254047988,35.456169540185876,34.90541146242767,35.63951046576936,35.624066019380834,35.61877577509386,35.569772556378986,35.47968807465629,35.03110434745397,34.322060498625035,34.301950735258515,34.19914230190971,34.107500003541794,34.082562056518825,33.88119469901412,33.82808548281587,33.53045141527695,33.05926466425072,32.168288256443375,32.03012702331503,31.786987646461313,32.98017575656692,33.55000840408903,33.21565667508676,33.183669476059976,33.18282810567285,33.735032051849245,33.59043142388047,33.57172272244315,33.486854518670924,33.53505308884098,33.13537551455421,34.7974897147706,34.6328812262535,34.2672214166474,33.99244766401475,34.207256799804654,35.37779825203252,35.36436918037862,34.79943817084449,34.566461003812364,34.56593351194308,33.99920491972731,33.69398227150402,33.07996073901089,33.06389613175963,33.01293889706289,32.90365893173421,32.71740099051117,34.21169515015144,34.067082290122215,34.03675695388371,34.750105890479986,34.47362672240878,34.157338531495164,33.90371478969984,33.89182214669258,33.75010536805937,33.67770675727522,34.268385914106034,34.06882663387351,33.15718011123076,34.2021422287443,33.69156455250145,33.553335717373194,33.47317224662601,33.41077317099508,33.23314108742237,32.67445193306126,32.4864118013311,32.410153162502525,32.22164302980204,32.0584004944274,33.380245718188064,33.320666549752765,32.44379941094709,32.182324874641054,32.04462505571671,31.821236482157282,31.54678333456385,31.356352847306738,30.869821812018724,30.836809249539773,30.56699824283453,30.535264708849567,30.528602382390567,30.392010858972778,29.683668492960134,29.560945286523488,29.523202761963116,29.076769384923953,28.542229697361407,28.47455822728193,28.198547362955523,28.15230443872369,28.078286646553597,27.5498016821557,28.739624726513657,28.72254108157925,28.640927164389378,28.663881924044798,28.84200183036702,28.813669836930938,28.718761055829933,28.683856545183858,28.548091531155972,28.479214911098328,28.372649496171128,28.36193761454116,28.34582650695045,28.149454802166105,27.980986405252242,27.581573895756065,27.512046208903172,27.43577179024331,27.367097509146152,27.47911710160648,27.46530043143822,26.49500939621449,26.4003548894425,26.335273630887706,26.122587482934545,26.039874374798895,25.980126035719405,25.880383868662015,25.56317956831261,25.54081392352742,25.499308410762534,25.471058724994496,25.360693535265916,25.322403918370863,25.285648294830583,25.01651721097142,25.008484220707036,24.965364654296543,24.964420995279134,24.162598986709433,24.077310268601043,23.978685276127756,23.77206959134396,23.518085809183454,23.504639595127305,23.219787226242108,23.178211178838968,22.967905959927087,22.652769425609645,22.618762846464737,22.574711350970194,22.293694283253853,22.260684159354756,22.216267249296823,22.110990861978983,22.01998722864757,22.01274336272608,21.944514127356836,21.88472980957524,21.49046828684718,21.456165858347703,21.389200224809798,22.88779504496506,22.810739697895702,22.732498779768985,22.531196078656528,22.528670669966317,23.666538403657686,22.584994942299442,22.545119771852082,22.539916646830335,22.538129131683675,22.38758987711947,22.336693897399638,22.282781759037345,22.139817402853257,22.121957278352678,21.787550047837488,21.635429822909725,21.57742769744052,21.524923491475878,21.508641319479754,21.409239077113636,21.401424769117607,21.3886176297921,21.041025225725473,20.997588901274273,20.899498514616308,20.73686432846109,20.677851462994045,20.485751318784107,20.43280973564993,20.416901348879264,20.170174090665096,20.12070503542651,20.078569464795116,19.646534263059447,19.4481548469049,19.426515090358137,19.420440945626762,19.340128539355614,19.340128539355614,19.32766755499681,19.262685814618287,19.171746410758477,19.140942093253454,19.07487154400396,18.987274125332274,18.878649911676067,18.852072902031672,18.76407208937605,18.645824866679337,18.531626003197058,18.413498288658296,18.821070701437826,18.514076944140204,18.504883758920666,18.26059176426774,18.127679015257787,17.97892535967184,17.953904977616926,17.905535889198642,17.768446883420236,17.74126406784303,17.666021048654738,17.631661998536945,17.46237869397836,17.333772667180703,17.291380549728665,17.290619938695837,17.17565207839445,17.1264589192827,17.078764590022548,17.078764590022548,16.925352188431624,16.907687846404112,16.894110568679228,16.85532474990003,16.80900715316668,16.796068278234348,16.74941642338232,16.686624347371826,16.686624347371826,16.648309620729528,16.595131971143335,16.595131971143335,16.595131971143335,16.23108769075305,16.23108769075305,16.190771120492805,16.130593017838883,16.071917573310532,16.04901924169981,16.008316225683046,16.00652299936663,15.955303890415996,15.955303890415996,15.954655998274804,15.887054726156016,15.837943730146486,15.814504573942404,15.814504573942404,15.785519474657132,15.771300999314498,15.690553811663616,15.640148834496461,15.553013112684445,15.505318783424292,15.505318783424292,15.301648182994956,15.293069082981724,15.278080353154468,15.278080353154468,15.269068048081028,15.269068048081028,15.269068048081028,15.269068048081028,15.229255021598133,15.205617076041726,15.122587987092249,15.11492048750521,15.11492048750521,14.9548113641433,14.95242144137167,14.913213987292178,14.71178258610565,14.63281914389487,14.500549114973504,14.500549114973504,14.500549114973504,14.492425362364306,14.492425362364306,14.492425362364306,14.469935257930324,14.432380703637435,14.432380703637435,14.432380703637435,14.430278924555857,14.430278924555857,14.430278924555857,14.430278924555857,14.430278924555857,14.430278924555857,14.430278924555857,14.403372542242025,14.403372542242025,14.385643902380673,14.385643902380673,14.385643902380673,14.331914281916921,14.331914281916921,14.330098313370367,14.318716706630678,14.318716706630678,14.221645894270969,14.128664852831985,14.128664852831985,14.121396907732858,14.121396907732858,14.121396907732858,14.121396907732858,14.121396907732858,14.10943852643129,14.10943852643129,14.10943852643129,14.099737493687208,14.099737493687208,14.099737493687208,14.03315974572843,14.03315974572843,14.03315974572843,14.03315974572843,13.990500891499156,13.990500891499156,13.990500891499156,13.870564650200535,13.870564650200535,13.685971413949147,13.678685028304862,13.637679272272933,13.507432227342058,13.507432227342058,13.507432227342058,13.507432227342058,13.478103858017349,13.478103858017349,13.478103858017349,13.478103858017349,13.476768373835034,13.476768373835034,13.476768373835034,13.476768373835034,13.476768373835034,13.476768373835034,13.476768373835034,13.476768373835034,13.476768373835034,13.476768373835034,13.476768373835034,13.476768373835034,13.476768373835034,13.476768373835034,13.476768373835034,13.46594446527343,13.46594446527343,13.46594446527343,13.46594446527343,13.46594446527343,13.46594446527343,13.46594446527343,13.46594446527343,13.463648128499559,13.463648128499559,13.445879243106246,13.445879243106246,13.445879243106246,13.445879243106246,13.445879243106246,13.420322788519794,13.420322788519794,13.420322788519794,13.420322788519794,13.420322788519794,13.420322788519794,13.365532646020611,13.365532646020611,13.365532646020611,13.365532646020611,13.365532646020611,13.365532646020611,13.365532646020611,13.352648605103656,13.352648605103656,13.352648605103656,13.352648605103656,13.352648605103656,13.352648605103656,13.352648605103656,13.352648605103656,13.279176847970291,13.279176847970291,13.279176847970291,13.279176847970291,13.279176847970291,13.279176847970291,13.279176847970291,13.279176847970291,13.279176847970291,13.279176847970291,13.279176847970291,13.279176847970291,13.279176847970291,13.279176847970291,13.279176847970291,13.279176847970291,13.279176847970291,13.279176847970291,13.279176847970291,13.279176847970291,13.279176847970291,13.210306345026517,13.210306345026517,13.210306345026517,13.210306345026517,13.210306345026517,13.210306345026517,13.210306345026517,13.210306345026517,13.210306345026517,13.10663766204424,13.10663766204424,13.10663766204424,13.10663766204424,13.10663766204424,13.1063478075164,13.1063478075164,13.060497354630131,13.060497354630131,13.060497354630131,13.060497354630131,13.060497354630131,13.060497354630131,13.054555753789945,13.054555753789945,13.054546980229617,13.054546980229617,13.054546980229617,13.054546980229617,13.054546980229617,13.054546980229617,13.054546980229617,13.054546980229617,13.054546980229617,13.054546980229617,13.054546980229617,13.054546980229617,13.054546980229617,13.054546980229617,13.054546980229617,13.054546980229617,13.054546980229617,13.054546980229617,13.054546980229617,13.054546980229617,13.054546980229617,13.054546980229617,13.054546980229617,13.054546980229617,13.054546980229617,13.054546980229617,13.054546980229617,13.054546980229617,13.054546980229617,13.054546980229617,13.054546980229617,13.054546980229617,13.054546980229617,13.054546980229617,13.054546980229617,13.054546980229617,13.054546980229617,13.054546980229617,13.054546980229617,13.054546980229617,13.054546980229617,13.054546980229617,13.054546980229617,13.054546980229617,13.054546980229617,13.054546980229617,13.054546980229617,13.054546980229617,13.054546980229617,13.054546980229617,13.054546980229617,13.054546980229617,13.054546980229617,13.054546980229617,13.054546980229617,13.054546980229617,13.054546980229617,13.054546980229617,13.054546980229617,13.054546980229617,13.054546980229617,13.054546980229617,13.054546980229617,13.054546980229617,13.054546980229617,13.054546980229617,13.054546980229617,13.054546980229617,13.054546980229617,13.054546980229617,13.054546980229617,13.054546980229617,13.054546980229617,13.054546980229617,13.053007532075352,13.053007532075352,13.053007532075352,13.053007532075352,13.053007532075352,13.053007532075352,13.053007532075352,13.053007532075352,13.053007532075352,13.053007532075352,13.053007532075352,13.053007532075352,13.053007532075352,13.053007532075352,13.053007532075352,13.053007532075352,13.053007532075352,13.053007532075352,13.053007532075352,13.053007532075352,13.053007532075352,13.053007532075352,13.053007532075352,13.053007532075352,13.053007532075352,13.053007532075352,13.053007532075352,13.053007532075352,13.053007532075352,13.053007532075352,13.053007532075352,13.043640177581814,13.043640177581814,13.043640177581814,13.043640177581814,13.043640177581814,13.043640177581814,13.043640177581814,13.043640177581814,13.043640177581814,13.043640177581814,13.043640177581814,13.043640177581814,13.043640177581814,13.043640177581814,13.043640177581814,13.043640177581814,13.043640177581814,13.043640177581814,13.043640177581814,13.043640177581814,13.043640177581814,13.043640177581814,13.043640177581814,13.043640177581814,13.043640177581814,13.043640177581814,13.043640177581814,13.043640177581814,13.043640177581814,13.043640177581814,13.043640177581814,13.043640177581814,13.043640177581814,13.043640177581814,13.043640177581814,13.043640177581814,13.043640177581814,13.043640177581814,13.043640177581814,13.043640177581814,13.043640177581814,13.043640177581814,13.043640177581814,13.043640177581814,13.043640177581814,13.043640177581814,13.043640177581814,13.043640177581814,13.043640177581814,13.043640177581814,13.043640177581814,13.043640177581814,13.043640177581814,13.043640177581814,13.043640177581814,13.043640177581814,13.043640177581814,13.043640177581814,13.043640177581814,13.043640177581814,13.043640177581814,13.043640177581814,13.043640177581814,13.043640177581814,13.043640177581814,13.043640177581814,13.043640177581814,13.043640177581814,13.043640177581814,13.043640177581814,13.043640177581814,13.043640177581814,13.043640177581814,13.043640177581814,13.043640177581814,13.043640177581814,13.043640177581814,13.043640177581814,13.043640177581814,13.043640177581814,13.043640177581814,13.043640177581814,13.043640177581814,13.043640177581814,13.043640177581814,13.043640177581814,13.043640177581814,13.043640177581814,13.043640177581814,13.043640177581814,13.043640177581814,13.043640177581814,13.043640177581814,13.043640177581814,13.043640177581814,13.043640177581814,13.043640177581814,13.043640177581814,13.043640177581814,13.043640177581814,13.043640177581814,13.043640177581814,13.043640177581814,13.043640177581814,13.043640177581814,13.043640177581814,13.043640177581814,13.043640177581814,13.043640177581814,13.043640177581814,13.043640177581814,13.043640177581814,13.043640177581814,13.043640177581814,13.043640177581814,13.043640177581814,13.043640177581814,13.043640177581814,13.043640177581814,13.043640177581814,13.043640177581814,13.043640177581814,13.043640177581814,13.043640177581814,13.043640177581814,13.043640177581814,13.043640177581814,13.043640177581814,13.043640177581814,13.043640177581814,13.043640177581814,13.043640177581814,13.043640177581814,13.043640177581814,13.043640177581814,13.043640177581814,13.043640177581814,13.043640177581814,13.043640177581814,13.043640177581814,13.043640177581814,13.043640177581814,13.043640177581814,13.043640177581814,13.043640177581814,13.043640177581814,13.043640177581814,13.043640177581814,13.043640177581814,13.043640177581814,13.043640177581814,13.043640177581814,13.043640177581814,13.043640177581814,13.043640177581814,13.043640177581814,13.043640177581814,13.043640177581814,13.043640177581814,13.043640177581814,13.043640177581814,13.043640177581814,13.043640177581814,13.043640177581814,13.043640177581814,13.043640177581814,13.043640177581814,13.043640177581814,13.043640177581814,13.043640177581814,13.043640177581814,13.043640177581814,13.043640177581814,13.043640177581814,13.043640177581814,13.043640177581814,13.043640177581814,13.043640177581814,13.043640177581814,13.043640177581814,13.043640177581814,13.043640177581814,13.043640177581814,13.043640177581814,13.043640177581814,13.043640177581814,13.043640177581814,13.043640177581814,13.043640177581814,13.043640177581814,13.043640177581814,13.043640177581814,13.043640177581814,13.043640177581814,13.043640177581814,13.043640177581814,13.043640177581814,13.043640177581814,13.043640177581814,13.043640177581814,13.043640177581814,13.043640177581814,13.043640177581814,13.043640177581814,13.043640177581814,13.043640177581814,13.043640177581814,13.043640177581814,13.043640177581814,13.043640177581814,13.043640177581814,13.043640177581814,13.043640177581814,13.043640177581814,13.043640177581814,13.043640177581814,13.043640177581814,13.043640177581814,13.043640177581814,13.043640177581814,13.043640177581814,13.043640177581814,13.043640177581814,13.043640177581814,13.043640177581814,13.043640177581814],\"type\":\"scatter\",\"xaxis\":\"x\",\"yaxis\":\"y\"},{\"name\":\"Temperature\",\"x\":[0,1,2,3,4,5,6,7,8,9,10,11,12,13,14,15,16,17,18,19,20,21,22,23,24,25,26,27,28,29,30,31,32,33,34,35,36,37,38,39,40,41,42,43,44,45,46,47,48,49,50,51,52,53,54,55,56,57,58,59,60,61,62,63,64,65,66,67,68,69,70,71,72,73,74,75,76,77,78,79,80,81,82,83,84,85,86,87,88,89,90,91,92,93,94,95,96,97,98,99,100,101,102,103,104,105,106,107,108,109,110,111,112,113,114,115,116,117,118,119,120,121,122,123,124,125,126,127,128,129,130,131,132,133,134,135,136,137,138,139,140,141,142,143,144,145,146,147,148,149,150,151,152,153,154,155,156,157,158,159,160,161,162,163,164,165,166,167,168,169,170,171,172,173,174,175,176,177,178,179,180,181,182,183,184,185,186,187,188,189,190,191,192,193,194,195,196,197,198,199,200,201,202,203,204,205,206,207,208,209,210,211,212,213,214,215,216,217,218,219,220,221,222,223,224,225,226,227,228,229,230,231,232,233,234,235,236,237,238,239,240,241,242,243,244,245,246,247,248,249,250,251,252,253,254,255,256,257,258,259,260,261,262,263,264,265,266,267,268,269,270,271,272,273,274,275,276,277,278,279,280,281,282,283,284,285,286,287,288,289,290,291,292,293,294,295,296,297,298,299,300,301,302,303,304,305,306,307,308,309,310,311,312,313,314,315,316,317,318,319,320,321,322,323,324,325,326,327,328,329,330,331,332,333,334,335,336,337,338,339,340,341,342,343,344,345,346,347,348,349,350,351,352,353,354,355,356,357,358,359,360,361,362,363,364,365,366,367,368,369,370,371,372,373,374,375,376,377,378,379,380,381,382,383,384,385,386,387,388,389,390,391,392,393,394,395,396,397,398,399,400,401,402,403,404,405,406,407,408,409,410,411,412,413,414,415,416,417,418,419,420,421,422,423,424,425,426,427,428,429,430,431,432,433,434,435,436,437,438,439,440,441,442,443,444,445,446,447,448,449,450,451,452,453,454,455,456,457,458,459,460,461,462,463,464,465,466,467,468,469,470,471,472,473,474,475,476,477,478,479,480,481,482,483,484,485,486,487,488,489,490,491,492,493,494,495,496,497,498,499,500,501,502,503,504,505,506,507,508,509,510,511,512,513,514,515,516,517,518,519,520,521,522,523,524,525,526,527,528,529,530,531,532,533,534,535,536,537,538,539,540,541,542,543,544,545,546,547,548,549,550,551,552,553,554,555,556,557,558,559,560,561,562,563,564,565,566,567,568,569,570,571,572,573,574,575,576,577,578,579,580,581,582,583,584,585,586,587,588,589,590,591,592,593,594,595,596,597,598,599,600,601,602,603,604,605,606,607,608,609,610,611,612,613,614,615,616,617,618,619,620,621,622,623,624,625,626,627,628,629,630,631,632,633,634,635,636,637,638,639,640,641,642,643,644,645,646,647,648,649,650,651,652,653,654,655,656,657,658,659,660,661,662,663,664,665,666,667,668,669,670,671,672,673,674,675,676,677,678,679,680,681,682,683,684,685,686,687,688,689,690,691,692,693,694,695,696,697,698,699,700,701,702,703,704,705,706,707,708,709,710,711,712,713,714,715,716,717,718,719,720,721,722,723,724,725,726,727,728,729,730,731,732,733,734,735,736,737,738,739,740,741,742,743,744,745,746,747,748,749,750,751,752,753,754,755,756,757,758,759,760,761,762,763,764,765,766,767,768,769,770,771,772,773,774,775,776,777,778,779,780,781,782,783,784,785,786,787,788,789,790,791,792,793,794,795,796,797,798,799,800,801,802,803,804,805,806,807,808,809,810,811,812,813,814,815,816,817,818,819,820,821,822,823,824,825,826,827,828,829,830,831,832,833,834,835,836,837,838,839,840,841,842,843,844,845,846,847,848,849,850,851,852,853,854,855,856,857,858,859,860,861,862,863,864,865,866,867,868,869,870,871,872,873,874,875,876,877,878,879,880,881,882,883,884,885,886,887,888,889,890,891,892,893,894,895,896,897,898,899,900,901,902,903,904,905,906,907,908,909,910,911,912,913,914,915,916,917,918,919,920,921,922,923,924,925,926,927,928,929,930,931,932,933,934,935,936,937,938,939,940,941,942,943,944,945,946,947,948,949,950,951,952,953,954,955,956,957,958,959,960,961,962,963,964,965,966,967,968,969,970,971,972,973,974,975,976,977,978,979,980,981,982,983,984,985,986,987,988,989,990,991,992,993,994,995,996,997,998,999],\"y\":[2000,1980.0,1960.2,1940.598,1921.19202,1901.9800997999998,1882.960298802,1864.1306958139799,1845.48938885584,1827.0344949672815,1808.7641500176087,1790.6765085174327,1772.7697434322583,1755.0420459979357,1737.4916255379562,1720.1167092825767,1702.915542189751,1685.8863867678535,1669.027522900175,1652.3372476711731,1635.8138751944614,1619.4557364425168,1603.2611790780916,1587.2285672873106,1571.3562816144374,1555.6427187982931,1540.0862916103101,1524.685428694207,1509.438574407265,1494.3441886631922,1479.4007467765603,1464.6067393087947,1449.9606719157066,1435.4610651965495,1421.106454544584,1406.8953899991382,1392.8264360991468,1378.8981717381553,1365.1091900207737,1351.4580981205659,1337.9435171393602,1324.5640819679666,1311.3184411482869,1298.205256736804,1285.2232041694358,1272.3709721277414,1259.647262406464,1247.0507897823993,1234.5802818845752,1222.2344790657294,1210.012134275072,1197.9120129323212,1185.932892802998,1174.073563874968,1162.3328282362183,1150.7094999538563,1139.2024049543177,1127.8103809047745,1116.5322770957268,1105.3669543247695,1094.3132847815218,1083.3701519337067,1072.5364504143695,1061.8110859102258,1051.1929750511235,1040.6810453006124,1030.2742348476063,1019.9714924991302,1009.7717775741389,999.6740597983975,989.6773192004135,979.7805460084094,969.9827405483253,960.2829131428421,950.6800840114137,941.1732831712995,931.7615503395865,922.4439348361906,913.2194954878287,904.0873005329504,895.0464275276208,886.0959632523446,877.2350036198212,868.462653583623,859.7780270477867,851.1802467773089,842.6684443095357,834.2417598664404,825.899342267776,817.6403488450982,809.4639453566472,801.3693059030807,793.3556128440498,785.4220567156093,777.5678361484532,769.7921577869687,762.094236209099,754.473293847008,746.9285609085379,739.4592752994524,732.0646825464579,724.7440357209933,717.4965953637834,710.3216294101455,703.2184131160441,696.1862289848837,689.2243666950349,682.3321230280845,675.5088017978037,668.7537137798256,662.0661766420274,655.445514875607,648.8910597268509,642.4021491295824,635.9781276382867,629.6183463619038,623.3221628982848,617.0889412693019,610.9180518566089,604.8088713380429,598.7607826246624,592.7731747984158,586.8454430504316,580.9769886199273,575.167218733728,569.4155465463907,563.7213910809268,558.0841771701175,552.5033353984163,546.9783020444321,541.5085190239878,536.0934338337479,530.7324994954104,525.4251745004563,520.1709227554517,514.9692135278972,509.8195213926182,504.721326178692,499.6741129169051,494.67737178773604,489.7305980698587,484.83329208916007,479.98495916826846,475.1851095765858,470.4332584808199,465.72892589601173,461.0716366370516,456.4609202706811,451.89631106797424,447.3773479572945,442.9035744777215,438.4745387329443,434.08979334561485,429.7488954121587,425.45140645803707,421.1968923934567,416.98492346952213,412.8150742348269,408.6869234924786,404.60005425755384,400.5540537149783,396.5485131778285,392.58302804605023,388.65719776558973,384.77062578793385,380.9229195300545,377.113690334754,373.34255343140643,369.6091278970924,365.91303661812145,362.25390625194024,358.6313671894208,355.0450535175266,351.4946029823513,347.97965695252776,344.4998603830025,341.0548617791725,337.64431316138075,334.2678700297669,330.92519132946927,327.61593941617457,324.3397800220128,321.0963822217927,317.88541839957475,314.706564215579,311.55949857342324,308.443903587689,305.35946455181215,302.30586990629405,299.28281120723113,296.28998309515885,293.32708326420726,290.3938124315652,287.4898743072496,284.6149755641771,281.7688258085353,278.95113755044997,276.16162617494547,273.400009913196,270.66600981406407,267.95934971592345,265.2797562187642,262.62695865657656,260.0006890700108,257.4006821793107,254.8266753575176,252.2784086039424,249.755624517903,247.25806827272396,244.7854875899967,242.33763271409674,239.91425638695577,237.5151138230862,235.13996268485533,232.7885630580068,230.46067742742673,228.15607065315245,225.87450994662092,223.6157648471547,221.37960719868315,219.16581112669633,216.97415301542935,214.80441148527507,212.65636737042232,210.5298036967181,208.4245056597509,206.34026060315338,204.27685799712185,202.23408941715064,200.21174852297912,198.20963103774932,196.22753472737182,194.2652593800981,192.32260678629711,190.39938071843414,188.4953869112498,186.6104330421373,184.74432871171592,182.89688542459876,181.06791657035276,179.25723740464923,177.46466503060273,175.6900183802967,173.93311819649372,172.1937870145288,170.4718491443835,168.76713065293967,167.07945934641026,165.40866475294615,163.7545781054167,162.11703232436253,160.4958620011189,158.8909033811077,157.3019943472966,155.72897440382366,154.17168465978543,152.62996781318756,151.1036681350557,149.59263145370514,148.09670513916808,146.6157380877764,145.14958070689863,143.69808489982964,142.26110405083134,140.83849301032302,139.43010808021978,138.0358069994176,136.65544892942341,135.28889444012918,133.9360054957279,132.59664544077063,131.27067898636292,129.9579721964993,128.6583924745343,127.37180854978897,126.09809046429108,124.83710955964817,123.58873846405169,122.35285107941117,121.12932256861706,119.91802934293088,118.71884904950157,117.53166055900655,116.35634395341648,115.19278051388231,114.04085270874349,112.90044418165606,111.7714397398395,110.65372534244109,109.54718808901669,108.45171620812651,107.36719904604524,106.29352705558479,105.23059178502893,104.17828586717864,103.13650300850686,102.1051379784218,101.08408659863757,100.07324573265119,99.07251327532468,98.08178814257144,97.10097026114572,96.12996055853426,95.16866095294893,94.21697434341944,93.27480459998525,92.34205655398539,91.41863598844553,90.50444962856108,89.59940513227546,88.7034110809527,87.81637697014318,86.93821320044175,86.06883106843733,85.20814275775295,84.35606133017542,83.51250071687366,82.67737570970492,81.85060195260787,81.03209593308179,80.22177497375097,79.41955722401346,78.62536165177332,77.83910803525558,77.06071695490301,76.29010978535399,75.52720868750045,74.77193660062544,74.02421723461919,73.283975062273,72.55113531165027,71.82562395853377,71.10736771894842,70.39629404175894,69.69233110134134,68.99540779032793,68.30545371242465,67.6223991753004,66.9461751835474,66.27671343171193,65.6139462973948,64.95780683442085,64.30822876607664,63.66514647841587,63.02849501363171,62.3982100634954,61.774227962860444,61.156485683231836,60.54492082639952,59.93947161813552,59.34007690195416,58.746676132934624,58.15920937160528,57.577617277889225,57.00184110511033,56.43182269405923,55.867504467118636,55.308829422447445,54.75574112822297,54.208183716940745,53.66610187977134,53.129440860973624,52.598146452363885,52.072164987840246,51.55144333796184,51.03592890458222,50.5255696155364,50.02031391938103,49.520110780187224,49.02490967238535,48.5346605756615,48.04931396990488,47.56882083020583,47.09313262190377,46.62220129568473,46.155979282727884,45.6944194899006,45.237475295001595,44.78510054205158,44.33724953663106,43.89387704126475,43.454938270852104,43.02038888814358,42.59018499926214,42.16428314926952,41.742640317776825,41.325213914599054,40.911961775453065,40.50284215769853,40.097813736121545,39.69683559876033,39.29986724277273,38.906868570345,38.51779988464155,38.13262188579513,37.75129566693718,37.37378271026781,37.00004488316513,36.63004443433348,36.26374398999014,35.90110655009024,35.54209548458934,35.18667452974344,34.83480778444601,34.48645970660154,34.14159510953553,33.80017915844017,33.46217736685577,33.12755559318721,32.796280037255336,32.46831723688278,32.143634064513954,31.822197723868815,31.503975746630125,31.188935989163824,30.877046629272186,30.568276162979465,30.26259340134967,29.95996746733617,29.660367792662807,29.363764114736178,29.070126473588815,28.779425208852928,28.491630956764396,28.20671464719675,27.924647500724785,27.645401025717536,27.36894701546036,27.095257545305756,26.824304969852697,26.55606192015417,26.29050130095263,26.027596287943105,25.767320325063675,25.50964712181304,25.254550650594908,25.002005144088958,24.75198509264807,24.50446524172159,24.259420589304373,24.016826383411328,23.776658119577213,23.538891538381442,23.303502622997627,23.07046759676765,22.839762920799974,22.611365291591973,22.385251638676053,22.161399122289293,21.9397851310664,21.720387279755737,21.50318340695818,21.288151572888598,21.075270057159713,20.864517356588117,20.655872183022236,20.449313461192013,20.244820326580093,20.04237212331429,19.841948402081147,19.643528918060337,19.447093628879735,19.252622692590936,19.060096465665026,18.869495501008377,18.68080054599829,18.493992540538308,18.309052615132924,18.125962088981595,17.94470246809178,17.76525544341086,17.587602888976754,17.411726860086986,17.237609591486116,17.065233495571256,16.894581160615544,16.725635349009387,16.558378995519295,16.392795205564102,16.22886725350846,16.066578580973378,15.905912795163644,15.746853667212008,15.589385130539888,15.43349127923449,15.279156366442145,15.126364802777722,14.975101154749945,14.825350143202446,14.67709664177042,14.530325675352715,14.385022418599188,14.241172194413197,14.098760472469065,13.957772867744374,13.81819513906693,13.680013187676261,13.543213055799498,13.407780925241504,13.273703115989088,13.140966084829197,13.009556423980905,12.879460859741096,12.750666251143684,12.623159588632248,12.496927992745926,12.371958712818467,12.248239125690281,12.125756734433379,12.004499167089046,11.884454175418155,11.765609633663972,11.647953537327332,11.53147400195406,11.416159261934519,11.301997669315174,11.188977692622021,11.0770879156958,10.966317036538843,10.856653866173454,10.748087327511719,10.640606454236602,10.534200389694236,10.428858385797295,10.32456980193932,10.221324103919928,10.119110862880728,10.01791975425192,9.9177405567094,9.818563151142307,9.720377519630883,9.623173744434574,9.526942006990229,9.431672586920326,9.337355861051122,9.243982302440612,9.151542479416205,9.060027054622044,8.969426784075823,8.879732516235064,8.790935191072714,8.703025839161986,8.615995580770367,8.529835624962663,8.444537268713036,8.360091896025907,8.276490977065647,8.19372606729499,8.111788806622041,8.03067091855582,7.950364209370262,7.8708605672765595,7.7921519616037935,7.714230441987755,7.637088137567877,7.5607172561921985,7.485110083630277,7.410258982793974,7.336156392966034,7.262794829036373,7.190166880746009,7.1182652119385486,7.047082559819163,6.976611734220971,6.906845616878761,6.837777160709973,6.769399389102873,6.701705395211845,6.634688341259727,6.568341457847129,6.502658043268658,6.437631462835972,6.373255148207612,6.309522596725536,6.246427370758281,6.183963097050698,6.122123466080191,6.060902231419389,6.0002932091051955,5.940290277014143,5.8808873742440015,5.822078500501561,5.763857715496545,5.70621913834158,5.649156946958164,5.592665377488582,5.536738723713696,5.481371336476559,5.426557623111793,5.372292046880675,5.318569126411869,5.26538343514775,5.212729600796272,5.160602304788309,5.108996281740426,5.057906318923021,5.007327255733791,4.957253983176453,4.907681443344688,4.858604628911241,4.810018582622129,4.761918396795908,4.714299212827949,4.6671562206996695,4.620484658492673,4.574279811907746,4.528537013788669,4.4832516436507825,4.438419127214274,4.394034935942131,4.35009458658271,4.3065936407168826,4.2635277043097135,4.220892427266616,4.17868350299395,4.1368966679640105,4.095527701284371,4.054572424271527,4.014026700028811,3.973886433028523,3.9341475686982377,3.894806093011255,3.8558580320811426,3.817299451760331,3.779126457242728,3.7413351926703005,3.703921840743597,3.666882622336161,3.6302137961127996,3.5939116581516717,3.557972541570155,3.5223928161544533,3.4871688879929086,3.4522971991129796,3.41777422712185,3.3835964848506315,3.349760520002125,3.316262914802104,3.2831002856540827,3.2502692827975417,3.217766589969566,3.1855889240698705,3.153733034829172,3.1221957044808804,3.0909737474360717,3.060064009961711,3.029463369862094,2.999168736163473,2.9691770488018383,2.93948527831382,2.9100904255306816,2.880989521275375,2.8521796260626213,2.823657829801995,2.795421251503975,2.7674670389889355,2.739792368599046,2.7123944449130555,2.685270500463925,2.6584177954592856,2.6318336175046926,2.605515281329646,2.579460128516349,2.553665527231186,2.528128871958874,2.5028475832392854,2.4778191074068925,2.4530409163328235,2.4285105071694955,2.4042254020978007,2.3801831480768225,2.356381316596054,2.3328175034300935,2.3094893283957925,2.2863944351118346,2.2635304907607163,2.240895185853109,2.218486233994578,2.196301371654632,2.1743383579380855,2.1525949743587045,2.1310690246151176,2.1097583343689665,2.088660751025277,2.0677741435150243,2.047096402079874,2.0266254380590754,2.0063591836784846,1.9862955918416998,1.9664326359232829,1.94676830956405,1.9273006264684094,1.9080276202037252,1.888947344001688,1.870057870561671,1.8513572918560544,1.8328437189374938,1.8145152817481187,1.7963701289306375,1.7784064276413312,1.7606223633649178,1.7430161397312687,1.725585978333956,1.7083301185506163,1.69124681736511,1.6743343491914588,1.6575910056995442,1.6410150956425487,1.6246049446861233,1.608358895239262,1.5922753062868693,1.5763525532240006,1.5605890276917607,1.544983137414843,1.5295333060406946,1.5142379729802877,1.4990955932504848,1.48410463731798,1.4692635909448002,1.4545709550353523,1.4400252454849987,1.4256249930301486,1.4113687430998472,1.3972550556688488,1.3832825051121602,1.3694496800610385,1.3557551832604282,1.342197631427824,1.3287756551135457,1.31548789856241,1.302333019576786,1.289309689381018,1.276416592487208,1.263652426562336,1.2510159022967124,1.2385057432737454,1.2261206858410079,1.2138594789825978,1.2017208841927718,1.189703675350844,1.1778066385973356,1.1660285722113621,1.1543682864892486,1.1428246036243561,1.1313963575881125,1.1200823940122313,1.108881570072109,1.097792754371388,1.086814826827674,1.0759466785593974,1.0651872117738035,1.0545353396560655,1.0439899862595048,1.0335500863969098,1.0232145855329406,1.0129824396776113,1.002852615280835,0.9928240891280267,0.9828958482367464,0.9730668897543789,0.9633362208568351,0.9537028586482668,0.9441658300617841,0.9347241717611663,0.9253769300435546,0.9161231607431191,0.9069619291356878,0.897892309844331,0.8889133867458877,0.8800242528784288,0.8712240103496445,0.862511770246148,0.8538866525436866,0.8453477860182497,0.8368943081580672,0.8285253650764866,0.8202401114257217,0.8120377103114645,0.8039173332083499,0.7958781598762664,0.7879193782775038,0.7800401844947288,0.7722397826497814,0.7645173848232836,0.7568722109750508,0.7493034888653002,0.7418104539766471,0.7343923494368807,0.7270484259425118,0.7197779416830867,0.7125801622662559,0.7054543606435933,0.6983998170371574,0.6914158188667858,0.6845016606781179,0.6776566440713367,0.6708800776306234,0.6641712768543172,0.657529564085774,0.6509542684449162,0.6444447257604671,0.6380002785028625,0.6316202757178339,0.6253040729606555,0.619051032231049,0.6128605219087384,0.606731916689651,0.6006645975227545,0.5946579515475269,0.5887113720320516,0.5828242583117311,0.5769960157286138,0.5712260555713277,0.5655137950156144,0.5598586570654582,0.5542600704948036,0.5487174697898556,0.543230295091957,0.5377979921410374,0.532420012219627,0.5270958120974307,0.5218248539764564,0.5166066054366918,0.5114405393823249,0.5063261339885017,0.5012628726486167,0.4962502439221305,0.4912877414829092,0.4863748640680801,0.4815111154273993,0.4766960042731253,0.47192904423039406,0.4672097537880901,0.4625376562502092,0.4579122796877071,0.45333315689083004,0.44879982532192175,0.44431182706870254,0.4398687087980155,0.43547002171003535,0.43111532149293497,0.4268041682780056,0.42253612659522555,0.4183107653292733,0.4141276576759806,0.40998638109922075,0.40588651728822855,0.40182765211534627,0.3978093755941928,0.3938312818382509,0.38989296901986836,0.3859940393296697,0.382134098936373,0.3783127579470093,0.3745296303675392,0.37078433406386385,0.36707649072322523,0.36340572581599295,0.35977166855783305,0.3561739518722547,0.35261221235353213,0.3490860902299968,0.3455952293276968,0.3421392770344198,0.3387178842640756,0.33533070542143484,0.3319773983672205,0.3286576243835483,0.3253710481397128,0.3221173376583157,0.3188961642817325,0.31570720263891516,0.312550130612526,0.30942462930640074,0.30633038301333676,0.3032670791832034,0.30023440839137133,0.29723206430745763,0.29425974366438307,0.29131714622773924,0.28840397476546187,0.28551993501780726,0.2826647356676292,0.27983808831095286,0.27703970742784334,0.2742693103535649,0.27152661725002925,0.26881135107752896,0.26612323756675366,0.2634620051910861,0.26082738513917525,0.2582191112877835,0.2556369201749057,0.2530805509731566,0.25054974546342507,0.24804424800879082,0.2455638055287029,0.24310816747341588,0.24067708579868172,0.2382703149406949,0.23588761179128795,0.23352873567337507,0.23119344831664132,0.2288815138334749,0.22659269869514015,0.22432677170818874,0.22208350399110685,0.21986266895119577,0.21766404226168382,0.21548740183906698,0.2133325278206763,0.21119920254246954,0.20908721051704485,0.2069963384118744,0.20492637502775565,0.2028771112774781,0.20084834016470332,0.1988398567630563,0.19685145819542574,0.19488294361347147,0.19293411417733675,0.19100477303556337,0.18909472530520774,0.18720377805215566,0.1853317402716341,0.18347842286891775,0.18164363864022856,0.17982720225382628,0.17802893023128802,0.17624864092897513,0.17448615451968538,0.17274129297448854,0.17101388004474366,0.16930374124429623,0.16761070383185325,0.16593459679353473,0.16427525082559938,0.1626324983173434,0.16100617333416994,0.15939611160082826,0.15780215048481996,0.15622412897997176,0.15466188769017203,0.1531152688132703,0.1515841161251376,0.15006827496388622,0.14856759221424737,0.1470819162921049,0.14561109712918385,0.14415498615789202,0.14271343629631308,0.14128630193334996,0.13987343891401646,0.13847470452487629,0.13708995747962752,0.13571905790483124,0.13436186732578292,0.1330182486525251,0.13168806616599985,0.13037118550433985,0.12906747364929644,0.12777679891280347,0.12649903092367543,0.12523404061443866,0.12398170020829427,0.12274188320621132,0.12151446437414921,0.12029931973040772,0.11909632653310365,0.11790536326777261,0.11672630963509488,0.11555904653874392,0.11440345607335649,0.11325942151262292,0.11212682729749668,0.11100555902452171,0.1098955034342765,0.10879654839993373,0.1077085829159344,0.10663149708677505,0.1055651821159073,0.10450953029474823,0.10346443499180075,0.10242979064188273,0.10140549273546391,0.10039143780810927,0.09938752343002819,0.0983936481957279,0.09740971171377062,0.09643561459663291,0.09547125845066658,0.09451654586615992,0.09357138040749831,0.09263566660342333,0.0917093099373891,0.09079221683801521,0.08988429466963506,0.0889854517229387,0.08809559720570931,0.08721464123365222],\"type\":\"scatter\",\"xaxis\":\"x\",\"yaxis\":\"y2\"}],                        {\"template\":{\"data\":{\"bar\":[{\"error_x\":{\"color\":\"#2a3f5f\"},\"error_y\":{\"color\":\"#2a3f5f\"},\"marker\":{\"line\":{\"color\":\"#E5ECF6\",\"width\":0.5},\"pattern\":{\"fillmode\":\"overlay\",\"size\":10,\"solidity\":0.2}},\"type\":\"bar\"}],\"barpolar\":[{\"marker\":{\"line\":{\"color\":\"#E5ECF6\",\"width\":0.5},\"pattern\":{\"fillmode\":\"overlay\",\"size\":10,\"solidity\":0.2}},\"type\":\"barpolar\"}],\"carpet\":[{\"aaxis\":{\"endlinecolor\":\"#2a3f5f\",\"gridcolor\":\"white\",\"linecolor\":\"white\",\"minorgridcolor\":\"white\",\"startlinecolor\":\"#2a3f5f\"},\"baxis\":{\"endlinecolor\":\"#2a3f5f\",\"gridcolor\":\"white\",\"linecolor\":\"white\",\"minorgridcolor\":\"white\",\"startlinecolor\":\"#2a3f5f\"},\"type\":\"carpet\"}],\"choropleth\":[{\"colorbar\":{\"outlinewidth\":0,\"ticks\":\"\"},\"type\":\"choropleth\"}],\"contour\":[{\"colorbar\":{\"outlinewidth\":0,\"ticks\":\"\"},\"colorscale\":[[0.0,\"#0d0887\"],[0.1111111111111111,\"#46039f\"],[0.2222222222222222,\"#7201a8\"],[0.3333333333333333,\"#9c179e\"],[0.4444444444444444,\"#bd3786\"],[0.5555555555555556,\"#d8576b\"],[0.6666666666666666,\"#ed7953\"],[0.7777777777777778,\"#fb9f3a\"],[0.8888888888888888,\"#fdca26\"],[1.0,\"#f0f921\"]],\"type\":\"contour\"}],\"contourcarpet\":[{\"colorbar\":{\"outlinewidth\":0,\"ticks\":\"\"},\"type\":\"contourcarpet\"}],\"heatmap\":[{\"colorbar\":{\"outlinewidth\":0,\"ticks\":\"\"},\"colorscale\":[[0.0,\"#0d0887\"],[0.1111111111111111,\"#46039f\"],[0.2222222222222222,\"#7201a8\"],[0.3333333333333333,\"#9c179e\"],[0.4444444444444444,\"#bd3786\"],[0.5555555555555556,\"#d8576b\"],[0.6666666666666666,\"#ed7953\"],[0.7777777777777778,\"#fb9f3a\"],[0.8888888888888888,\"#fdca26\"],[1.0,\"#f0f921\"]],\"type\":\"heatmap\"}],\"heatmapgl\":[{\"colorbar\":{\"outlinewidth\":0,\"ticks\":\"\"},\"colorscale\":[[0.0,\"#0d0887\"],[0.1111111111111111,\"#46039f\"],[0.2222222222222222,\"#7201a8\"],[0.3333333333333333,\"#9c179e\"],[0.4444444444444444,\"#bd3786\"],[0.5555555555555556,\"#d8576b\"],[0.6666666666666666,\"#ed7953\"],[0.7777777777777778,\"#fb9f3a\"],[0.8888888888888888,\"#fdca26\"],[1.0,\"#f0f921\"]],\"type\":\"heatmapgl\"}],\"histogram\":[{\"marker\":{\"pattern\":{\"fillmode\":\"overlay\",\"size\":10,\"solidity\":0.2}},\"type\":\"histogram\"}],\"histogram2d\":[{\"colorbar\":{\"outlinewidth\":0,\"ticks\":\"\"},\"colorscale\":[[0.0,\"#0d0887\"],[0.1111111111111111,\"#46039f\"],[0.2222222222222222,\"#7201a8\"],[0.3333333333333333,\"#9c179e\"],[0.4444444444444444,\"#bd3786\"],[0.5555555555555556,\"#d8576b\"],[0.6666666666666666,\"#ed7953\"],[0.7777777777777778,\"#fb9f3a\"],[0.8888888888888888,\"#fdca26\"],[1.0,\"#f0f921\"]],\"type\":\"histogram2d\"}],\"histogram2dcontour\":[{\"colorbar\":{\"outlinewidth\":0,\"ticks\":\"\"},\"colorscale\":[[0.0,\"#0d0887\"],[0.1111111111111111,\"#46039f\"],[0.2222222222222222,\"#7201a8\"],[0.3333333333333333,\"#9c179e\"],[0.4444444444444444,\"#bd3786\"],[0.5555555555555556,\"#d8576b\"],[0.6666666666666666,\"#ed7953\"],[0.7777777777777778,\"#fb9f3a\"],[0.8888888888888888,\"#fdca26\"],[1.0,\"#f0f921\"]],\"type\":\"histogram2dcontour\"}],\"mesh3d\":[{\"colorbar\":{\"outlinewidth\":0,\"ticks\":\"\"},\"type\":\"mesh3d\"}],\"parcoords\":[{\"line\":{\"colorbar\":{\"outlinewidth\":0,\"ticks\":\"\"}},\"type\":\"parcoords\"}],\"pie\":[{\"automargin\":true,\"type\":\"pie\"}],\"scatter\":[{\"marker\":{\"colorbar\":{\"outlinewidth\":0,\"ticks\":\"\"}},\"type\":\"scatter\"}],\"scatter3d\":[{\"line\":{\"colorbar\":{\"outlinewidth\":0,\"ticks\":\"\"}},\"marker\":{\"colorbar\":{\"outlinewidth\":0,\"ticks\":\"\"}},\"type\":\"scatter3d\"}],\"scattercarpet\":[{\"marker\":{\"colorbar\":{\"outlinewidth\":0,\"ticks\":\"\"}},\"type\":\"scattercarpet\"}],\"scattergeo\":[{\"marker\":{\"colorbar\":{\"outlinewidth\":0,\"ticks\":\"\"}},\"type\":\"scattergeo\"}],\"scattergl\":[{\"marker\":{\"colorbar\":{\"outlinewidth\":0,\"ticks\":\"\"}},\"type\":\"scattergl\"}],\"scattermapbox\":[{\"marker\":{\"colorbar\":{\"outlinewidth\":0,\"ticks\":\"\"}},\"type\":\"scattermapbox\"}],\"scatterpolar\":[{\"marker\":{\"colorbar\":{\"outlinewidth\":0,\"ticks\":\"\"}},\"type\":\"scatterpolar\"}],\"scatterpolargl\":[{\"marker\":{\"colorbar\":{\"outlinewidth\":0,\"ticks\":\"\"}},\"type\":\"scatterpolargl\"}],\"scatterternary\":[{\"marker\":{\"colorbar\":{\"outlinewidth\":0,\"ticks\":\"\"}},\"type\":\"scatterternary\"}],\"surface\":[{\"colorbar\":{\"outlinewidth\":0,\"ticks\":\"\"},\"colorscale\":[[0.0,\"#0d0887\"],[0.1111111111111111,\"#46039f\"],[0.2222222222222222,\"#7201a8\"],[0.3333333333333333,\"#9c179e\"],[0.4444444444444444,\"#bd3786\"],[0.5555555555555556,\"#d8576b\"],[0.6666666666666666,\"#ed7953\"],[0.7777777777777778,\"#fb9f3a\"],[0.8888888888888888,\"#fdca26\"],[1.0,\"#f0f921\"]],\"type\":\"surface\"}],\"table\":[{\"cells\":{\"fill\":{\"color\":\"#EBF0F8\"},\"line\":{\"color\":\"white\"}},\"header\":{\"fill\":{\"color\":\"#C8D4E3\"},\"line\":{\"color\":\"white\"}},\"type\":\"table\"}]},\"layout\":{\"annotationdefaults\":{\"arrowcolor\":\"#2a3f5f\",\"arrowhead\":0,\"arrowwidth\":1},\"autotypenumbers\":\"strict\",\"coloraxis\":{\"colorbar\":{\"outlinewidth\":0,\"ticks\":\"\"}},\"colorscale\":{\"diverging\":[[0,\"#8e0152\"],[0.1,\"#c51b7d\"],[0.2,\"#de77ae\"],[0.3,\"#f1b6da\"],[0.4,\"#fde0ef\"],[0.5,\"#f7f7f7\"],[0.6,\"#e6f5d0\"],[0.7,\"#b8e186\"],[0.8,\"#7fbc41\"],[0.9,\"#4d9221\"],[1,\"#276419\"]],\"sequential\":[[0.0,\"#0d0887\"],[0.1111111111111111,\"#46039f\"],[0.2222222222222222,\"#7201a8\"],[0.3333333333333333,\"#9c179e\"],[0.4444444444444444,\"#bd3786\"],[0.5555555555555556,\"#d8576b\"],[0.6666666666666666,\"#ed7953\"],[0.7777777777777778,\"#fb9f3a\"],[0.8888888888888888,\"#fdca26\"],[1.0,\"#f0f921\"]],\"sequentialminus\":[[0.0,\"#0d0887\"],[0.1111111111111111,\"#46039f\"],[0.2222222222222222,\"#7201a8\"],[0.3333333333333333,\"#9c179e\"],[0.4444444444444444,\"#bd3786\"],[0.5555555555555556,\"#d8576b\"],[0.6666666666666666,\"#ed7953\"],[0.7777777777777778,\"#fb9f3a\"],[0.8888888888888888,\"#fdca26\"],[1.0,\"#f0f921\"]]},\"colorway\":[\"#636efa\",\"#EF553B\",\"#00cc96\",\"#ab63fa\",\"#FFA15A\",\"#19d3f3\",\"#FF6692\",\"#B6E880\",\"#FF97FF\",\"#FECB52\"],\"font\":{\"color\":\"#2a3f5f\"},\"geo\":{\"bgcolor\":\"white\",\"lakecolor\":\"white\",\"landcolor\":\"#E5ECF6\",\"showlakes\":true,\"showland\":true,\"subunitcolor\":\"white\"},\"hoverlabel\":{\"align\":\"left\"},\"hovermode\":\"closest\",\"mapbox\":{\"style\":\"light\"},\"paper_bgcolor\":\"white\",\"plot_bgcolor\":\"#E5ECF6\",\"polar\":{\"angularaxis\":{\"gridcolor\":\"white\",\"linecolor\":\"white\",\"ticks\":\"\"},\"bgcolor\":\"#E5ECF6\",\"radialaxis\":{\"gridcolor\":\"white\",\"linecolor\":\"white\",\"ticks\":\"\"}},\"scene\":{\"xaxis\":{\"backgroundcolor\":\"#E5ECF6\",\"gridcolor\":\"white\",\"gridwidth\":2,\"linecolor\":\"white\",\"showbackground\":true,\"ticks\":\"\",\"zerolinecolor\":\"white\"},\"yaxis\":{\"backgroundcolor\":\"#E5ECF6\",\"gridcolor\":\"white\",\"gridwidth\":2,\"linecolor\":\"white\",\"showbackground\":true,\"ticks\":\"\",\"zerolinecolor\":\"white\"},\"zaxis\":{\"backgroundcolor\":\"#E5ECF6\",\"gridcolor\":\"white\",\"gridwidth\":2,\"linecolor\":\"white\",\"showbackground\":true,\"ticks\":\"\",\"zerolinecolor\":\"white\"}},\"shapedefaults\":{\"line\":{\"color\":\"#2a3f5f\"}},\"ternary\":{\"aaxis\":{\"gridcolor\":\"white\",\"linecolor\":\"white\",\"ticks\":\"\"},\"baxis\":{\"gridcolor\":\"white\",\"linecolor\":\"white\",\"ticks\":\"\"},\"bgcolor\":\"#E5ECF6\",\"caxis\":{\"gridcolor\":\"white\",\"linecolor\":\"white\",\"ticks\":\"\"}},\"title\":{\"x\":0.05},\"xaxis\":{\"automargin\":true,\"gridcolor\":\"white\",\"linecolor\":\"white\",\"ticks\":\"\",\"title\":{\"standoff\":15},\"zerolinecolor\":\"white\",\"zerolinewidth\":2},\"yaxis\":{\"automargin\":true,\"gridcolor\":\"white\",\"linecolor\":\"white\",\"ticks\":\"\",\"title\":{\"standoff\":15},\"zerolinecolor\":\"white\",\"zerolinewidth\":2}}},\"xaxis\":{\"anchor\":\"y\",\"domain\":[0.0,0.94],\"title\":{\"text\":\"Iterations\"}},\"yaxis\":{\"anchor\":\"x\",\"domain\":[0.0,1.0],\"title\":{\"text\":\"Cost\"}},\"yaxis2\":{\"anchor\":\"x\",\"overlaying\":\"y\",\"side\":\"right\",\"title\":{\"text\":\"Temperature\"}}},                        {\"responsive\": true}                    ).then(function(){\n",
       "                            \n",
       "var gd = document.getElementById('87a7499e-29a4-46cb-ac42-4847d8dcaf51');\n",
       "var x = new MutationObserver(function (mutations, observer) {{\n",
       "        var display = window.getComputedStyle(gd).display;\n",
       "        if (!display || display === 'none') {{\n",
       "            console.log([gd, 'removed!']);\n",
       "            Plotly.purge(gd);\n",
       "            observer.disconnect();\n",
       "        }}\n",
       "}});\n",
       "\n",
       "// Listen for the removal of the full notebook cells\n",
       "var notebookContainer = gd.closest('#notebook-container');\n",
       "if (notebookContainer) {{\n",
       "    x.observe(notebookContainer, {childList: true});\n",
       "}}\n",
       "\n",
       "// Listen for the clearing of the current output cell\n",
       "var outputEl = gd.closest('.output');\n",
       "if (outputEl) {{\n",
       "    x.observe(outputEl, {childList: true});\n",
       "}}\n",
       "\n",
       "                        })                };                });            </script>        </div>"
      ]
     },
     "metadata": {},
     "output_type": "display_data"
    }
   ],
   "source": [
    "x, cost_hist, T_hist = tsp(x_0 = np.copy(order),\n",
    "                        cost_fun = walk_cost,\n",
    "                        step = arbitrary_swap,\n",
    "                        decision_fun = accept_decision,\n",
    "                        T_change_fun = lambda x: x*0.99)\n",
    "\n",
    "X = list(range(len(cost_hist)))\n",
    "         \n",
    "fig = make_subplots(specs=[[{\"secondary_y\": True}]])\n",
    "fig.add_trace(go.Scatter(x=X, y=cost_hist, name=\"Cost\"), secondary_y=False)\n",
    "fig.add_trace(go.Scatter(x=X, y=T_hist, name=\"Temperature\"), secondary_y=True)\n",
    "fig.update_xaxes(title_text=\"Iterations\")\n",
    "fig.update_yaxes(title_text=\"Cost\", secondary_y=False)\n",
    "fig.update_yaxes(title_text=\"Temperature\", secondary_y=True)\n",
    "fig.show()"
   ]
  },
  {
   "cell_type": "code",
   "execution_count": 58,
   "id": "3071cc04-649e-4f39-956d-a3e130d5af61",
   "metadata": {},
   "outputs": [
    {
     "data": {
      "application/vnd.plotly.v1+json": {
       "config": {
        "plotlyServerURL": "https://plot.ly"
       },
       "data": [
        {
         "mode": "markers",
         "name": "Cities",
         "type": "scatter",
         "x": [
          0.8100587208387919,
          0.12510476818504312,
          0.6866066170743139,
          0.7824726007308408,
          0.28364556747204595,
          0.10621716340922804,
          0.7097279124498955,
          0.1126578379515023,
          0.7122170460167786,
          0.5572122042038384,
          0.5621866543753284,
          0.9682855682580834,
          0.6395942692765056,
          0.899334477317284,
          0.5455134623521591,
          0.1834643416304248,
          0.0034052594297774297,
          0.7502241122660801,
          0.6796378429843257,
          0.7315024955660715,
          0.42129521670683123,
          0.7147450759148989,
          0.9710773925195391,
          0.47126604068542666,
          0.9641797851059786,
          0.12808667459069834,
          0.7930987768073288,
          0.7335804111781163,
          0.4320912019679575,
          0.4899146693643722,
          0.29108217048556695,
          0.10731981491238474,
          0.32117242495689047,
          0.7604986147422026,
          0.23668684529955675,
          0.3598609482869747,
          0.2029267288418607,
          0.44993844197868216,
          0.3935778156660623,
          0.560422668936806,
          0.6141409480642765,
          0.2700999826057213,
          0.5825134499271577,
          0.19931639843156024,
          0.39591219519868526,
          0.23614697278074004,
          0.730553622447236,
          0.19743642567735142,
          0.538580744927778,
          0.5404133122903922,
          0.06960673346048396,
          0.12634353545560628,
          0.47959396378074837,
          0.7925504662339139,
          0.1222532067716593,
          0.3461846609300645,
          0.40971714289189565,
          0.7437333351378206,
          0.19001803103724157,
          0.6134137692977178,
          0.3808699101162266,
          0.014690719506381678,
          0.88041399551388,
          0.339581004317713,
          0.7862380728551284,
          0.7356894832844127,
          0.9728978703924406,
          0.5740946678476263,
          0.09619766627894588,
          0.21815699431241298,
          0.5897931652724042,
          0.2434701176419869,
          0.1844763034877478,
          0.8724067302063733,
          0.5935713983018341,
          0.871065880894046,
          0.49626125520931286,
          0.35382110683387724,
          0.8471329281501045,
          0.8368052792369964,
          0.2491574941930791,
          0.494552999679161,
          0.3311611163169167,
          0.1653720253729618,
          0.14536519867460174,
          0.9848267394996728,
          0.7416412256916849,
          0.6080966110195061,
          0.9845521865390264,
          0.7131875112832233
         ],
         "y": [
          0.15313718907360874,
          0.8145614802897556,
          0.7894457892535641,
          0.8361629552598312,
          0.5025373898835904,
          0.18037337295958678,
          0.8848408460590991,
          0.6430419429966692,
          0.8127694767714058,
          0.728868974284052,
          0.9269287120949101,
          0.6479836710703855,
          0.9192342178586371,
          0.3696446793053202,
          0.9433623953771447,
          0.7265948017901491,
          0.7898932176717601,
          0.27711039144445415,
          0.6982940606250577,
          0.8805207031171653,
          0.0408930164657042,
          0.03314921976510565,
          0.433608994463881,
          0.13600404326852322,
          0.13290819983619595,
          0.7129950213719363,
          0.3113287960949539,
          0.976749500283471,
          0.3510277723354597,
          0.8152572309202584,
          0.4165646624489464,
          0.7662467449074513,
          0.22663695484397983,
          0.6391953022683073,
          0.4115437338149427,
          0.20417089785271414,
          0.1681674799520565,
          0.09685169650061098,
          0.0705621018014645,
          0.04250968227771634,
          0.09659917047641975,
          0.37559701985537086,
          0.227799661650526,
          0.20646284213661825,
          0.9001493400348218,
          0.3591451463146923,
          0.9572295168403611,
          0.7094213743477947,
          0.2464782953907746,
          0.11684407739300551,
          0.5144605869381663,
          0.7486883017636721,
          0.1252016916453288,
          0.5177612616606488,
          0.8236597932914284,
          0.38280091789094195,
          0.6707328430609782,
          0.6091303237064979,
          0.07651016922893972,
          0.6538844982124137,
          0.4621093928736598,
          0.07106101604351722,
          0.5842644974654684,
          0.21545290524568306,
          0.20198634873971855,
          0.34108930341327104,
          0.7190453934216301,
          0.4648558734822964,
          0.11266247165373744,
          0.13771517729243,
          0.13100721216426747,
          0.9855951982040423,
          0.14460432660994382,
          0.5498161699493295,
          0.2478000528015143,
          0.9771008580173107,
          0.940930320110127,
          0.5439701013770781,
          0.5500747308023718,
          0.12969549319300766,
          0.06644760501847968,
          0.5111501999749392,
          0.7227310397099486,
          0.4521564508598567,
          0.9724122806233905,
          0.9914370159400273,
          0.922281449034195,
          0.4731988653918252,
          0.5923085811579438,
          0.9047043590927412
         ]
        },
        {
         "mode": "lines",
         "name": "Initial path",
         "type": "scatter",
         "visible": "legendonly",
         "x": [
          0.8100587208387919,
          0.12510476818504312,
          0.6866066170743139,
          0.7824726007308408,
          0.28364556747204595,
          0.10621716340922804,
          0.7097279124498955,
          0.1126578379515023,
          0.7122170460167786,
          0.5572122042038384,
          0.5621866543753284,
          0.9682855682580834,
          0.6395942692765056,
          0.899334477317284,
          0.5455134623521591,
          0.1834643416304248,
          0.0034052594297774297,
          0.7502241122660801,
          0.6796378429843257,
          0.7315024955660715,
          0.42129521670683123,
          0.7147450759148989,
          0.9710773925195391,
          0.47126604068542666,
          0.9641797851059786,
          0.12808667459069834,
          0.7930987768073288,
          0.7335804111781163,
          0.4320912019679575,
          0.4899146693643722,
          0.29108217048556695,
          0.10731981491238474,
          0.32117242495689047,
          0.7604986147422026,
          0.23668684529955675,
          0.3598609482869747,
          0.2029267288418607,
          0.44993844197868216,
          0.3935778156660623,
          0.560422668936806,
          0.6141409480642765,
          0.2700999826057213,
          0.5825134499271577,
          0.19931639843156024,
          0.39591219519868526,
          0.23614697278074004,
          0.730553622447236,
          0.19743642567735142,
          0.538580744927778,
          0.5404133122903922,
          0.06960673346048396,
          0.12634353545560628,
          0.47959396378074837,
          0.7925504662339139,
          0.1222532067716593,
          0.3461846609300645,
          0.40971714289189565,
          0.7437333351378206,
          0.19001803103724157,
          0.6134137692977178,
          0.3808699101162266,
          0.014690719506381678,
          0.88041399551388,
          0.339581004317713,
          0.7862380728551284,
          0.7356894832844127,
          0.9728978703924406,
          0.5740946678476263,
          0.09619766627894588,
          0.21815699431241298,
          0.5897931652724042,
          0.2434701176419869,
          0.1844763034877478,
          0.8724067302063733,
          0.5935713983018341,
          0.871065880894046,
          0.49626125520931286,
          0.35382110683387724,
          0.8471329281501045,
          0.8368052792369964,
          0.2491574941930791,
          0.494552999679161,
          0.3311611163169167,
          0.1653720253729618,
          0.14536519867460174,
          0.9848267394996728,
          0.7416412256916849,
          0.6080966110195061,
          0.9845521865390264,
          0.7131875112832233
         ],
         "y": [
          0.15313718907360874,
          0.8145614802897556,
          0.7894457892535641,
          0.8361629552598312,
          0.5025373898835904,
          0.18037337295958678,
          0.8848408460590991,
          0.6430419429966692,
          0.8127694767714058,
          0.728868974284052,
          0.9269287120949101,
          0.6479836710703855,
          0.9192342178586371,
          0.3696446793053202,
          0.9433623953771447,
          0.7265948017901491,
          0.7898932176717601,
          0.27711039144445415,
          0.6982940606250577,
          0.8805207031171653,
          0.0408930164657042,
          0.03314921976510565,
          0.433608994463881,
          0.13600404326852322,
          0.13290819983619595,
          0.7129950213719363,
          0.3113287960949539,
          0.976749500283471,
          0.3510277723354597,
          0.8152572309202584,
          0.4165646624489464,
          0.7662467449074513,
          0.22663695484397983,
          0.6391953022683073,
          0.4115437338149427,
          0.20417089785271414,
          0.1681674799520565,
          0.09685169650061098,
          0.0705621018014645,
          0.04250968227771634,
          0.09659917047641975,
          0.37559701985537086,
          0.227799661650526,
          0.20646284213661825,
          0.9001493400348218,
          0.3591451463146923,
          0.9572295168403611,
          0.7094213743477947,
          0.2464782953907746,
          0.11684407739300551,
          0.5144605869381663,
          0.7486883017636721,
          0.1252016916453288,
          0.5177612616606488,
          0.8236597932914284,
          0.38280091789094195,
          0.6707328430609782,
          0.6091303237064979,
          0.07651016922893972,
          0.6538844982124137,
          0.4621093928736598,
          0.07106101604351722,
          0.5842644974654684,
          0.21545290524568306,
          0.20198634873971855,
          0.34108930341327104,
          0.7190453934216301,
          0.4648558734822964,
          0.11266247165373744,
          0.13771517729243,
          0.13100721216426747,
          0.9855951982040423,
          0.14460432660994382,
          0.5498161699493295,
          0.2478000528015143,
          0.9771008580173107,
          0.940930320110127,
          0.5439701013770781,
          0.5500747308023718,
          0.12969549319300766,
          0.06644760501847968,
          0.5111501999749392,
          0.7227310397099486,
          0.4521564508598567,
          0.9724122806233905,
          0.9914370159400273,
          0.922281449034195,
          0.4731988653918252,
          0.5923085811579438,
          0.9047043590927412
         ]
        },
        {
         "mode": "lines",
         "name": "Optimized path",
         "type": "scatter",
         "x": [
          0.014690719506381678,
          0.19001803103724157,
          0.2491574941930791,
          0.560422668936806,
          0.9641797851059786,
          0.9710773925195391,
          0.88041399551388,
          0.7824726007308408,
          0.7315024955660715,
          0.7131875112832233,
          0.7097279124498955,
          0.7122170460167786,
          0.8724067302063733,
          0.899334477317284,
          0.7862380728551284,
          0.8100587208387919,
          0.8368052792369964,
          0.7147450759148989,
          0.6141409480642765,
          0.5825134499271577,
          0.5740946678476263,
          0.6080966110195061,
          0.7925504662339139,
          0.8471329281501045,
          0.7437333351378206,
          0.7604986147422026,
          0.4899146693643722,
          0.2434701176419869,
          0.14536519867460174,
          0.28364556747204595,
          0.3461846609300645,
          0.4320912019679575,
          0.538580744927778,
          0.5935713983018341,
          0.7356894832844127,
          0.7930987768073288,
          0.7502241122660801,
          0.5897931652724042,
          0.5404133122903922,
          0.47959396378074837,
          0.44993844197868216,
          0.47126604068542666,
          0.3808699101162266,
          0.35382110683387724,
          0.40971714289189565,
          0.5572122042038384,
          0.6796378429843257,
          0.6866066170743139,
          0.7416412256916849,
          0.871065880894046,
          0.9848267394996728,
          0.6134137692977178,
          0.494552999679161,
          0.29108217048556695,
          0.2700999826057213,
          0.19931639843156024,
          0.2029267288418607,
          0.1844763034877478,
          0.10621716340922804,
          0.09619766627894588,
          0.21815699431241298,
          0.32117242495689047,
          0.339581004317713,
          0.3598609482869747,
          0.42129521670683123,
          0.3935778156660623,
          0.23614697278074004,
          0.23668684529955675,
          0.1653720253729618,
          0.3311611163169167,
          0.49626125520931286,
          0.5455134623521591,
          0.6395942692765056,
          0.5621866543753284,
          0.39591219519868526,
          0.12634353545560628,
          0.10731981491238474,
          0.0034052594297774297,
          0.06960673346048396,
          0.1126578379515023,
          0.12808667459069834,
          0.19743642567735142,
          0.1834643416304248,
          0.12510476818504312,
          0.1222532067716593,
          0.7335804111781163,
          0.730553622447236,
          0.9728978703924406,
          0.9682855682580834,
          0.9845521865390264
         ],
         "y": [
          0.07106101604351722,
          0.07651016922893972,
          0.06644760501847968,
          0.04250968227771634,
          0.13290819983619595,
          0.433608994463881,
          0.5842644974654684,
          0.8361629552598312,
          0.8805207031171653,
          0.9047043590927412,
          0.8848408460590991,
          0.8127694767714058,
          0.5498161699493295,
          0.3696446793053202,
          0.20198634873971855,
          0.15313718907360874,
          0.12969549319300766,
          0.03314921976510565,
          0.09659917047641975,
          0.227799661650526,
          0.4648558734822964,
          0.4731988653918252,
          0.5177612616606488,
          0.5500747308023718,
          0.6091303237064979,
          0.6391953022683073,
          0.8152572309202584,
          0.9855951982040423,
          0.9724122806233905,
          0.5025373898835904,
          0.38280091789094195,
          0.3510277723354597,
          0.2464782953907746,
          0.2478000528015143,
          0.34108930341327104,
          0.3113287960949539,
          0.27711039144445415,
          0.13100721216426747,
          0.11684407739300551,
          0.1252016916453288,
          0.09685169650061098,
          0.13600404326852322,
          0.4621093928736598,
          0.5439701013770781,
          0.6707328430609782,
          0.728868974284052,
          0.6982940606250577,
          0.7894457892535641,
          0.922281449034195,
          0.9771008580173107,
          0.9914370159400273,
          0.6538844982124137,
          0.5111501999749392,
          0.4165646624489464,
          0.37559701985537086,
          0.20646284213661825,
          0.1681674799520565,
          0.14460432660994382,
          0.18037337295958678,
          0.11266247165373744,
          0.13771517729243,
          0.22663695484397983,
          0.21545290524568306,
          0.20417089785271414,
          0.0408930164657042,
          0.0705621018014645,
          0.3591451463146923,
          0.4115437338149427,
          0.4521564508598567,
          0.7227310397099486,
          0.940930320110127,
          0.9433623953771447,
          0.9192342178586371,
          0.9269287120949101,
          0.9001493400348218,
          0.7486883017636721,
          0.7662467449074513,
          0.7898932176717601,
          0.5144605869381663,
          0.6430419429966692,
          0.7129950213719363,
          0.7094213743477947,
          0.7265948017901491,
          0.8145614802897556,
          0.8236597932914284,
          0.976749500283471,
          0.9572295168403611,
          0.7190453934216301,
          0.6479836710703855,
          0.5923085811579438
         ]
        }
       ],
       "layout": {
        "height": 600,
        "template": {
         "data": {
          "bar": [
           {
            "error_x": {
             "color": "#2a3f5f"
            },
            "error_y": {
             "color": "#2a3f5f"
            },
            "marker": {
             "line": {
              "color": "#E5ECF6",
              "width": 0.5
             },
             "pattern": {
              "fillmode": "overlay",
              "size": 10,
              "solidity": 0.2
             }
            },
            "type": "bar"
           }
          ],
          "barpolar": [
           {
            "marker": {
             "line": {
              "color": "#E5ECF6",
              "width": 0.5
             },
             "pattern": {
              "fillmode": "overlay",
              "size": 10,
              "solidity": 0.2
             }
            },
            "type": "barpolar"
           }
          ],
          "carpet": [
           {
            "aaxis": {
             "endlinecolor": "#2a3f5f",
             "gridcolor": "white",
             "linecolor": "white",
             "minorgridcolor": "white",
             "startlinecolor": "#2a3f5f"
            },
            "baxis": {
             "endlinecolor": "#2a3f5f",
             "gridcolor": "white",
             "linecolor": "white",
             "minorgridcolor": "white",
             "startlinecolor": "#2a3f5f"
            },
            "type": "carpet"
           }
          ],
          "choropleth": [
           {
            "colorbar": {
             "outlinewidth": 0,
             "ticks": ""
            },
            "type": "choropleth"
           }
          ],
          "contour": [
           {
            "colorbar": {
             "outlinewidth": 0,
             "ticks": ""
            },
            "colorscale": [
             [
              0,
              "#0d0887"
             ],
             [
              0.1111111111111111,
              "#46039f"
             ],
             [
              0.2222222222222222,
              "#7201a8"
             ],
             [
              0.3333333333333333,
              "#9c179e"
             ],
             [
              0.4444444444444444,
              "#bd3786"
             ],
             [
              0.5555555555555556,
              "#d8576b"
             ],
             [
              0.6666666666666666,
              "#ed7953"
             ],
             [
              0.7777777777777778,
              "#fb9f3a"
             ],
             [
              0.8888888888888888,
              "#fdca26"
             ],
             [
              1,
              "#f0f921"
             ]
            ],
            "type": "contour"
           }
          ],
          "contourcarpet": [
           {
            "colorbar": {
             "outlinewidth": 0,
             "ticks": ""
            },
            "type": "contourcarpet"
           }
          ],
          "heatmap": [
           {
            "colorbar": {
             "outlinewidth": 0,
             "ticks": ""
            },
            "colorscale": [
             [
              0,
              "#0d0887"
             ],
             [
              0.1111111111111111,
              "#46039f"
             ],
             [
              0.2222222222222222,
              "#7201a8"
             ],
             [
              0.3333333333333333,
              "#9c179e"
             ],
             [
              0.4444444444444444,
              "#bd3786"
             ],
             [
              0.5555555555555556,
              "#d8576b"
             ],
             [
              0.6666666666666666,
              "#ed7953"
             ],
             [
              0.7777777777777778,
              "#fb9f3a"
             ],
             [
              0.8888888888888888,
              "#fdca26"
             ],
             [
              1,
              "#f0f921"
             ]
            ],
            "type": "heatmap"
           }
          ],
          "heatmapgl": [
           {
            "colorbar": {
             "outlinewidth": 0,
             "ticks": ""
            },
            "colorscale": [
             [
              0,
              "#0d0887"
             ],
             [
              0.1111111111111111,
              "#46039f"
             ],
             [
              0.2222222222222222,
              "#7201a8"
             ],
             [
              0.3333333333333333,
              "#9c179e"
             ],
             [
              0.4444444444444444,
              "#bd3786"
             ],
             [
              0.5555555555555556,
              "#d8576b"
             ],
             [
              0.6666666666666666,
              "#ed7953"
             ],
             [
              0.7777777777777778,
              "#fb9f3a"
             ],
             [
              0.8888888888888888,
              "#fdca26"
             ],
             [
              1,
              "#f0f921"
             ]
            ],
            "type": "heatmapgl"
           }
          ],
          "histogram": [
           {
            "marker": {
             "pattern": {
              "fillmode": "overlay",
              "size": 10,
              "solidity": 0.2
             }
            },
            "type": "histogram"
           }
          ],
          "histogram2d": [
           {
            "colorbar": {
             "outlinewidth": 0,
             "ticks": ""
            },
            "colorscale": [
             [
              0,
              "#0d0887"
             ],
             [
              0.1111111111111111,
              "#46039f"
             ],
             [
              0.2222222222222222,
              "#7201a8"
             ],
             [
              0.3333333333333333,
              "#9c179e"
             ],
             [
              0.4444444444444444,
              "#bd3786"
             ],
             [
              0.5555555555555556,
              "#d8576b"
             ],
             [
              0.6666666666666666,
              "#ed7953"
             ],
             [
              0.7777777777777778,
              "#fb9f3a"
             ],
             [
              0.8888888888888888,
              "#fdca26"
             ],
             [
              1,
              "#f0f921"
             ]
            ],
            "type": "histogram2d"
           }
          ],
          "histogram2dcontour": [
           {
            "colorbar": {
             "outlinewidth": 0,
             "ticks": ""
            },
            "colorscale": [
             [
              0,
              "#0d0887"
             ],
             [
              0.1111111111111111,
              "#46039f"
             ],
             [
              0.2222222222222222,
              "#7201a8"
             ],
             [
              0.3333333333333333,
              "#9c179e"
             ],
             [
              0.4444444444444444,
              "#bd3786"
             ],
             [
              0.5555555555555556,
              "#d8576b"
             ],
             [
              0.6666666666666666,
              "#ed7953"
             ],
             [
              0.7777777777777778,
              "#fb9f3a"
             ],
             [
              0.8888888888888888,
              "#fdca26"
             ],
             [
              1,
              "#f0f921"
             ]
            ],
            "type": "histogram2dcontour"
           }
          ],
          "mesh3d": [
           {
            "colorbar": {
             "outlinewidth": 0,
             "ticks": ""
            },
            "type": "mesh3d"
           }
          ],
          "parcoords": [
           {
            "line": {
             "colorbar": {
              "outlinewidth": 0,
              "ticks": ""
             }
            },
            "type": "parcoords"
           }
          ],
          "pie": [
           {
            "automargin": true,
            "type": "pie"
           }
          ],
          "scatter": [
           {
            "marker": {
             "colorbar": {
              "outlinewidth": 0,
              "ticks": ""
             }
            },
            "type": "scatter"
           }
          ],
          "scatter3d": [
           {
            "line": {
             "colorbar": {
              "outlinewidth": 0,
              "ticks": ""
             }
            },
            "marker": {
             "colorbar": {
              "outlinewidth": 0,
              "ticks": ""
             }
            },
            "type": "scatter3d"
           }
          ],
          "scattercarpet": [
           {
            "marker": {
             "colorbar": {
              "outlinewidth": 0,
              "ticks": ""
             }
            },
            "type": "scattercarpet"
           }
          ],
          "scattergeo": [
           {
            "marker": {
             "colorbar": {
              "outlinewidth": 0,
              "ticks": ""
             }
            },
            "type": "scattergeo"
           }
          ],
          "scattergl": [
           {
            "marker": {
             "colorbar": {
              "outlinewidth": 0,
              "ticks": ""
             }
            },
            "type": "scattergl"
           }
          ],
          "scattermapbox": [
           {
            "marker": {
             "colorbar": {
              "outlinewidth": 0,
              "ticks": ""
             }
            },
            "type": "scattermapbox"
           }
          ],
          "scatterpolar": [
           {
            "marker": {
             "colorbar": {
              "outlinewidth": 0,
              "ticks": ""
             }
            },
            "type": "scatterpolar"
           }
          ],
          "scatterpolargl": [
           {
            "marker": {
             "colorbar": {
              "outlinewidth": 0,
              "ticks": ""
             }
            },
            "type": "scatterpolargl"
           }
          ],
          "scatterternary": [
           {
            "marker": {
             "colorbar": {
              "outlinewidth": 0,
              "ticks": ""
             }
            },
            "type": "scatterternary"
           }
          ],
          "surface": [
           {
            "colorbar": {
             "outlinewidth": 0,
             "ticks": ""
            },
            "colorscale": [
             [
              0,
              "#0d0887"
             ],
             [
              0.1111111111111111,
              "#46039f"
             ],
             [
              0.2222222222222222,
              "#7201a8"
             ],
             [
              0.3333333333333333,
              "#9c179e"
             ],
             [
              0.4444444444444444,
              "#bd3786"
             ],
             [
              0.5555555555555556,
              "#d8576b"
             ],
             [
              0.6666666666666666,
              "#ed7953"
             ],
             [
              0.7777777777777778,
              "#fb9f3a"
             ],
             [
              0.8888888888888888,
              "#fdca26"
             ],
             [
              1,
              "#f0f921"
             ]
            ],
            "type": "surface"
           }
          ],
          "table": [
           {
            "cells": {
             "fill": {
              "color": "#EBF0F8"
             },
             "line": {
              "color": "white"
             }
            },
            "header": {
             "fill": {
              "color": "#C8D4E3"
             },
             "line": {
              "color": "white"
             }
            },
            "type": "table"
           }
          ]
         },
         "layout": {
          "annotationdefaults": {
           "arrowcolor": "#2a3f5f",
           "arrowhead": 0,
           "arrowwidth": 1
          },
          "autotypenumbers": "strict",
          "coloraxis": {
           "colorbar": {
            "outlinewidth": 0,
            "ticks": ""
           }
          },
          "colorscale": {
           "diverging": [
            [
             0,
             "#8e0152"
            ],
            [
             0.1,
             "#c51b7d"
            ],
            [
             0.2,
             "#de77ae"
            ],
            [
             0.3,
             "#f1b6da"
            ],
            [
             0.4,
             "#fde0ef"
            ],
            [
             0.5,
             "#f7f7f7"
            ],
            [
             0.6,
             "#e6f5d0"
            ],
            [
             0.7,
             "#b8e186"
            ],
            [
             0.8,
             "#7fbc41"
            ],
            [
             0.9,
             "#4d9221"
            ],
            [
             1,
             "#276419"
            ]
           ],
           "sequential": [
            [
             0,
             "#0d0887"
            ],
            [
             0.1111111111111111,
             "#46039f"
            ],
            [
             0.2222222222222222,
             "#7201a8"
            ],
            [
             0.3333333333333333,
             "#9c179e"
            ],
            [
             0.4444444444444444,
             "#bd3786"
            ],
            [
             0.5555555555555556,
             "#d8576b"
            ],
            [
             0.6666666666666666,
             "#ed7953"
            ],
            [
             0.7777777777777778,
             "#fb9f3a"
            ],
            [
             0.8888888888888888,
             "#fdca26"
            ],
            [
             1,
             "#f0f921"
            ]
           ],
           "sequentialminus": [
            [
             0,
             "#0d0887"
            ],
            [
             0.1111111111111111,
             "#46039f"
            ],
            [
             0.2222222222222222,
             "#7201a8"
            ],
            [
             0.3333333333333333,
             "#9c179e"
            ],
            [
             0.4444444444444444,
             "#bd3786"
            ],
            [
             0.5555555555555556,
             "#d8576b"
            ],
            [
             0.6666666666666666,
             "#ed7953"
            ],
            [
             0.7777777777777778,
             "#fb9f3a"
            ],
            [
             0.8888888888888888,
             "#fdca26"
            ],
            [
             1,
             "#f0f921"
            ]
           ]
          },
          "colorway": [
           "#636efa",
           "#EF553B",
           "#00cc96",
           "#ab63fa",
           "#FFA15A",
           "#19d3f3",
           "#FF6692",
           "#B6E880",
           "#FF97FF",
           "#FECB52"
          ],
          "font": {
           "color": "#2a3f5f"
          },
          "geo": {
           "bgcolor": "white",
           "lakecolor": "white",
           "landcolor": "#E5ECF6",
           "showlakes": true,
           "showland": true,
           "subunitcolor": "white"
          },
          "hoverlabel": {
           "align": "left"
          },
          "hovermode": "closest",
          "mapbox": {
           "style": "light"
          },
          "paper_bgcolor": "white",
          "plot_bgcolor": "#E5ECF6",
          "polar": {
           "angularaxis": {
            "gridcolor": "white",
            "linecolor": "white",
            "ticks": ""
           },
           "bgcolor": "#E5ECF6",
           "radialaxis": {
            "gridcolor": "white",
            "linecolor": "white",
            "ticks": ""
           }
          },
          "scene": {
           "xaxis": {
            "backgroundcolor": "#E5ECF6",
            "gridcolor": "white",
            "gridwidth": 2,
            "linecolor": "white",
            "showbackground": true,
            "ticks": "",
            "zerolinecolor": "white"
           },
           "yaxis": {
            "backgroundcolor": "#E5ECF6",
            "gridcolor": "white",
            "gridwidth": 2,
            "linecolor": "white",
            "showbackground": true,
            "ticks": "",
            "zerolinecolor": "white"
           },
           "zaxis": {
            "backgroundcolor": "#E5ECF6",
            "gridcolor": "white",
            "gridwidth": 2,
            "linecolor": "white",
            "showbackground": true,
            "ticks": "",
            "zerolinecolor": "white"
           }
          },
          "shapedefaults": {
           "line": {
            "color": "#2a3f5f"
           }
          },
          "ternary": {
           "aaxis": {
            "gridcolor": "white",
            "linecolor": "white",
            "ticks": ""
           },
           "baxis": {
            "gridcolor": "white",
            "linecolor": "white",
            "ticks": ""
           },
           "bgcolor": "#E5ECF6",
           "caxis": {
            "gridcolor": "white",
            "linecolor": "white",
            "ticks": ""
           }
          },
          "title": {
           "x": 0.05
          },
          "xaxis": {
           "automargin": true,
           "gridcolor": "white",
           "linecolor": "white",
           "ticks": "",
           "title": {
            "standoff": 15
           },
           "zerolinecolor": "white",
           "zerolinewidth": 2
          },
          "yaxis": {
           "automargin": true,
           "gridcolor": "white",
           "linecolor": "white",
           "ticks": "",
           "title": {
            "standoff": 15
           },
           "zerolinecolor": "white",
           "zerolinewidth": 2
          }
         }
        },
        "width": 800,
        "xaxis": {
         "autorange": true,
         "range": [
          -0.05935432162202353,
          1.0475863205514737
         ],
         "showticklabels": false,
         "type": "linear"
        },
        "yaxis": {
         "autorange": true,
         "range": [
          -0.030865956902449837,
          1.0554521926075828
         ],
         "showticklabels": false,
         "type": "linear"
        }
       }
      },
      "image/png": "[encoded data removed]",
      "text/html": [
       "<div>                            <div id=\"bd9e2ee0-5bc4-438f-a38c-3a5d36bafdd9\" class=\"plotly-graph-div\" style=\"height:600px; width:800px;\"></div>            <script type=\"text/javascript\">                require([\"plotly\"], function(Plotly) {                    window.PLOTLYENV=window.PLOTLYENV || {};                                    if (document.getElementById(\"bd9e2ee0-5bc4-438f-a38c-3a5d36bafdd9\")) {                    Plotly.newPlot(                        \"bd9e2ee0-5bc4-438f-a38c-3a5d36bafdd9\",                        [{\"mode\":\"markers\",\"name\":\"Cities\",\"x\":[0.8100587208387919,0.12510476818504312,0.6866066170743139,0.7824726007308408,0.28364556747204595,0.10621716340922804,0.7097279124498955,0.1126578379515023,0.7122170460167786,0.5572122042038384,0.5621866543753284,0.9682855682580834,0.6395942692765056,0.899334477317284,0.5455134623521591,0.1834643416304248,0.0034052594297774297,0.7502241122660801,0.6796378429843257,0.7315024955660715,0.42129521670683123,0.7147450759148989,0.9710773925195391,0.47126604068542666,0.9641797851059786,0.12808667459069834,0.7930987768073288,0.7335804111781163,0.4320912019679575,0.4899146693643722,0.29108217048556695,0.10731981491238474,0.32117242495689047,0.7604986147422026,0.23668684529955675,0.3598609482869747,0.2029267288418607,0.44993844197868216,0.3935778156660623,0.560422668936806,0.6141409480642765,0.2700999826057213,0.5825134499271577,0.19931639843156024,0.39591219519868526,0.23614697278074004,0.730553622447236,0.19743642567735142,0.538580744927778,0.5404133122903922,0.06960673346048396,0.12634353545560628,0.47959396378074837,0.7925504662339139,0.1222532067716593,0.3461846609300645,0.40971714289189565,0.7437333351378206,0.19001803103724157,0.6134137692977178,0.3808699101162266,0.014690719506381678,0.88041399551388,0.339581004317713,0.7862380728551284,0.7356894832844127,0.9728978703924406,0.5740946678476263,0.09619766627894588,0.21815699431241298,0.5897931652724042,0.2434701176419869,0.1844763034877478,0.8724067302063733,0.5935713983018341,0.871065880894046,0.49626125520931286,0.35382110683387724,0.8471329281501045,0.8368052792369964,0.2491574941930791,0.494552999679161,0.3311611163169167,0.1653720253729618,0.14536519867460174,0.9848267394996728,0.7416412256916849,0.6080966110195061,0.9845521865390264,0.7131875112832233],\"y\":[0.15313718907360874,0.8145614802897556,0.7894457892535641,0.8361629552598312,0.5025373898835904,0.18037337295958678,0.8848408460590991,0.6430419429966692,0.8127694767714058,0.728868974284052,0.9269287120949101,0.6479836710703855,0.9192342178586371,0.3696446793053202,0.9433623953771447,0.7265948017901491,0.7898932176717601,0.27711039144445415,0.6982940606250577,0.8805207031171653,0.0408930164657042,0.03314921976510565,0.433608994463881,0.13600404326852322,0.13290819983619595,0.7129950213719363,0.3113287960949539,0.976749500283471,0.3510277723354597,0.8152572309202584,0.4165646624489464,0.7662467449074513,0.22663695484397983,0.6391953022683073,0.4115437338149427,0.20417089785271414,0.1681674799520565,0.09685169650061098,0.0705621018014645,0.04250968227771634,0.09659917047641975,0.37559701985537086,0.227799661650526,0.20646284213661825,0.9001493400348218,0.3591451463146923,0.9572295168403611,0.7094213743477947,0.2464782953907746,0.11684407739300551,0.5144605869381663,0.7486883017636721,0.1252016916453288,0.5177612616606488,0.8236597932914284,0.38280091789094195,0.6707328430609782,0.6091303237064979,0.07651016922893972,0.6538844982124137,0.4621093928736598,0.07106101604351722,0.5842644974654684,0.21545290524568306,0.20198634873971855,0.34108930341327104,0.7190453934216301,0.4648558734822964,0.11266247165373744,0.13771517729243,0.13100721216426747,0.9855951982040423,0.14460432660994382,0.5498161699493295,0.2478000528015143,0.9771008580173107,0.940930320110127,0.5439701013770781,0.5500747308023718,0.12969549319300766,0.06644760501847968,0.5111501999749392,0.7227310397099486,0.4521564508598567,0.9724122806233905,0.9914370159400273,0.922281449034195,0.4731988653918252,0.5923085811579438,0.9047043590927412],\"type\":\"scatter\"},{\"mode\":\"lines\",\"name\":\"Initial path\",\"visible\":\"legendonly\",\"x\":[0.8100587208387919,0.12510476818504312,0.6866066170743139,0.7824726007308408,0.28364556747204595,0.10621716340922804,0.7097279124498955,0.1126578379515023,0.7122170460167786,0.5572122042038384,0.5621866543753284,0.9682855682580834,0.6395942692765056,0.899334477317284,0.5455134623521591,0.1834643416304248,0.0034052594297774297,0.7502241122660801,0.6796378429843257,0.7315024955660715,0.42129521670683123,0.7147450759148989,0.9710773925195391,0.47126604068542666,0.9641797851059786,0.12808667459069834,0.7930987768073288,0.7335804111781163,0.4320912019679575,0.4899146693643722,0.29108217048556695,0.10731981491238474,0.32117242495689047,0.7604986147422026,0.23668684529955675,0.3598609482869747,0.2029267288418607,0.44993844197868216,0.3935778156660623,0.560422668936806,0.6141409480642765,0.2700999826057213,0.5825134499271577,0.19931639843156024,0.39591219519868526,0.23614697278074004,0.730553622447236,0.19743642567735142,0.538580744927778,0.5404133122903922,0.06960673346048396,0.12634353545560628,0.47959396378074837,0.7925504662339139,0.1222532067716593,0.3461846609300645,0.40971714289189565,0.7437333351378206,0.19001803103724157,0.6134137692977178,0.3808699101162266,0.014690719506381678,0.88041399551388,0.339581004317713,0.7862380728551284,0.7356894832844127,0.9728978703924406,0.5740946678476263,0.09619766627894588,0.21815699431241298,0.5897931652724042,0.2434701176419869,0.1844763034877478,0.8724067302063733,0.5935713983018341,0.871065880894046,0.49626125520931286,0.35382110683387724,0.8471329281501045,0.8368052792369964,0.2491574941930791,0.494552999679161,0.3311611163169167,0.1653720253729618,0.14536519867460174,0.9848267394996728,0.7416412256916849,0.6080966110195061,0.9845521865390264,0.7131875112832233],\"y\":[0.15313718907360874,0.8145614802897556,0.7894457892535641,0.8361629552598312,0.5025373898835904,0.18037337295958678,0.8848408460590991,0.6430419429966692,0.8127694767714058,0.728868974284052,0.9269287120949101,0.6479836710703855,0.9192342178586371,0.3696446793053202,0.9433623953771447,0.7265948017901491,0.7898932176717601,0.27711039144445415,0.6982940606250577,0.8805207031171653,0.0408930164657042,0.03314921976510565,0.433608994463881,0.13600404326852322,0.13290819983619595,0.7129950213719363,0.3113287960949539,0.976749500283471,0.3510277723354597,0.8152572309202584,0.4165646624489464,0.7662467449074513,0.22663695484397983,0.6391953022683073,0.4115437338149427,0.20417089785271414,0.1681674799520565,0.09685169650061098,0.0705621018014645,0.04250968227771634,0.09659917047641975,0.37559701985537086,0.227799661650526,0.20646284213661825,0.9001493400348218,0.3591451463146923,0.9572295168403611,0.7094213743477947,0.2464782953907746,0.11684407739300551,0.5144605869381663,0.7486883017636721,0.1252016916453288,0.5177612616606488,0.8236597932914284,0.38280091789094195,0.6707328430609782,0.6091303237064979,0.07651016922893972,0.6538844982124137,0.4621093928736598,0.07106101604351722,0.5842644974654684,0.21545290524568306,0.20198634873971855,0.34108930341327104,0.7190453934216301,0.4648558734822964,0.11266247165373744,0.13771517729243,0.13100721216426747,0.9855951982040423,0.14460432660994382,0.5498161699493295,0.2478000528015143,0.9771008580173107,0.940930320110127,0.5439701013770781,0.5500747308023718,0.12969549319300766,0.06644760501847968,0.5111501999749392,0.7227310397099486,0.4521564508598567,0.9724122806233905,0.9914370159400273,0.922281449034195,0.4731988653918252,0.5923085811579438,0.9047043590927412],\"type\":\"scatter\"},{\"mode\":\"lines\",\"name\":\"Optimized path\",\"x\":[0.014690719506381678,0.19001803103724157,0.2491574941930791,0.560422668936806,0.9641797851059786,0.9710773925195391,0.88041399551388,0.7824726007308408,0.7315024955660715,0.7131875112832233,0.7097279124498955,0.7122170460167786,0.8724067302063733,0.899334477317284,0.7862380728551284,0.8100587208387919,0.8368052792369964,0.7147450759148989,0.6141409480642765,0.5825134499271577,0.5740946678476263,0.6080966110195061,0.7925504662339139,0.8471329281501045,0.7437333351378206,0.7604986147422026,0.4899146693643722,0.2434701176419869,0.14536519867460174,0.28364556747204595,0.3461846609300645,0.4320912019679575,0.538580744927778,0.5935713983018341,0.7356894832844127,0.7930987768073288,0.7502241122660801,0.5897931652724042,0.5404133122903922,0.47959396378074837,0.44993844197868216,0.47126604068542666,0.3808699101162266,0.35382110683387724,0.40971714289189565,0.5572122042038384,0.6796378429843257,0.6866066170743139,0.7416412256916849,0.871065880894046,0.9848267394996728,0.6134137692977178,0.494552999679161,0.29108217048556695,0.2700999826057213,0.19931639843156024,0.2029267288418607,0.1844763034877478,0.10621716340922804,0.09619766627894588,0.21815699431241298,0.32117242495689047,0.339581004317713,0.3598609482869747,0.42129521670683123,0.3935778156660623,0.23614697278074004,0.23668684529955675,0.1653720253729618,0.3311611163169167,0.49626125520931286,0.5455134623521591,0.6395942692765056,0.5621866543753284,0.39591219519868526,0.12634353545560628,0.10731981491238474,0.0034052594297774297,0.06960673346048396,0.1126578379515023,0.12808667459069834,0.19743642567735142,0.1834643416304248,0.12510476818504312,0.1222532067716593,0.7335804111781163,0.730553622447236,0.9728978703924406,0.9682855682580834,0.9845521865390264],\"y\":[0.07106101604351722,0.07651016922893972,0.06644760501847968,0.04250968227771634,0.13290819983619595,0.433608994463881,0.5842644974654684,0.8361629552598312,0.8805207031171653,0.9047043590927412,0.8848408460590991,0.8127694767714058,0.5498161699493295,0.3696446793053202,0.20198634873971855,0.15313718907360874,0.12969549319300766,0.03314921976510565,0.09659917047641975,0.227799661650526,0.4648558734822964,0.4731988653918252,0.5177612616606488,0.5500747308023718,0.6091303237064979,0.6391953022683073,0.8152572309202584,0.9855951982040423,0.9724122806233905,0.5025373898835904,0.38280091789094195,0.3510277723354597,0.2464782953907746,0.2478000528015143,0.34108930341327104,0.3113287960949539,0.27711039144445415,0.13100721216426747,0.11684407739300551,0.1252016916453288,0.09685169650061098,0.13600404326852322,0.4621093928736598,0.5439701013770781,0.6707328430609782,0.728868974284052,0.6982940606250577,0.7894457892535641,0.922281449034195,0.9771008580173107,0.9914370159400273,0.6538844982124137,0.5111501999749392,0.4165646624489464,0.37559701985537086,0.20646284213661825,0.1681674799520565,0.14460432660994382,0.18037337295958678,0.11266247165373744,0.13771517729243,0.22663695484397983,0.21545290524568306,0.20417089785271414,0.0408930164657042,0.0705621018014645,0.3591451463146923,0.4115437338149427,0.4521564508598567,0.7227310397099486,0.940930320110127,0.9433623953771447,0.9192342178586371,0.9269287120949101,0.9001493400348218,0.7486883017636721,0.7662467449074513,0.7898932176717601,0.5144605869381663,0.6430419429966692,0.7129950213719363,0.7094213743477947,0.7265948017901491,0.8145614802897556,0.8236597932914284,0.976749500283471,0.9572295168403611,0.7190453934216301,0.6479836710703855,0.5923085811579438],\"type\":\"scatter\"}],                        {\"template\":{\"data\":{\"bar\":[{\"error_x\":{\"color\":\"#2a3f5f\"},\"error_y\":{\"color\":\"#2a3f5f\"},\"marker\":{\"line\":{\"color\":\"#E5ECF6\",\"width\":0.5},\"pattern\":{\"fillmode\":\"overlay\",\"size\":10,\"solidity\":0.2}},\"type\":\"bar\"}],\"barpolar\":[{\"marker\":{\"line\":{\"color\":\"#E5ECF6\",\"width\":0.5},\"pattern\":{\"fillmode\":\"overlay\",\"size\":10,\"solidity\":0.2}},\"type\":\"barpolar\"}],\"carpet\":[{\"aaxis\":{\"endlinecolor\":\"#2a3f5f\",\"gridcolor\":\"white\",\"linecolor\":\"white\",\"minorgridcolor\":\"white\",\"startlinecolor\":\"#2a3f5f\"},\"baxis\":{\"endlinecolor\":\"#2a3f5f\",\"gridcolor\":\"white\",\"linecolor\":\"white\",\"minorgridcolor\":\"white\",\"startlinecolor\":\"#2a3f5f\"},\"type\":\"carpet\"}],\"choropleth\":[{\"colorbar\":{\"outlinewidth\":0,\"ticks\":\"\"},\"type\":\"choropleth\"}],\"contour\":[{\"colorbar\":{\"outlinewidth\":0,\"ticks\":\"\"},\"colorscale\":[[0.0,\"#0d0887\"],[0.1111111111111111,\"#46039f\"],[0.2222222222222222,\"#7201a8\"],[0.3333333333333333,\"#9c179e\"],[0.4444444444444444,\"#bd3786\"],[0.5555555555555556,\"#d8576b\"],[0.6666666666666666,\"#ed7953\"],[0.7777777777777778,\"#fb9f3a\"],[0.8888888888888888,\"#fdca26\"],[1.0,\"#f0f921\"]],\"type\":\"contour\"}],\"contourcarpet\":[{\"colorbar\":{\"outlinewidth\":0,\"ticks\":\"\"},\"type\":\"contourcarpet\"}],\"heatmap\":[{\"colorbar\":{\"outlinewidth\":0,\"ticks\":\"\"},\"colorscale\":[[0.0,\"#0d0887\"],[0.1111111111111111,\"#46039f\"],[0.2222222222222222,\"#7201a8\"],[0.3333333333333333,\"#9c179e\"],[0.4444444444444444,\"#bd3786\"],[0.5555555555555556,\"#d8576b\"],[0.6666666666666666,\"#ed7953\"],[0.7777777777777778,\"#fb9f3a\"],[0.8888888888888888,\"#fdca26\"],[1.0,\"#f0f921\"]],\"type\":\"heatmap\"}],\"heatmapgl\":[{\"colorbar\":{\"outlinewidth\":0,\"ticks\":\"\"},\"colorscale\":[[0.0,\"#0d0887\"],[0.1111111111111111,\"#46039f\"],[0.2222222222222222,\"#7201a8\"],[0.3333333333333333,\"#9c179e\"],[0.4444444444444444,\"#bd3786\"],[0.5555555555555556,\"#d8576b\"],[0.6666666666666666,\"#ed7953\"],[0.7777777777777778,\"#fb9f3a\"],[0.8888888888888888,\"#fdca26\"],[1.0,\"#f0f921\"]],\"type\":\"heatmapgl\"}],\"histogram\":[{\"marker\":{\"pattern\":{\"fillmode\":\"overlay\",\"size\":10,\"solidity\":0.2}},\"type\":\"histogram\"}],\"histogram2d\":[{\"colorbar\":{\"outlinewidth\":0,\"ticks\":\"\"},\"colorscale\":[[0.0,\"#0d0887\"],[0.1111111111111111,\"#46039f\"],[0.2222222222222222,\"#7201a8\"],[0.3333333333333333,\"#9c179e\"],[0.4444444444444444,\"#bd3786\"],[0.5555555555555556,\"#d8576b\"],[0.6666666666666666,\"#ed7953\"],[0.7777777777777778,\"#fb9f3a\"],[0.8888888888888888,\"#fdca26\"],[1.0,\"#f0f921\"]],\"type\":\"histogram2d\"}],\"histogram2dcontour\":[{\"colorbar\":{\"outlinewidth\":0,\"ticks\":\"\"},\"colorscale\":[[0.0,\"#0d0887\"],[0.1111111111111111,\"#46039f\"],[0.2222222222222222,\"#7201a8\"],[0.3333333333333333,\"#9c179e\"],[0.4444444444444444,\"#bd3786\"],[0.5555555555555556,\"#d8576b\"],[0.6666666666666666,\"#ed7953\"],[0.7777777777777778,\"#fb9f3a\"],[0.8888888888888888,\"#fdca26\"],[1.0,\"#f0f921\"]],\"type\":\"histogram2dcontour\"}],\"mesh3d\":[{\"colorbar\":{\"outlinewidth\":0,\"ticks\":\"\"},\"type\":\"mesh3d\"}],\"parcoords\":[{\"line\":{\"colorbar\":{\"outlinewidth\":0,\"ticks\":\"\"}},\"type\":\"parcoords\"}],\"pie\":[{\"automargin\":true,\"type\":\"pie\"}],\"scatter\":[{\"marker\":{\"colorbar\":{\"outlinewidth\":0,\"ticks\":\"\"}},\"type\":\"scatter\"}],\"scatter3d\":[{\"line\":{\"colorbar\":{\"outlinewidth\":0,\"ticks\":\"\"}},\"marker\":{\"colorbar\":{\"outlinewidth\":0,\"ticks\":\"\"}},\"type\":\"scatter3d\"}],\"scattercarpet\":[{\"marker\":{\"colorbar\":{\"outlinewidth\":0,\"ticks\":\"\"}},\"type\":\"scattercarpet\"}],\"scattergeo\":[{\"marker\":{\"colorbar\":{\"outlinewidth\":0,\"ticks\":\"\"}},\"type\":\"scattergeo\"}],\"scattergl\":[{\"marker\":{\"colorbar\":{\"outlinewidth\":0,\"ticks\":\"\"}},\"type\":\"scattergl\"}],\"scattermapbox\":[{\"marker\":{\"colorbar\":{\"outlinewidth\":0,\"ticks\":\"\"}},\"type\":\"scattermapbox\"}],\"scatterpolar\":[{\"marker\":{\"colorbar\":{\"outlinewidth\":0,\"ticks\":\"\"}},\"type\":\"scatterpolar\"}],\"scatterpolargl\":[{\"marker\":{\"colorbar\":{\"outlinewidth\":0,\"ticks\":\"\"}},\"type\":\"scatterpolargl\"}],\"scatterternary\":[{\"marker\":{\"colorbar\":{\"outlinewidth\":0,\"ticks\":\"\"}},\"type\":\"scatterternary\"}],\"surface\":[{\"colorbar\":{\"outlinewidth\":0,\"ticks\":\"\"},\"colorscale\":[[0.0,\"#0d0887\"],[0.1111111111111111,\"#46039f\"],[0.2222222222222222,\"#7201a8\"],[0.3333333333333333,\"#9c179e\"],[0.4444444444444444,\"#bd3786\"],[0.5555555555555556,\"#d8576b\"],[0.6666666666666666,\"#ed7953\"],[0.7777777777777778,\"#fb9f3a\"],[0.8888888888888888,\"#fdca26\"],[1.0,\"#f0f921\"]],\"type\":\"surface\"}],\"table\":[{\"cells\":{\"fill\":{\"color\":\"#EBF0F8\"},\"line\":{\"color\":\"white\"}},\"header\":{\"fill\":{\"color\":\"#C8D4E3\"},\"line\":{\"color\":\"white\"}},\"type\":\"table\"}]},\"layout\":{\"annotationdefaults\":{\"arrowcolor\":\"#2a3f5f\",\"arrowhead\":0,\"arrowwidth\":1},\"autotypenumbers\":\"strict\",\"coloraxis\":{\"colorbar\":{\"outlinewidth\":0,\"ticks\":\"\"}},\"colorscale\":{\"diverging\":[[0,\"#8e0152\"],[0.1,\"#c51b7d\"],[0.2,\"#de77ae\"],[0.3,\"#f1b6da\"],[0.4,\"#fde0ef\"],[0.5,\"#f7f7f7\"],[0.6,\"#e6f5d0\"],[0.7,\"#b8e186\"],[0.8,\"#7fbc41\"],[0.9,\"#4d9221\"],[1,\"#276419\"]],\"sequential\":[[0.0,\"#0d0887\"],[0.1111111111111111,\"#46039f\"],[0.2222222222222222,\"#7201a8\"],[0.3333333333333333,\"#9c179e\"],[0.4444444444444444,\"#bd3786\"],[0.5555555555555556,\"#d8576b\"],[0.6666666666666666,\"#ed7953\"],[0.7777777777777778,\"#fb9f3a\"],[0.8888888888888888,\"#fdca26\"],[1.0,\"#f0f921\"]],\"sequentialminus\":[[0.0,\"#0d0887\"],[0.1111111111111111,\"#46039f\"],[0.2222222222222222,\"#7201a8\"],[0.3333333333333333,\"#9c179e\"],[0.4444444444444444,\"#bd3786\"],[0.5555555555555556,\"#d8576b\"],[0.6666666666666666,\"#ed7953\"],[0.7777777777777778,\"#fb9f3a\"],[0.8888888888888888,\"#fdca26\"],[1.0,\"#f0f921\"]]},\"colorway\":[\"#636efa\",\"#EF553B\",\"#00cc96\",\"#ab63fa\",\"#FFA15A\",\"#19d3f3\",\"#FF6692\",\"#B6E880\",\"#FF97FF\",\"#FECB52\"],\"font\":{\"color\":\"#2a3f5f\"},\"geo\":{\"bgcolor\":\"white\",\"lakecolor\":\"white\",\"landcolor\":\"#E5ECF6\",\"showlakes\":true,\"showland\":true,\"subunitcolor\":\"white\"},\"hoverlabel\":{\"align\":\"left\"},\"hovermode\":\"closest\",\"mapbox\":{\"style\":\"light\"},\"paper_bgcolor\":\"white\",\"plot_bgcolor\":\"#E5ECF6\",\"polar\":{\"angularaxis\":{\"gridcolor\":\"white\",\"linecolor\":\"white\",\"ticks\":\"\"},\"bgcolor\":\"#E5ECF6\",\"radialaxis\":{\"gridcolor\":\"white\",\"linecolor\":\"white\",\"ticks\":\"\"}},\"scene\":{\"xaxis\":{\"backgroundcolor\":\"#E5ECF6\",\"gridcolor\":\"white\",\"gridwidth\":2,\"linecolor\":\"white\",\"showbackground\":true,\"ticks\":\"\",\"zerolinecolor\":\"white\"},\"yaxis\":{\"backgroundcolor\":\"#E5ECF6\",\"gridcolor\":\"white\",\"gridwidth\":2,\"linecolor\":\"white\",\"showbackground\":true,\"ticks\":\"\",\"zerolinecolor\":\"white\"},\"zaxis\":{\"backgroundcolor\":\"#E5ECF6\",\"gridcolor\":\"white\",\"gridwidth\":2,\"linecolor\":\"white\",\"showbackground\":true,\"ticks\":\"\",\"zerolinecolor\":\"white\"}},\"shapedefaults\":{\"line\":{\"color\":\"#2a3f5f\"}},\"ternary\":{\"aaxis\":{\"gridcolor\":\"white\",\"linecolor\":\"white\",\"ticks\":\"\"},\"baxis\":{\"gridcolor\":\"white\",\"linecolor\":\"white\",\"ticks\":\"\"},\"bgcolor\":\"#E5ECF6\",\"caxis\":{\"gridcolor\":\"white\",\"linecolor\":\"white\",\"ticks\":\"\"}},\"title\":{\"x\":0.05},\"xaxis\":{\"automargin\":true,\"gridcolor\":\"white\",\"linecolor\":\"white\",\"ticks\":\"\",\"title\":{\"standoff\":15},\"zerolinecolor\":\"white\",\"zerolinewidth\":2},\"yaxis\":{\"automargin\":true,\"gridcolor\":\"white\",\"linecolor\":\"white\",\"ticks\":\"\",\"title\":{\"standoff\":15},\"zerolinecolor\":\"white\",\"zerolinewidth\":2}}},\"width\":800,\"height\":600,\"xaxis\":{\"showticklabels\":false},\"yaxis\":{\"showticklabels\":false}},                        {\"responsive\": true}                    ).then(function(){\n",
       "                            \n",
       "var gd = document.getElementById('bd9e2ee0-5bc4-438f-a38c-3a5d36bafdd9');\n",
       "var x = new MutationObserver(function (mutations, observer) {{\n",
       "        var display = window.getComputedStyle(gd).display;\n",
       "        if (!display || display === 'none') {{\n",
       "            console.log([gd, 'removed!']);\n",
       "            Plotly.purge(gd);\n",
       "            observer.disconnect();\n",
       "        }}\n",
       "}});\n",
       "\n",
       "// Listen for the removal of the full notebook cells\n",
       "var notebookContainer = gd.closest('#notebook-container');\n",
       "if (notebookContainer) {{\n",
       "    x.observe(notebookContainer, {childList: true});\n",
       "}}\n",
       "\n",
       "// Listen for the clearing of the current output cell\n",
       "var outputEl = gd.closest('.output');\n",
       "if (outputEl) {{\n",
       "    x.observe(outputEl, {childList: true});\n",
       "}}\n",
       "\n",
       "                        })                };                });            </script>        </div>"
      ]
     },
     "metadata": {},
     "output_type": "display_data"
    }
   ],
   "source": [
    "def plot_paths(A, order_initial, order_optimized):\n",
    "    fig = go.Figure()\n",
    "    \n",
    "    fig.add_trace(go.Scatter(x=A[:,0], y=A[:,1],\n",
    "                    mode='markers',\n",
    "                    name='Cities'))\n",
    "    fig.add_trace(go.Scatter(x=A[order_initial][:,0], y=A[order_initial][:,1],\n",
    "                    mode='lines',\n",
    "                    name='Initial path',\n",
    "                     visible='legendonly'))\n",
    "    fig.add_trace(go.Scatter(x=A[order_optimized][:,0], y=A[order_optimized][:,1],\n",
    "                    mode='lines',\n",
    "                    name='Optimized path'))\n",
    "    \n",
    "    fig.update_layout(\n",
    "        width=800,\n",
    "        height=600,\n",
    "    )\n",
    "    fig.update_xaxes(showticklabels=False)\n",
    "    fig.update_yaxes(showticklabels=False)\n",
    "    return fig\n",
    "\n",
    "plot_paths(A, order, x)"
   ]
  },
  {
   "cell_type": "code",
   "execution_count": null,
   "id": "51a6c9dc-38c9-4612-bc6f-0f86252c6472",
   "metadata": {},
   "outputs": [],
   "source": []
  },
  {
   "cell_type": "code",
   "execution_count": null,
   "id": "fec6f74d-c930-423e-83eb-8d2efec6c8bb",
   "metadata": {},
   "outputs": [],
   "source": []
  }
 ],
 "metadata": {
  "kernelspec": {
   "display_name": "Python 3 (ipykernel)",
   "language": "python",
   "name": "python3"
  },
  "language_info": {
   "codemirror_mode": {
    "name": "ipython",
    "version": 3
   },
   "file_extension": ".py",
   "mimetype": "text/x-python",
   "name": "python",
   "nbconvert_exporter": "python",
   "pygments_lexer": "ipython3",
   "version": "3.10.1"
  }
 },
 "nbformat": 4,
 "nbformat_minor": 5
}
